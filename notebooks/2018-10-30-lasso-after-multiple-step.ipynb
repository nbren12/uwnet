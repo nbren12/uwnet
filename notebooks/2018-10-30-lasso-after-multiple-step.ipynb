{
 "cells": [
  {
   "cell_type": "markdown",
   "metadata": {},
   "source": [
    "Can we train a machine learning model on top of the neural network that improves the Q2 prediction from a model traind with multiple time steps?"
   ]
  },
  {
   "cell_type": "code",
   "execution_count": null,
   "metadata": {},
   "outputs": [],
   "source": [
    "import torch\n",
    "from uwnet.columns import single_column_simulation\n",
    "\n",
    "ds = xr.open_dataset(\"../data/processed/training.nc\").isel(y=slice(24, 40))\n",
    "model = torch.load(\"../models/150/2.pkl\")\n",
    "\n",
    "output = model.call_with_xr(ds)\n",
    "\n",
    "dt = .125 * 86400\n",
    "\n",
    "q1 = (ds.SLI.shift(time=-1) - ds.SLI)/dt - (ds.FSLI + ds.FSLI.shift(time=-1))/2\n",
    "q2 = (ds.QT.shift(time=-1) - ds.QT)/dt - (ds.FQT + ds.FQT.shift(time=-1))/2\n",
    "q2 = q2.dropna('time')"
   ]
  },
  {
   "cell_type": "markdown",
   "metadata": {},
   "source": [
    "# Compare Q1 and predicted Q1"
   ]
  },
  {
   "cell_type": "code",
   "execution_count": null,
   "metadata": {},
   "outputs": [],
   "source": [
    "output.SLI[:,:,8,0].plot(x='time')"
   ]
  },
  {
   "cell_type": "code",
   "execution_count": null,
   "metadata": {},
   "outputs": [],
   "source": [
    "q1[:,:,8,0].plot(x='time')"
   ]
  },
  {
   "cell_type": "markdown",
   "metadata": {},
   "source": [
    "There are much less problems with the temperature field."
   ]
  },
  {
   "cell_type": "markdown",
   "metadata": {},
   "source": [
    "# Compare Q2 and predicted Q2"
   ]
  },
  {
   "cell_type": "code",
   "execution_count": null,
   "metadata": {},
   "outputs": [],
   "source": [
    "output.QT.isel(y=8, x=0).plot(x='time')"
   ]
  },
  {
   "cell_type": "markdown",
   "metadata": {},
   "source": [
    "Here is the true value of Q2."
   ]
  },
  {
   "cell_type": "code",
   "execution_count": null,
   "metadata": {},
   "outputs": [],
   "source": [
    "q2.isel(y=8, x=0).plot(x='time')"
   ]
  },
  {
   "cell_type": "markdown",
   "metadata": {},
   "source": [
    "Again there are problems with the humidity in the upper troposphere."
   ]
  },
  {
   "cell_type": "markdown",
   "metadata": {},
   "source": [
    "# Debiasing using Lasso"
   ]
  },
  {
   "cell_type": "code",
   "execution_count": null,
   "metadata": {},
   "outputs": [],
   "source": [
    "x, y = xr.broadcast(output.QT[:-1]/86400, q2)\n",
    "\n",
    "x = x.stack(samples=['y', 'x', 'time']).values.T\n",
    "y = y.stack(samples=['y', 'x', 'time']).values.T\n",
    "\n",
    "n,m =x.shape\n",
    "\n",
    "subset = 100000\n",
    "\n",
    "inds = np.random.choice(n, subset)\n",
    "\n",
    "x = x.take(inds, axis=0)\n",
    "y = y.take(inds, axis=0)\n",
    "\n",
    "from sklearn.linear_model import LinearRegression, Lasso, Ridge\n",
    "\n",
    "mod = Lasso(fit_intercept=True, alpha=1.2e-10).fit(x, y)\n",
    "print(mod.score(x, y))\n",
    "a = mod.coef_\n",
    "\n",
    "plt.pcolormesh(a)\n",
    "plt.colorbar()\n",
    "\n",
    "np.abs(np.linalg.eigvals(a)).max()"
   ]
  },
  {
   "cell_type": "markdown",
   "metadata": {},
   "source": [
    "This shows pretty good results. As long as the maximum eigenvalue of this matrix is less than 0, I assume that it will produce good predictions, and should be stable after running for multiple time steps."
   ]
  },
  {
   "cell_type": "code",
   "execution_count": null,
   "metadata": {},
   "outputs": [],
   "source": [
    "qt_loc = output.QT[:,:,8,0].values\n",
    "qt_pred_lasso = mod.predict(qt_loc[:-1])"
   ]
  },
  {
   "cell_type": "code",
   "execution_count": null,
   "metadata": {},
   "outputs": [],
   "source": [
    "def plot(x):\n",
    "    plt.pcolormesh(output.time, output.z, x.T, vmin=-20, vmax=20, cmap='RdBu_r')\n",
    "\n",
    "plot(qt_pred_lasso)\n",
    "plt.colorbar()"
   ]
  },
  {
   "cell_type": "markdown",
   "metadata": {},
   "source": [
    "## Scatter origina model + LASSO vs Q2"
   ]
  },
  {
   "cell_type": "code",
   "execution_count": null,
   "metadata": {},
   "outputs": [],
   "source": [
    "q2_loc = q2.isel(y=8, x=0).values"
   ]
  },
  {
   "cell_type": "code",
   "execution_count": null,
   "metadata": {},
   "outputs": [],
   "source": [
    "plt.scatter(qt_pred_lasso, q2_loc.ravel()*86400, alpha=.01)\n",
    "plt.plot([-30, 30], [-30, 30], c='k')"
   ]
  },
  {
   "cell_type": "markdown",
   "metadata": {},
   "source": [
    "## Scatter plot of the original model vs Q2"
   ]
  },
  {
   "cell_type": "code",
   "execution_count": null,
   "metadata": {},
   "outputs": [],
   "source": [
    "plt.scatter(qt_loc[:-1].ravel(), q2_loc.ravel()*86400, alpha=.01)\n",
    "plt.plot([-30, 30], [-30, 30], c='k')"
   ]
  },
  {
   "cell_type": "markdown",
   "metadata": {},
   "source": [
    "The LASSO signifnicantly hurts the instanstaeneous prediction of the scheme."
   ]
  }
 ],
 "metadata": {
  "kernelspec": {
   "display_name": "Python 3",
   "language": "python",
   "name": "python3"
  },
  "language_info": {
   "codemirror_mode": {
    "name": "ipython",
    "version": 3
   },
   "file_extension": ".py",
   "mimetype": "text/x-python",
   "name": "python",
   "nbconvert_exporter": "python",
   "pygments_lexer": "ipython3",
   "version": "3.6.6"
  }
 },
 "nbformat": 4,
 "nbformat_minor": 2
}
