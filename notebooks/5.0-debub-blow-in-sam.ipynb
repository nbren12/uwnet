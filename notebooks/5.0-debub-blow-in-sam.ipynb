{
 "cells": [
  {
   "cell_type": "code",
   "execution_count": null,
   "metadata": {},
   "outputs": [],
   "source": [
    "plt.rcParams['axes.prop_cycle'] = plt.cycler(color=plt.cm.viridis(np.linspace(0, 1, 6)))"
   ]
  },
  {
   "cell_type": "markdown",
   "metadata": {},
   "source": [
    "By reducing the batch size, I was able to train a version of the neural network which did not produce long term bias in a single column simulation. Now, I just have to get this network working with SAM. This is challenging becaus I refactored all my code.\n",
    "\n",
    "I ran a SAM simulation, but it is quickly blowing up, and I cannot figure out why."
   ]
  },
  {
   "cell_type": "code",
   "execution_count": null,
   "metadata": {},
   "outputs": [],
   "source": [
    "path = \"../data/runs/2018-10-23-NN/OUT_3D/*.nc\"\n",
    "\n",
    "\n",
    "data_3d = xr.open_mfdataset(path)"
   ]
  },
  {
   "cell_type": "code",
   "execution_count": null,
   "metadata": {},
   "outputs": [],
   "source": [
    "data_3d.FQTNN[1,11].plot()"
   ]
  },
  {
   "cell_type": "markdown",
   "metadata": {},
   "source": [
    "The neural networks predicted moistening seems quite reasonable the first time it is computed."
   ]
  },
  {
   "cell_type": "markdown",
   "metadata": {},
   "source": [
    "But here it is after just one more time step:"
   ]
  },
  {
   "cell_type": "code",
   "execution_count": null,
   "metadata": {},
   "outputs": [],
   "source": [
    "data_3d.FQTNN[2,11].plot()"
   ]
  },
  {
   "cell_type": "markdown",
   "metadata": {},
   "source": [
    "There is "
   ]
  },
  {
   "cell_type": "markdown",
   "metadata": {},
   "source": [
    "This shows that something is going terrible wrong after a single time step. I bet this problem is caused by an incompatability in the FQT and FSLI used to train the neural network, and the current configuration of the model. I changed the SGS scheme in the boundary layer of the model following some advice of Peter's. Here is the description:\n",
    "\n",
    "    commit c44881b1fc6f55637aaf46a752a7e549903957b4\n",
    "    Author: Noah D. Brenowitz <nbren12@gmail.com>\n",
    "    Date:   Mon Sep 10 18:13:24 2018 -0700\n",
    "\n",
    "        Changing damping and SGS schemes\n",
    "\n",
    "        I increased the time-scales of the sponge layer, and modified the surface scheme\n",
    "        to only compute the momentum flux. The temperature and humidity fluxes are fixed\n",
    "        at 0. This improves the schemes performance in the boundary layer, but not so\n",
    "        much elsewhere.\n",
    "        \n",
    "Actually, I don't think this is true since the newest version of the data was generated after this commit. \n",
    "        \n",
    "This change would alter how things are looking at the bottom of the atmosphere. Let's look at the humidity there at time step 1 and time step 2:"
   ]
  },
  {
   "cell_type": "code",
   "execution_count": null,
   "metadata": {},
   "outputs": [],
   "source": [
    "data_3d.QT[0,0].plot()"
   ]
  },
  {
   "cell_type": "code",
   "execution_count": null,
   "metadata": {},
   "outputs": [],
   "source": [
    "data_3d.QT[1,0].plot()"
   ]
  },
  {
   "cell_type": "markdown",
   "metadata": {},
   "source": [
    "There is a huge difference in the moisutre after only 10 seconds. Also, this should not be effected by the neural network because it is only one time-step later. Let's check this is true by running the simulation w/o the net."
   ]
  },
  {
   "cell_type": "code",
   "execution_count": null,
   "metadata": {},
   "outputs": [],
   "source": [
    "data_3d_no_nn = xr.open_mfdataset(\"../data/runs/2018-10-23-noNN/OUT_3D/*.nc\")"
   ]
  },
  {
   "cell_type": "code",
   "execution_count": null,
   "metadata": {},
   "outputs": [],
   "source": [
    "data_3d_no_nn.QT[1,0].plot()"
   ]
  },
  {
   "cell_type": "markdown",
   "metadata": {},
   "source": [
    "Actually, there is almost no change at all without the neural net. Therefore, there must be something wrong with the size of the time step that the network is taking. Otherwise it would not be able to change the state that much! Maybe there is some unit conversion error."
   ]
  },
  {
   "cell_type": "code",
   "execution_count": null,
   "metadata": {},
   "outputs": [],
   "source": [
    "qt_pred = data_3d.QT[0] + data_3d.FQTNN[1] * 10.0 * 1000.0 "
   ]
  },
  {
   "cell_type": "code",
   "execution_count": null,
   "metadata": {},
   "outputs": [],
   "source": [
    "qt_pred[0].plot()"
   ]
  },
  {
   "cell_type": "markdown",
   "metadata": {},
   "source": [
    "This is the problem exactly. Why is the moistening predicted to be sooo strong in the boundary layer. Here is the domain mean of FQTNN near the boundary layer:"
   ]
  },
  {
   "cell_type": "code",
   "execution_count": null,
   "metadata": {},
   "outputs": [],
   "source": [
    "(86400 * data_3d.FQTNN[1].mean(['x', 'y'])).plot(y='z')\n",
    "plt.ylim([0,2000])\n",
    "plt.xlabel('FQTNN (g/kg/day)')"
   ]
  },
  {
   "cell_type": "markdown",
   "metadata": {},
   "source": [
    "There must be some factor 1000 error in these rates. I am not sure why this is happening though."
   ]
  },
  {
   "cell_type": "markdown",
   "metadata": {},
   "source": [
    "I found the error. Near line 316 in `model.py`\n",
    "```python\n",
    "            apparent_src = nn_output.pop(key) / 86400\n",
    "            prog[key] = prog[key] + apparent_src * self.time_step\n",
    "            # store neural network diagnostics for layer\n",
    "            nn_output['F' + key + 'NN'] = apparent_src\n",
    "```\n",
    "\n",
    "Intead of using the new dt I am using the stored time_step."
   ]
  },
  {
   "cell_type": "markdown",
   "metadata": {},
   "source": [
    "# Fixing this blow-up"
   ]
  },
  {
   "cell_type": "markdown",
   "metadata": {},
   "source": [
    "I fixed this bug and started another experiment, which also quits after 1day. Maybe I can fix this by decreasing the time step."
   ]
  },
  {
   "cell_type": "code",
   "execution_count": null,
   "metadata": {},
   "outputs": [],
   "source": [
    "ds_fixed =xr.open_mfdataset(\"../data/runs/2018-10-23-fix-dt-bug/OUT_3D/*.nc\")\n",
    "ds_fixed_2d =xr.open_mfdataset(\"../data/runs/2018-10-23-fix-dt-bug/OUT_2D/*.nc\")"
   ]
  },
  {
   "cell_type": "code",
   "execution_count": null,
   "metadata": {},
   "outputs": [],
   "source": [
    "ds_fixed.W[:,10].plot(col='time')"
   ]
  },
  {
   "cell_type": "code",
   "execution_count": null,
   "metadata": {},
   "outputs": [],
   "source": [
    "ds_fixed.FSLINN[:,15].plot(col='time')"
   ]
  },
  {
   "cell_type": "code",
   "execution_count": null,
   "metadata": {},
   "outputs": [],
   "source": [
    "ds_fixed.FSLINN.sel(y=5e6, method='nearest').plot(y='z', col='time')"
   ]
  },
  {
   "cell_type": "code",
   "execution_count": null,
   "metadata": {},
   "outputs": [],
   "source": [
    "ds_fixed.FQTNN[:,3:].sel(y=5e6, method='nearest').plot(y='z', col='time')"
   ]
  },
  {
   "cell_type": "code",
   "execution_count": null,
   "metadata": {},
   "outputs": [],
   "source": [
    "ds_fixed.QT[:,:20].sel(y=5e6, method='nearest').plot(y='z', col='time', vmin=0)"
   ]
  },
  {
   "cell_type": "markdown",
   "metadata": {},
   "source": [
    "The moistening is moist profound in the boundary layer."
   ]
  },
  {
   "cell_type": "code",
   "execution_count": null,
   "metadata": {},
   "outputs": [],
   "source": [
    "ds_fixed.FQTNN[:,0].sel(y=5e6, method='nearest').plot(hue='time')"
   ]
  },
  {
   "cell_type": "code",
   "execution_count": null,
   "metadata": {},
   "outputs": [],
   "source": [
    "ds_fixed.W[:,1].sel(y=5e6, method='nearest').plot(hue='time')\n",
    "plt.xlim([1.0e7, 1.5e7])"
   ]
  },
  {
   "cell_type": "code",
   "execution_count": null,
   "metadata": {},
   "outputs": [],
   "source": [
    "ds_fixed.QT[:,1].sel(y=5e6, method='nearest').plot(hue='time')\n",
    "plt.xlim([0.0e7, 1.5e7])"
   ]
  },
  {
   "cell_type": "code",
   "execution_count": null,
   "metadata": {},
   "outputs": [],
   "source": [
    "ds_fixed.U[:,0].sel(y=5e6, method='nearest').plot(hue='time')\n",
    "plt.xlim([0.0e7, 1.5e7])"
   ]
  },
  {
   "cell_type": "markdown",
   "metadata": {},
   "source": [
    "This looks kind of like some kind of CISK feedback. It is interesting this is occuring over a region which had initial wind-convergence."
   ]
  },
  {
   "cell_type": "code",
   "execution_count": null,
   "metadata": {},
   "outputs": [],
   "source": [
    "ds_fixed.FQTNN[-1].mean('x').plot(vmax=1e-4)"
   ]
  },
  {
   "cell_type": "code",
   "execution_count": null,
   "metadata": {},
   "outputs": [],
   "source": [
    "ds_fixed.FSLINN[-1].mean('x').plot()"
   ]
  },
  {
   "cell_type": "markdown",
   "metadata": {},
   "source": [
    "# Run: 2018-10-23-fix-dt-bug-dt30\n",
    "\n",
    "I decreased the time step to 30 seconds. Hopefully this will solve the numerical instability. If this doesn't work, I think I should work on the forcing estimates again. The magnitude of the moistening is far to large in the boundary layer. And there are also some strange vertical structures in FQTNN."
   ]
  },
  {
   "cell_type": "code",
   "execution_count": null,
   "metadata": {},
   "outputs": [],
   "source": [
    "fix_2d = xr.open_mfdataset(\"../data/runs//2018-10-23-fix-dt-bug-dt30/OUT_2D/CASE__1.2Dbin_1.nc\")"
   ]
  },
  {
   "cell_type": "code",
   "execution_count": null,
   "metadata": {},
   "outputs": [],
   "source": [
    "fix_2d.PW[::8].plot(col='time')"
   ]
  },
  {
   "cell_type": "markdown",
   "metadata": {},
   "source": [
    "# Why do these runs fail?\n",
    "\n",
    "Let's compare to the \"good run\" we showed in our GMU slides. "
   ]
  },
  {
   "cell_type": "code",
   "execution_count": null,
   "metadata": {},
   "outputs": [],
   "source": [
    "good_run  =xr.open_mfdataset(\"../models/17/test/OUT_3D/*.nc\")"
   ]
  },
  {
   "cell_type": "code",
   "execution_count": null,
   "metadata": {},
   "outputs": [],
   "source": [
    "data_3d.FQTNN[1,0 ].plot()"
   ]
  },
  {
   "cell_type": "code",
   "execution_count": null,
   "metadata": {},
   "outputs": [],
   "source": [
    "good_run.FQTNN[1,0].plot()"
   ]
  },
  {
   "cell_type": "markdown",
   "metadata": {},
   "source": [
    "We can see that the good runs predicted BL moistenting is much more zonally uniform and looks much more like the LHF map. Several things could be happening\n",
    "\n",
    "1. By massweighting the loss, I am de-emphasizing the importance of the narrow boundary layer levels.\n",
    "2. The trapezoid integration rule hurts (I don't see why this would matter).\n",
    "3. The network does not have enough layers. I aslo changed this.\n",
    "4. changes in things like batch_size, skip, "
   ]
  },
  {
   "cell_type": "markdown",
   "metadata": {},
   "source": [
    "# New trainining models\n",
    "\n",
    "## #95: trained with all x locations\n",
    "```\n",
    "python -m uwnet.train with data=data/processed/training.nc examples/SAM.yaml batch_size=32  skip=10 seq_length=10  lr=.001 n_epochs=10 -m uwnet\n",
    "```\n",
    "\n",
    "## #97: no mass weighting in loss"
   ]
  },
  {
   "cell_type": "code",
   "execution_count": null,
   "metadata": {},
   "outputs": [],
   "source": [
    "from src.sacred import get_last_model, get_run\n",
    "from uwnet.model import call_with_xr, model_factory\n",
    "\n",
    "train_data_path = \"../data/processed/training.nc\"\n",
    "ds = xr.open_dataset(train_data_path)\n",
    "\n",
    "\n",
    "def get_output(id, ds=ds.isel(time=slice(0,1))):\n",
    "    model = model_factory().from_dict(torch.load(get_last_model(id))['dict'])\n",
    "    model.disable_forcing()\n",
    "    return call_with_xr(model, ds.isel(z=model.heights), n=1, drop_times=0)\n",
    "\n",
    "def plot_first_level(id, ds=ds.isel(time=slice(0, 1))):\n",
    "    output = get_output(id, ds)\n",
    "    output.FQTNN[0,0].plot()\n",
    "    plt.title(f\"ID=  {id}\")"
   ]
  },
  {
   "cell_type": "code",
   "execution_count": null,
   "metadata": {},
   "outputs": [],
   "source": [
    "plot_first_level(id=97)"
   ]
  },
  {
   "cell_type": "markdown",
   "metadata": {},
   "source": [
    "this looks pretty similar, which indicates that mass weighting is not the problem."
   ]
  },
  {
   "cell_type": "code",
   "execution_count": null,
   "metadata": {},
   "outputs": [],
   "source": [
    "plot_first_level(id=95)"
   ]
  },
  {
   "cell_type": "markdown",
   "metadata": {},
   "source": [
    "This is just what the boundary layer looks like in this setup, so I am probably doing things correctly:"
   ]
  },
  {
   "cell_type": "markdown",
   "metadata": {},
   "source": [
    "\"Models/17\" is actually run #10 in the mongo database:"
   ]
  },
  {
   "cell_type": "markdown",
   "metadata": {},
   "source": [
    "## #99: no trapezoid rule"
   ]
  },
  {
   "cell_type": "code",
   "execution_count": null,
   "metadata": {},
   "outputs": [],
   "source": [
    "plot_first_level(99)"
   ]
  },
  {
   "cell_type": "markdown",
   "metadata": {},
   "source": [
    "Wow. who would have though using the trapezoid rule would make such a big difference."
   ]
  },
  {
   "cell_type": "markdown",
   "metadata": {},
   "source": [
    "## #100: no-trapezoid rule for full dataset\n",
    "\n",
    "I am training the no-trapezoid rule version of the code for many dataset. Wait...for more training this solution goes hay wire as well."
   ]
  },
  {
   "cell_type": "code",
   "execution_count": null,
   "metadata": {},
   "outputs": [],
   "source": [
    "plot_first_level(id=100)"
   ]
  },
  {
   "cell_type": "code",
   "execution_count": null,
   "metadata": {},
   "outputs": [],
   "source": [
    "good_run.FQTNN[1,4::,32,0].plot()\n",
    "get_output(100).FQTNN[0,4:,32,0].plot()"
   ]
  },
  {
   "cell_type": "markdown",
   "metadata": {},
   "source": [
    "I think there is some error with how the time stepper in my training works. Perhaps it is comparing the two-step ahead predictions. This might explain why FQTNN and FSLINN on the raw data look strange."
   ]
  },
  {
   "cell_type": "markdown",
   "metadata": {},
   "source": [
    "## #107: old version w/ smaller batch size\n",
    "\n",
    "I reverted the code back to the GMU talk, but changed only the experiment logging code and the file saving stuff"
   ]
  },
  {
   "cell_type": "code",
   "execution_count": null,
   "metadata": {},
   "outputs": [],
   "source": [
    "ds = xr.open_mfdataset(\"../data/runs/2018-10-24-old-master/OUT_3D/*.nc\")"
   ]
  },
  {
   "cell_type": "code",
   "execution_count": null,
   "metadata": {},
   "outputs": [],
   "source": [
    "ds.FQTNN[2,0].plot()"
   ]
  },
  {
   "cell_type": "markdown",
   "metadata": {},
   "source": [
    "Actually this data was only trained on the equatorial region."
   ]
  },
  {
   "cell_type": "markdown",
   "metadata": {},
   "source": [
    "## #108: Train on full domain."
   ]
  },
  {
   "cell_type": "code",
   "execution_count": null,
   "metadata": {},
   "outputs": [],
   "source": [
    "ds = xr.open_mfdataset(\"../data/runs/2018-10-24-NN108-epoch0/OUT_3D/*.nc\")"
   ]
  },
  {
   "cell_type": "code",
   "execution_count": null,
   "metadata": {},
   "outputs": [],
   "source": [
    "ds.FQTNN[2,0].plot()"
   ]
  },
  {
   "cell_type": "markdown",
   "metadata": {},
   "source": [
    "This looks more like the original answer we had. I wonder what the problem with the new code is. Why does it predict double the observed tendency?"
   ]
  },
  {
   "cell_type": "code",
   "execution_count": null,
   "metadata": {},
   "outputs": [],
   "source": [
    "ds.FQTNN[2,:, 1,:].plot()"
   ]
  },
  {
   "cell_type": "code",
   "execution_count": null,
   "metadata": {},
   "outputs": [],
   "source": [
    "stor = (train.QT[1]-train.QT[0])/.125/86400"
   ]
  },
  {
   "cell_type": "code",
   "execution_count": null,
   "metadata": {},
   "outputs": [],
   "source": [
    "stor[0].plot()"
   ]
  },
  {
   "cell_type": "markdown",
   "metadata": {},
   "source": [
    "## Longer run\n",
    "\n",
    "This completed succesfully"
   ]
  },
  {
   "cell_type": "code",
   "execution_count": null,
   "metadata": {},
   "outputs": [],
   "source": [
    "d2d = xr.open_dataset(\"../data/runs/2018-10-24-NN108-epoch1-long/OUT_2D/CASE__1.2Dbin_1.nc\")\n",
    "d3d = xr.open_mfdataset(\"../data/runs/2018-10-24-NN108-epoch1-long/OUT_3D/*.nc\")"
   ]
  },
  {
   "cell_type": "code",
   "execution_count": null,
   "metadata": {},
   "outputs": [],
   "source": [
    "d2d.PW[::12].plot(col='time', col_wrap=4)"
   ]
  },
  {
   "cell_type": "code",
   "execution_count": null,
   "metadata": {},
   "outputs": [],
   "source": [
    "cfqtnn = (d3d.FQTNN * train.layer_mass).sum('z')/1000*86400\n",
    "cfslinn = (d3d.FSLINN * train.layer_mass).sum('z')*1004"
   ]
  },
  {
   "cell_type": "code",
   "execution_count": null,
   "metadata": {},
   "outputs": [],
   "source": [
    "cfqtnn[1].mean('x').plot()"
   ]
  },
  {
   "cell_type": "code",
   "execution_count": null,
   "metadata": {},
   "outputs": [],
   "source": [
    "cfslinn[1].mean('x').plot()\n",
    "plt.ylabel('cFSLINN (w/m2)')"
   ]
  },
  {
   "cell_type": "code",
   "execution_count": null,
   "metadata": {},
   "outputs": [],
   "source": [
    "d2d.W500.mean('x')[::24].plot(hue='time')"
   ]
  },
  {
   "cell_type": "markdown",
   "metadata": {},
   "source": [
    "These changes are accompanied by a strong heating near the equator."
   ]
  },
  {
   "cell_type": "code",
   "execution_count": null,
   "metadata": {},
   "outputs": [],
   "source": [
    "d2d.PW.mean('x')[:,32].plot()"
   ]
  },
  {
   "cell_type": "code",
   "execution_count": null,
   "metadata": {},
   "outputs": [],
   "source": [
    "d2d.W500.mean('x')[:,32].plot()"
   ]
  },
  {
   "cell_type": "markdown",
   "metadata": {},
   "source": [
    "From this, it looks like the increase in PW along the equator is driven by changes in the circulation there that appear relatively quickly."
   ]
  },
  {
   "cell_type": "markdown",
   "metadata": {},
   "source": [
    "Ok so I have re-created the results from the GMU talk.\n",
    "\n",
    "1. Where is my new code wrong?\n",
    "2. Does the peak in net precip appear in the initial time step? "
   ]
  }
 ],
 "metadata": {
  "kernelspec": {
   "display_name": "Python 3",
   "language": "python",
   "name": "python3"
  },
  "language_info": {
   "codemirror_mode": {
    "name": "ipython",
    "version": 3
   },
   "file_extension": ".py",
   "mimetype": "text/x-python",
   "name": "python",
   "nbconvert_exporter": "python",
   "pygments_lexer": "ipython3",
   "version": "3.6.6"
  }
 },
 "nbformat": 4,
 "nbformat_minor": 2
}
