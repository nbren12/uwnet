{
 "cells": [
  {
   "cell_type": "code",
   "execution_count": null,
   "metadata": {},
   "outputs": [],
   "source": [
    "%matplotlib inline\n",
    "import xarray as xr"
   ]
  },
  {
   "cell_type": "markdown",
   "metadata": {},
   "source": [
    "# SAM with microphysics\n",
    "\n",
    "\n",
    "I made a SAM case in `data/runs/2018-10-08-microphys-rad`. But the radiatio scheme is generating NaNs after only one time step, this problem is caused by the `doequinox` flag that I added to SAM. The problem was caused by having real 8s being passed to real 4s by accident. Very annoying. I still have to run the simulation with a 30 second time step rather than 120 as before."
   ]
  },
  {
   "cell_type": "code",
   "execution_count": null,
   "metadata": {},
   "outputs": [],
   "source": [
    "ds_3d = xr.open_mfdataset(\"../data/runs/2018-10-08-microphys-rad/OUT_3D/*.nc\")\n",
    "ds_2d = xr.open_mfdataset(\"../data/runs/2018-10-08-microphys-rad/OUT_2D/*.nc\")"
   ]
  },
  {
   "cell_type": "code",
   "execution_count": null,
   "metadata": {},
   "outputs": [],
   "source": [
    "ds_2d.PW.mean(['x', 'y']).plot()"
   ]
  },
  {
   "cell_type": "markdown",
   "metadata": {},
   "source": [
    "The amount of PW drops a lot! Just like in the SAM+NN simulation"
   ]
  },
  {
   "cell_type": "code",
   "execution_count": null,
   "metadata": {},
   "outputs": [],
   "source": [
    "ds_2d.PW[::24].plot(col='time')"
   ]
  },
  {
   "cell_type": "code",
   "execution_count": null,
   "metadata": {},
   "outputs": [],
   "source": [
    "ds_2d.Prec.mean(['x', 'y']).plot()\n",
    "(ds_2d.LHF.mean(['x', 'y'])/2.51e6*86400).plot()"
   ]
  },
  {
   "cell_type": "markdown",
   "metadata": {},
   "source": [
    "The model can generate unrealistcally high vertical velocities."
   ]
  },
  {
   "cell_type": "code",
   "execution_count": null,
   "metadata": {},
   "outputs": [],
   "source": [
    "ds_3d.W[::4].isel(y=32).plot(col='time', col_wrap=4)"
   ]
  }
 ],
 "metadata": {
  "kernelspec": {
   "display_name": "Python 3",
   "language": "python",
   "name": "python3"
  },
  "language_info": {
   "codemirror_mode": {
    "name": "ipython",
    "version": 3
   },
   "file_extension": ".py",
   "mimetype": "text/x-python",
   "name": "python",
   "nbconvert_exporter": "python",
   "pygments_lexer": "ipython3",
   "version": "3.6.6"
  }
 },
 "nbformat": 4,
 "nbformat_minor": 2
}
