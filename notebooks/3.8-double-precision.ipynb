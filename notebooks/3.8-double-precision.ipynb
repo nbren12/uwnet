{
 "cells": [
  {
   "cell_type": "markdown",
   "metadata": {},
   "source": [
    "Digital filter initialization is one way around the mass imbalance issues we have with the NG-Aqua input data. \n",
    "\n",
    "First, we should see if the transient problems in the boundary layer disappear at the end of 3-6 hour integration."
   ]
  },
  {
   "cell_type": "code",
   "execution_count": null,
   "metadata": {},
   "outputs": [],
   "source": [
    "import holoviews as hv\n",
    "hv.extension('bokeh')\n",
    "%opts Image[width=500, height=300, colorbar=True](cmap='magma') \n",
    "%opts QuadMesh[width=400,  height=200, colorbar=True](cmap='viridis')\n",
    "%opts Curve[width=500, height=int(500/1.61)]\n",
    "\n",
    "%matplotlib inline\n",
    "import matplotlib.pyplot as plt"
   ]
  },
  {
   "cell_type": "code",
   "execution_count": null,
   "metadata": {},
   "outputs": [],
   "source": [
    "from sam.case import get_ngqaua_ic, InitialConditionCase\n",
    "import xarray as xr\n",
    "from os.path import join\n",
    "import numpy as np\n",
    "from uwnet.thermo import layer_mass\n",
    "\n",
    "\n",
    "def process_ic(ic, **kwargs):\n",
    "\n",
    "    # open initial conditions\n",
    "    case = InitialConditionCase(ic=ic)\n",
    "\n",
    "    # configure the sam run\n",
    "    case.prm['parameters'].update({\n",
    "        'dosgs': False,\n",
    "        'dowally': True,\n",
    "        'nstop': 180,\n",
    "        'nsave3d': 30,\n",
    "        'nsave2d': 30,\n",
    "        'nsave2dstart': 0 ,\n",
    "        'nstat': 15,\n",
    "        'nstatfrq': 1,\n",
    "        'dt': 120,\n",
    "    })\n",
    "    \n",
    "    case.prm['parameters'].update(kwargs)\n",
    "\n",
    "    case.save()\n",
    "\n",
    "    # Run the model\n",
    "    print(case.path)\n",
    "    !cd {case.path} &&  bash -c './run.sh > out  2> err'\n",
    "    # !cd {case.path} &&  bash -c './run.sh'\n",
    "\n",
    "    # open the 3d outputs\n",
    "    data_3d = xr.open_mfdataset(join(case.path, 'OUT_3D', '*.nc'), concat_dim='time').load()\n",
    "    assert len(data_3d.time) > 1\n",
    "    \n",
    "    data_2d = xr.open_mfdataset(join(case.path, 'OUT_2D', '*.nc'), concat_dim='time').load()\n",
    "    \n",
    "    stat = xr.open_mfdataset(join(case.path, 'OUT_STAT', '*.nc'), concat_dim='time').load()\n",
    "    \n",
    "    # clean up the working directory\n",
    "    !rm -rf {case.path}\n",
    "    \n",
    "    return data_3d, data_2d, stat\n",
    "\n",
    "\n",
    "def plot_diffs(sam_processed):\n",
    "    dsam = sam_processed.diff('time')\n",
    "\n",
    "    # get the surface level\n",
    "    dsam_sfc = dsam.isel(z=0)\n",
    "    \n",
    "    lay = hv.Dataset(dsam_sfc.TABS).to.image([\"x\", \"y\"], label=\"T(i+1) - T(i)\") \\\n",
    "     + hv.Dataset(dsam_sfc.QT).to.image([\"x\", \"y\"], label=\"QT(i+1) - Qt(i)\")\n",
    "\n",
    "    return lay.cols(1)"
   ]
  },
  {
   "cell_type": "code",
   "execution_count": null,
   "metadata": {},
   "outputs": [],
   "source": [
    "NGROOT = \"/Users/noah/Data/2018-05-30-NG_5120x2560x34_4km_10s_QOBS_EQX/\"\n",
    "STATFILE = join(NGROOT, 'stat.nc')\n",
    "\n",
    "stat = xr.open_mfdataset(STATFILE)\n",
    "rho = stat.RHO[0]\n",
    "\n",
    "# layer mass\n",
    "dm = layer_mass(rho)\n",
    "\n",
    "# get the initial condition at first time step\n",
    "# the winds are staggered\n",
    "ic = get_ngqaua_ic(NGROOT, 0)"
   ]
  },
  {
   "cell_type": "code",
   "execution_count": null,
   "metadata": {},
   "outputs": [],
   "source": [
    "ic.TABS[0].plot()"
   ]
  },
  {
   "cell_type": "code",
   "execution_count": null,
   "metadata": {},
   "outputs": [],
   "source": [
    "# Process this initial conditions using SAM\n",
    "data_3d, data_2d, stat = process_ic(ic, dt=120, nstop=10, nsave3d=1, nsave2d=1, nstat=1)"
   ]
  },
  {
   "cell_type": "markdown",
   "metadata": {},
   "source": [
    "Here is the timestep-to-timestep difference of temperature at the first height level:"
   ]
  },
  {
   "cell_type": "code",
   "execution_count": null,
   "metadata": {},
   "outputs": [],
   "source": [
    "data_3d.TABS.diff('time').isel(z=0).plot(col='time', col_wrap=4)"
   ]
  },
  {
   "cell_type": "markdown",
   "metadata": {},
   "source": [
    "And for humidity:"
   ]
  },
  {
   "cell_type": "code",
   "execution_count": null,
   "metadata": {},
   "outputs": [],
   "source": [
    "data_3d.QT.diff('time').isel(z=0).plot(col='time', col_wrap=4)"
   ]
  },
  {
   "cell_type": "markdown",
   "metadata": {},
   "source": [
    "As you can see all the zonal-banding is gone! "
   ]
  }
 ],
 "metadata": {
  "kernelspec": {
   "display_name": "Python 3",
   "language": "python",
   "name": "python3"
  },
  "language_info": {
   "codemirror_mode": {
    "name": "ipython",
    "version": 3
   },
   "file_extension": ".py",
   "mimetype": "text/x-python",
   "name": "python",
   "nbconvert_exporter": "python",
   "pygments_lexer": "ipython3",
   "version": "3.6.6"
  }
 },
 "nbformat": 4,
 "nbformat_minor": 2
}
