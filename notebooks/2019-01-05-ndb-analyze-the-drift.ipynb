{
 "cells": [
  {
   "cell_type": "code",
   "execution_count": null,
   "metadata": {},
   "outputs": [],
   "source": [
    "run_path = \"../data/runs/model268-epoch5.debiased/\"\n",
    "training_data = \"../data/processed/training.nc\"\n",
    "training_data_mean = \"../data/processed/training.mean.nc\"\n",
    "caseid = \"control\"\n",
    "ngpath = \"../data/raw/2018-05-30-NG_5120x2560x34_4km_10s_QOBS_EQX/coarse/2d/all.nc\""
   ]
  },
  {
   "cell_type": "code",
   "execution_count": null,
   "metadata": {},
   "outputs": [],
   "source": [
    "from src.data.sam import SAMRun\n",
    "from uwnet.thermo import vorcitity\n",
    "from os.path import join\n",
    "import holoviews as hv\n",
    "hv.extension('bokeh')\n",
    "plt.style.use('colorblind')\n",
    "\n",
    "%opts Image[width=600, height=400, colorbar=True](cmap='viridis')\n",
    "\n",
    "def plot_2d(da, dynamic=False):\n",
    "    time = da.time\n",
    "    da = da.assign_coords(time=time-time[0])\n",
    "    max = da.time.max('time')\n",
    "    da = da.load().interp(time=np.arange(max))\n",
    "    return hv.Dataset(da).to.image([\"x\", \"y\"], dynamic=dynamic).redim.unit(time=\"day\")\n"
   ]
  },
  {
   "cell_type": "code",
   "execution_count": null,
   "metadata": {},
   "outputs": [],
   "source": [
    "# Load the data\n",
    "run = SAMRun(run_path, case=caseid)\n",
    "ng = xr.open_dataset(training_data).isel(step=0)\n",
    "ng_2d = xr.open_dataset(ngpath).sortby('time')\n",
    "mean_ng = xr.open_dataset(training_data_mean)\n",
    "# mean_nn = run.data_3d.isel(time=slice(5,None)).mean(['x', 'time'])"
   ]
  },
  {
   "cell_type": "markdown",
   "metadata": {},
   "source": [
    "# Hovmoller diagrams of zonal mean quantities"
   ]
  },
  {
   "cell_type": "code",
   "execution_count": null,
   "metadata": {},
   "outputs": [],
   "source": [
    "run.data_2d.W500.mean('x').plot(y='y')"
   ]
  },
  {
   "cell_type": "markdown",
   "metadata": {},
   "source": [
    "The vertical motion decreases for the first 130 days and then becomes much stronger."
   ]
  },
  {
   "cell_type": "code",
   "execution_count": null,
   "metadata": {},
   "outputs": [],
   "source": [
    "run.data_2d.PW.mean('x').plot(y='y')"
   ]
  },
  {
   "cell_type": "code",
   "execution_count": null,
   "metadata": {},
   "outputs": [],
   "source": [
    "run.data_2d.NPNN.mean('x').plot(y='y')"
   ]
  },
  {
   "cell_type": "code",
   "execution_count": null,
   "metadata": {},
   "outputs": [],
   "source": [
    "run.data_2d.U850.mean('x').plot(y='y')"
   ]
  },
  {
   "cell_type": "markdown",
   "metadata": {},
   "source": [
    "The biggest problems seem to be because of the position of jet, which dramatically weakens and shifts towards the equator. The changes in the tropical circulation seem to be a knock-on effect of these circulation changes.\n",
    "\n",
    "Here is the same plot for NG-AQua:"
   ]
  },
  {
   "cell_type": "code",
   "execution_count": null,
   "metadata": {},
   "outputs": [],
   "source": [
    "ng_2d.U850.mean('x').plot(y='y')"
   ]
  },
  {
   "cell_type": "markdown",
   "metadata": {},
   "source": [
    "The jet appears to be in statistical stead-state."
   ]
  },
  {
   "cell_type": "code",
   "execution_count": null,
   "metadata": {},
   "outputs": [],
   "source": [
    "d3 = run.data_3d"
   ]
  },
  {
   "cell_type": "code",
   "execution_count": null,
   "metadata": {},
   "outputs": [],
   "source": [
    "def plot_evolution(da):\n",
    "    da[1:24*20:24*5].mean('x').plot(col='time')"
   ]
  },
  {
   "cell_type": "code",
   "execution_count": null,
   "metadata": {},
   "outputs": [],
   "source": [
    "plot_evolution(d3.FQTNN)"
   ]
  },
  {
   "cell_type": "code",
   "execution_count": null,
   "metadata": {},
   "outputs": [],
   "source": [
    "plot_evolution(d3.FSLINN)"
   ]
  },
  {
   "cell_type": "code",
   "execution_count": null,
   "metadata": {},
   "outputs": [],
   "source": [
    "plot_evolution(d3.U)"
   ]
  },
  {
   "cell_type": "code",
   "execution_count": null,
   "metadata": {},
   "outputs": [],
   "source": [
    "plot_evolution(d3.W)"
   ]
  },
  {
   "cell_type": "code",
   "execution_count": null,
   "metadata": {},
   "outputs": [],
   "source": [
    "d3.TABS[:24*20:24*5].mean('x').plot(col='time')"
   ]
  },
  {
   "cell_type": "markdown",
   "metadata": {},
   "source": [
    "Why do the westerlies over the equator get so strong! Is it because of a lack of cumulus momentum transport or meridional transport?"
   ]
  },
  {
   "cell_type": "markdown",
   "metadata": {},
   "source": [
    "# Evolution of U near the equator"
   ]
  },
  {
   "cell_type": "code",
   "execution_count": null,
   "metadata": {},
   "outputs": [],
   "source": [
    "d3_evo = d3.isel(time=np.r_[:24*20:24])\n",
    "\n",
    "d3_evo.U.isel(y=34).mean('x').plot(x='time', vmax=30)"
   ]
  },
  {
   "cell_type": "code",
   "execution_count": null,
   "metadata": {},
   "outputs": [],
   "source": [
    "ng.U[:8*20:8,:,34].mean('x').plot(x='time', vmax=30)"
   ]
  },
  {
   "cell_type": "markdown",
   "metadata": {},
   "source": [
    "The SAM+NN simulation develops extremely strong westerlies aloft and weaker near surface easterlies. This implies that the total momentum above the model equator increases. This cannot be caused by CMT, which re-distributes momentum within a column. This must be caused by *meridional transport*."
   ]
  },
  {
   "cell_type": "code",
   "execution_count": null,
   "metadata": {},
   "outputs": [],
   "source": [
    "uv = (d3_evo.U * d3_evo.V).mean('x').interp(z=15e3)"
   ]
  },
  {
   "cell_type": "code",
   "execution_count": null,
   "metadata": {},
   "outputs": [],
   "source": [
    "uv.plot()"
   ]
  }
 ],
 "metadata": {
  "kernelspec": {
   "display_name": "Python 3",
   "language": "python",
   "name": "python3"
  },
  "language_info": {
   "codemirror_mode": {
    "name": "ipython",
    "version": 3
   },
   "file_extension": ".py",
   "mimetype": "text/x-python",
   "name": "python",
   "nbconvert_exporter": "python",
   "pygments_lexer": "ipython3",
   "version": "3.6.6"
  }
 },
 "nbformat": 4,
 "nbformat_minor": 2
}
