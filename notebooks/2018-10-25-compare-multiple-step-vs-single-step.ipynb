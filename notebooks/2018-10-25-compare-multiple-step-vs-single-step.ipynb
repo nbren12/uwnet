{
 "cells": [
  {
   "cell_type": "markdown",
   "metadata": {},
   "source": [
    "We saw in this [journal entry](http://wiki.noahbrenowitz.com/doku.php?id=journal:2018-10:day-2018-10-24#run_110) that multiple-step trained neural network gives a very imbalanced estimate, but the two-step trained neural network gives a good answer. Where do these two patterns disagree?"
   ]
  },
  {
   "cell_type": "code",
   "execution_count": null,
   "metadata": {},
   "outputs": [],
   "source": [
    "%matplotlib inline\n",
    "import matplotlib.pyplot as plt\n",
    "import xarray as xr\n",
    "import click\n",
    "import torch\n",
    "from uwnet.model import call_with_xr\n",
    "import holoviews as hv\n",
    "from holoviews.operation import decimate\n",
    "hv.extension('bokeh')\n",
    "\n",
    "\n",
    "def column_integrate(data_array, mass):\n",
    "    return (data_array * mass).sum('z')\n",
    "\n",
    "\n",
    "def compute_apparent_sources(model_path, ds):\n",
    "    model = torch.load(model_path)\n",
    "    \n",
    "    return call_with_xr(model, ds, drop_times=0)\n",
    "\n",
    "def get_single_location(ds, location=(32,0)):\n",
    "    y, x = location\n",
    "    return ds.isel(y=slice(y,y+1), x=slice(x,x+1))\n",
    "\n",
    "def dict_to_dataset(datasets, dim='key'):\n",
    "    \"\"\"Concatenate a dict of datasets along a new axis\"\"\"\n",
    "    keys, values = zip(*datasets.items())\n",
    "    idx = pd.Index(keys, name=dim)\n",
    "    return xr.concat(values, dim=idx)\n",
    "\n",
    "def dataarray_to_table(dataarray):\n",
    "    return dataarray.to_dataset('key').to_dataframe().reset_index()\n",
    "\n",
    "def get_apparent_sources(model_paths, data_path):\n",
    "    ds = xr.open_dataset(data_path)\n",
    "    location = get_single_location(ds, location=(32,0))\n",
    "    sources = {training_strategy: compute_apparent_sources(model_path, location)\n",
    "              for training_strategy, model_path in model_paths.items()}\n",
    "    return dict_to_dataset(sources)"
   ]
  },
  {
   "cell_type": "code",
   "execution_count": null,
   "metadata": {},
   "outputs": [],
   "source": [
    "model_paths = {\n",
    "    'multi': '../models/113/3.pkl',\n",
    "    'single': '../models/110/3.pkl'\n",
    "}\n",
    "\n",
    "data_path = \"../data/processed/training.nc\"\n",
    "\n",
    "sources = get_apparent_sources(model_paths, data_path)"
   ]
  },
  {
   "cell_type": "markdown",
   "metadata": {},
   "source": [
    "# Apparent moistening and heating\n",
    "\n",
    "Here we scatter plot the apparent heating and moistening:"
   ]
  },
  {
   "cell_type": "code",
   "execution_count": null,
   "metadata": {},
   "outputs": [],
   "source": [
    "%%opts Scatter[width=500, height=500, color_index='z'](cmap='viridis', alpha=.2)\n",
    "%%opts Curve(color='black')\n",
    "\n",
    "lims = (-30, 40)\n",
    "df = dataarray_to_table(sources.QT)\n",
    "moisture_source = hv.Scatter(df, kdims=[\"multi\", \"single\"]).groupby('z').redim.range(multi=lims, single=lims) \\\n",
    "        *hv.Curve((lims, lims))\n",
    "\n",
    "lims = (-30, 40)\n",
    "df = dataarray_to_table(sources.SLI)\n",
    "heating = hv.Scatter(df, kdims=[\"multi\", \"single\"]).groupby('z').redim.range(multi=lims, single=lims) \\\n",
    "            *hv.Curve((lims, lims))\n",
    "\n",
    "\n",
    "moisture_source.relabel(\"Moistening (g/kg/day)\") + heating.relabel(\"Heating (K/day)\")"
   ]
  },
  {
   "cell_type": "markdown",
   "metadata": {},
   "source": [
    "The multistep moistening is far too negative in the upper parts of the atmosphere, and the corresponding heating is too positive. Does this **happen because the moisture is negative in those regions**."
   ]
  }
 ],
 "metadata": {
  "kernelspec": {
   "display_name": "Python 3",
   "language": "python",
   "name": "python3"
  },
  "language_info": {
   "codemirror_mode": {
    "name": "ipython",
    "version": 3
   },
   "file_extension": ".py",
   "mimetype": "text/x-python",
   "name": "python",
   "nbconvert_exporter": "python",
   "pygments_lexer": "ipython3",
   "version": "3.6.6"
  }
 },
 "nbformat": 4,
 "nbformat_minor": 2
}
