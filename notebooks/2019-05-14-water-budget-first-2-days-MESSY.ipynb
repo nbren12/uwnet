{
 "cells": [
  {
   "cell_type": "markdown",
   "metadata": {},
   "source": [
    "This notebook focuses on the first 2 days of the simulation. Where the hadley circulation appears to weaken rapidly"
   ]
  },
  {
   "cell_type": "code",
   "execution_count": null,
   "metadata": {},
   "outputs": [],
   "source": [
    "%matplotlib inline\n",
    "%load_ext autoreload\n",
    "%autoreload 2\n",
    "\n",
    "import torch\n",
    "import matplotlib.pyplot as plt\n",
    "plt.style.use('tableau-colorblind10')\n",
    "import numpy as np\n",
    "import xarray as xr\n",
    "\n",
    "from src.data import SAMRun\n",
    "from uwnet import thermo"
   ]
  },
  {
   "cell_type": "code",
   "execution_count": null,
   "metadata": {},
   "outputs": [],
   "source": [
    "class NGAqua:\n",
    "    @property\n",
    "    def data_2d(self):\n",
    "        path = \"../data/raw/2018-05-30-NG_5120x2560x34_4km_10s_QOBS_EQX/coarse/2d/all.nc\"\n",
    "        ds = xr.open_dataset(path).sortby('time')\n",
    "        return ds.assign(NPNN=thermo.net_precipitation_from_prec_evap(ds))\n",
    "\n",
    "\n",
    "low_res = \"../data/runs/2019-05-01-model268-epoch5-res128x64x34/\"\n",
    "\n",
    "\n",
    "\n",
    "ng = NGAqua()\n",
    "lo_run = SAMRun(low_res, case='control')\n",
    "\n",
    "# this is expensive. so preloads\n",
    "data_2d = ng.data_2d"
   ]
  },
  {
   "cell_type": "markdown",
   "metadata": {},
   "source": [
    "# Snapshots"
   ]
  },
  {
   "cell_type": "code",
   "execution_count": null,
   "metadata": {},
   "outputs": [],
   "source": [
    "def plot_pw(run, key='PW', time=101):\n",
    "    run.data_2d[key].sel(time=time, method='nearest').plot()"
   ]
  },
  {
   "cell_type": "markdown",
   "metadata": {},
   "source": [
    "## PW"
   ]
  },
  {
   "cell_type": "code",
   "execution_count": null,
   "metadata": {},
   "outputs": [],
   "source": [
    "plot_pw(ng, 'PW', 102)"
   ]
  },
  {
   "cell_type": "code",
   "execution_count": null,
   "metadata": {},
   "outputs": [],
   "source": [
    "plot_pw(lo_run, 'PW', 102)"
   ]
  },
  {
   "cell_type": "code",
   "execution_count": null,
   "metadata": {},
   "outputs": [],
   "source": [
    "data_2d['y'] = lo_run.data_2d.y\n",
    "data_2d['x'] = lo_run.data_2d.x"
   ]
  },
  {
   "cell_type": "code",
   "execution_count": null,
   "metadata": {},
   "outputs": [],
   "source": [
    "diff = lo_run.data_2d.PW - data_2d.PW"
   ]
  },
  {
   "cell_type": "code",
   "execution_count": null,
   "metadata": {},
   "outputs": [],
   "source": [
    "time = 101.375\n",
    "diff.sel(time=time).plot()\n",
    "plt.title(f\"PW SAM - NG-Aqua (mm) at day {time}\");"
   ]
  },
  {
   "cell_type": "markdown",
   "metadata": {},
   "source": [
    "# Water Budget "
   ]
  },
  {
   "cell_type": "code",
   "execution_count": null,
   "metadata": {},
   "outputs": [],
   "source": [
    "def water_budget(data_2d):\n",
    "    storage = data_2d.PW.differentiate('time')\n",
    "    advection = storage + data_2d.NPNN\n",
    "    \n",
    "    return xr.Dataset({'storage': storage, 'advection': advection, 'net_precip':  data_2d.NPNN})\n"
   ]
  },
  {
   "cell_type": "code",
   "execution_count": null,
   "metadata": {},
   "outputs": [],
   "source": [
    "ng_h20 = water_budget(data_2d.sel(time=slice(100, 110)))\n",
    "lo_h20 = water_budget(lo_run.data_2d.sel(time=slice(100, 110)))"
   ]
  },
  {
   "cell_type": "code",
   "execution_count": null,
   "metadata": {},
   "outputs": [],
   "source": [
    "def plot_water_budget(snapshot, M=100):\n",
    "    if M is None:\n",
    "        m = None\n",
    "    else:\n",
    "        m = -M\n",
    "    \n",
    "    fig, (a,b, c) = plt.subplots(1, 3, figsize=(13, 3))\n",
    "    snapshot.advection.plot(vmax=M, vmin=m, cmap='RdBu_r', ax=b)\n",
    "    snapshot.storage.plot(vmax=M, vmin=m, cmap='RdBu_r', ax=a)\n",
    "    snapshot.net_precip.plot(vmax=M, vmin=m, cmap='RdBu_r', ax=c)\n",
    "    plt.tight_layout()\n",
    "    \n",
    "def plot_water_budget_zonal_mean(mean, axs=None):\n",
    "    if axs is None:\n",
    "        fig, axs = plt.subplots(1, 3, figsize=(13, 3))\n",
    "        \n",
    "    a, b, c = axs\n",
    "        \n",
    "    mean.advection.plot(ax=b)\n",
    "    mean.storage.plot(ax=a)\n",
    "    mean.net_precip.plot(ax=c)\n",
    "    \n",
    "    if axs is None:\n",
    "        plt.tight_layout()\n",
    "        \n",
    "    return axs\n",
    "\n",
    "def compare_zonal_mean(field, time):\n",
    "    a = data_2d[field].sel(time=time).mean('x')\n",
    "    b = lo_run.data_2d[field].sel(time=time).mean('x')\n",
    "    \n",
    "    a.plot()\n",
    "    b.plot()\n",
    "    plt.legend(['NG-Aqua', '160km'])"
   ]
  },
  {
   "cell_type": "code",
   "execution_count": null,
   "metadata": {},
   "outputs": [],
   "source": [
    "plot_water_budget(lo_h20.sel(time=101))"
   ]
  },
  {
   "cell_type": "code",
   "execution_count": null,
   "metadata": {},
   "outputs": [],
   "source": [
    "plot_water_budget(ng_h20.sel(time=101))"
   ]
  },
  {
   "cell_type": "markdown",
   "metadata": {},
   "source": [
    "## zonal mean"
   ]
  },
  {
   "cell_type": "code",
   "execution_count": null,
   "metadata": {},
   "outputs": [],
   "source": [
    "axs=  plot_water_budget_zonal_mean(ng_h20.sel(time=101.0).mean('x'))\n",
    "plot_water_budget_zonal_mean(lo_h20.sel(time=101.0).mean('x'), axs=axs);\n",
    "plt.legend(['NG', '160km'])"
   ]
  },
  {
   "cell_type": "markdown",
   "metadata": {},
   "source": [
    "Looks like there is more advective drying of the subtropics, and not enough evaporation (negative net precip) there."
   ]
  },
  {
   "cell_type": "code",
   "execution_count": null,
   "metadata": {},
   "outputs": [],
   "source": [
    "compare_zonal_mean('W500', 102)"
   ]
  },
  {
   "cell_type": "markdown",
   "metadata": {},
   "source": [
    "### Velocity"
   ]
  },
  {
   "cell_type": "code",
   "execution_count": null,
   "metadata": {},
   "outputs": [],
   "source": [
    "with plt.rc_context({'axes.prop_cycle':  plt.cycler(linestyle=['-','--'])  * plt.cycler(color=['b', 'g']) }):\n",
    "    compare_zonal_mean('VSFC', 102)\n",
    "    compare_zonal_mean('V850', 102)"
   ]
  },
  {
   "cell_type": "code",
   "execution_count": null,
   "metadata": {},
   "outputs": [],
   "source": [
    "with plt.rc_context({'axes.prop_cycle':  plt.cycler(linestyle=['-','--'])  * plt.cycler(color=['b', 'g']) }):\n",
    "    compare_zonal_mean('USFC', 102)\n",
    "    compare_zonal_mean('U850', 102)"
   ]
  },
  {
   "cell_type": "markdown",
   "metadata": {},
   "source": [
    "Large velocity biases develop in the first few days."
   ]
  },
  {
   "cell_type": "markdown",
   "metadata": {},
   "source": [
    "# accumulated water budget\n",
    "\n",
    "the budget is accumulated in time to produce less noisy results."
   ]
  },
  {
   "cell_type": "code",
   "execution_count": null,
   "metadata": {},
   "outputs": [],
   "source": [
    "def accumulate_budget(water_budget, t):\n",
    "    time = water_budget.time\n",
    "    dt = time[1] - time[0]\n",
    "    return water_budget.sel(time=slice(100, t)).sum('time') * dt\n",
    "\n",
    "lo_cumulative_budget = accumulate_budget(lo_h20, time)\n",
    "ng_cumulative_budget = accumulate_budget(ng_h20, time)\n",
    "plot_water_budget(lo_cumulative_budget, M=20)"
   ]
  },
  {
   "cell_type": "code",
   "execution_count": null,
   "metadata": {},
   "outputs": [],
   "source": [
    "plot_water_budget(ng_cumulative_budget, M=20)"
   ]
  },
  {
   "cell_type": "code",
   "execution_count": null,
   "metadata": {},
   "outputs": [],
   "source": [
    "run = SAMRun(\"../data/runs/2019-03-14-model268-epoch5-debiased/\", case='control')\n",
    "debiased_water = water_budget(run.data_2d)\n",
    "db_cum_budget = accumulate_budget(debiased_water, time)"
   ]
  },
  {
   "cell_type": "code",
   "execution_count": null,
   "metadata": {},
   "outputs": [],
   "source": [
    "axs = plot_water_budget_zonal_mean(ng_cumulative_budget.mean('x'));\n",
    "plot_water_budget_zonal_mean(lo_cumulative_budget.mean('x'), axs=axs);\n",
    "plot_water_budget_zonal_mean(db_cum_budget.mean('x'), axs=axs)\n",
    "plt.legend(['NG-Aqua', 'NN', 'NN-Debiased'])"
   ]
  },
  {
   "cell_type": "markdown",
   "metadata": {},
   "source": [
    "# Compare with the debiased run\n",
    "\n",
    "It is not clear if the errors in the initial tendency are because of the NN's bias. To examine this, we should look at the debiased run."
   ]
  },
  {
   "cell_type": "code",
   "execution_count": null,
   "metadata": {},
   "outputs": [],
   "source": [
    "plot_water_budget(db_cum_budget, M=20)"
   ]
  },
  {
   "cell_type": "code",
   "execution_count": null,
   "metadata": {},
   "outputs": [],
   "source": [
    "diff = run.data_2d.PW - data_2d.PW"
   ]
  },
  {
   "cell_type": "code",
   "execution_count": null,
   "metadata": {},
   "outputs": [],
   "source": [
    "time = 101.5\n",
    "diff.sel(time=time).plot()\n",
    "plt.title(f\"PW SAM - NG-Aqua (mm) at day {time}\");"
   ]
  },
  {
   "cell_type": "code",
   "execution_count": null,
   "metadata": {},
   "outputs": [],
   "source": [
    "def plot_tropics_mean_pw(case, key):\n",
    "    z= case.data_2d[key].sel(y=slice(4.5e6, 5.5e6), time=slice(None, 110)).mean(['x', 'y'])\n",
    "    z.plot()\n",
    "\n",
    "    \n",
    "def plot_tropics_avg_cases(cases, labels, key='PW'):\n",
    "    for case in cases:\n",
    "        plot_tropics_mean_pw(case, key)\n",
    "    plt.legend(labels)\n",
    "    plt.title(f\"Tropical average of {key}\")\n",
    "\n",
    "    "
   ]
  },
  {
   "cell_type": "code",
   "execution_count": null,
   "metadata": {},
   "outputs": [],
   "source": [
    "plot_tropics_avg_cases([ng, lo_run, run], ['NG-Aqua', 'NN', 'NN-Debiased'])"
   ]
  },
  {
   "cell_type": "markdown",
   "metadata": {},
   "source": [
    "Why is there a discrepency between NG-Aqua and the NN runs in the initial time step?"
   ]
  },
  {
   "cell_type": "code",
   "execution_count": null,
   "metadata": {},
   "outputs": [],
   "source": [
    "plot_tropics_avg_cases([ng, lo_run, run], ['NG-Aqua', 'NN', 'NN-Debiased'], key='NPNN')"
   ]
  },
  {
   "cell_type": "markdown",
   "metadata": {},
   "source": [
    "The debiased network does produce more rainfall in the initial times."
   ]
  },
  {
   "cell_type": "code",
   "execution_count": null,
   "metadata": {},
   "outputs": [],
   "source": [
    "plot_tropics_avg_cases([ng, lo_run, run], ['NG-Aqua', 'NN', 'NN-Debiased'], key='W500')"
   ]
  },
  {
   "cell_type": "markdown",
   "metadata": {},
   "source": [
    "The average vertical velocity is also a little better in the initial time period, although there it does seem abnormally small in the beginning. Is this due to a mistreatment of the diurnal cycle, which was an issue fixed by this [commit](https://github.com/nbren12/uwnet/commit/d860c42abf7d777e74ed21c1529b1934c42a24fe)? Let's look at the value of SOLIN"
   ]
  },
  {
   "cell_type": "code",
   "execution_count": null,
   "metadata": {},
   "outputs": [],
   "source": [
    "run.open_debug(60)['SOLIN'].mean()"
   ]
  },
  {
   "cell_type": "markdown",
   "metadata": {},
   "source": [
    "Indeed this is negative, which should not be the case. This could explain the inadequate vertical velocity at the initial time. I will need to re-run this simulation."
   ]
  },
  {
   "cell_type": "markdown",
   "metadata": {},
   "source": [
    "# Re-run debiased simulation for first 2 days"
   ]
  },
  {
   "cell_type": "code",
   "execution_count": null,
   "metadata": {},
   "outputs": [],
   "source": [
    "run_path = \"data/runs/2019-05-14-model268-epoch5-debiased-res128x64x34\""
   ]
  },
  {
   "cell_type": "markdown",
   "metadata": {},
   "source": [
    "Make the run directory and execute the run with the following lines:"
   ]
  },
  {
   "cell_type": "code",
   "execution_count": null,
   "metadata": {},
   "outputs": [],
   "source": [
    "%%script bash --proc proc --bg --err err --out out\n",
    "\n",
    "# exit when any command fails\n",
    "set -e\n",
    "\n",
    "cd ../\n",
    "\n",
    "run_path=\"data/runs/2019-05-14-model268-epoch5-debiased-res128x64x34\"\n",
    "\n",
    "if [[ -d \"$run_path\" ]]\n",
    "then\n",
    "echo \"Output directory already exists\"\n",
    "exit 1\n",
    "fi\n",
    "\n",
    "python -m src.sam.create_case \\\n",
    "     -p assets/parameters_sam_neural_network_2day.json  \\\n",
    "     -s /home/disk/eos4/nbren12/work/uwnet/ext/sam/OBJ/128x64x34 \\\n",
    "     -nn models/268/5.debiased.pkl \\\n",
    "     -n data/raw/2018-05-30-NG_5120x2560x34_4km_10s_QOBS_EQX \\\n",
    "     -r ext/sam/RUNDATA \\\n",
    "     $run_path\n",
    "\n",
    "\n",
    "cd $run_path \n",
    "\n",
    "execute_run.sh . > out 2> err"
   ]
  },
  {
   "cell_type": "code",
   "execution_count": null,
   "metadata": {},
   "outputs": [],
   "source": [
    "# execute to get the current time-step of the model\n",
    "!grep NSTEP ../{run_path}/out | tail -n 1\n",
    "\n",
    "# Is process done? \n",
    "proc.poll()"
   ]
  },
  {
   "cell_type": "code",
   "execution_count": null,
   "metadata": {},
   "outputs": [],
   "source": [
    "# convert the 2D output\n",
    "\n",
    "!cd ../{run_path}/OUT_2D && 2Dbin2nc *.2Dbin > /dev/null"
   ]
  },
  {
   "cell_type": "code",
   "execution_count": null,
   "metadata": {},
   "outputs": [],
   "source": [
    "run_db_fixed = SAMRun(f\"../{run_path}\", case='control')\n",
    "plot_tropics_avg_cases([ng, lo_run, run_db_fixed], ['NG-Aqua', 'NN', 'NN-Debiased'], key='NPNN')\n",
    "plt.xlim(right=102)"
   ]
  },
  {
   "cell_type": "code",
   "execution_count": null,
   "metadata": {},
   "outputs": [],
   "source": [
    "plot_tropics_avg_cases([ng, lo_run, run_db_fixed], ['NG-Aqua', 'NN', 'NN-Debiased'], key='W500')\n",
    "plt.xlim(right=102)"
   ]
  },
  {
   "cell_type": "markdown",
   "metadata": {},
   "source": [
    "Overall this simulation looks pretty similar to the one with the incorrect SOLIN."
   ]
  }
 ],
 "metadata": {
  "kernelspec": {
   "display_name": "Python 3",
   "language": "python",
   "name": "python3"
  },
  "language_info": {
   "codemirror_mode": {
    "name": "ipython",
    "version": 3
   },
   "file_extension": ".py",
   "mimetype": "text/x-python",
   "name": "python",
   "nbconvert_exporter": "python",
   "pygments_lexer": "ipython3",
   "version": "3.6.6"
  }
 },
 "nbformat": 4,
 "nbformat_minor": 2
}
