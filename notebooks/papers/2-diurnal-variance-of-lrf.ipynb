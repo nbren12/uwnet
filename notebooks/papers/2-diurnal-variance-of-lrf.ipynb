{
 "cells": [
  {
   "cell_type": "markdown",
   "metadata": {},
   "source": [
    "The [last notebook](https://atmos.washington.edu/~nbren12/reports/uwnet/notebooks/papers/boostrap-lrfs.html) shows that the LRFs varied a lot accross a boostrap sample taken from the tropics. I guess that this is due to diurnal variability. In this notebook, I study the diurnal cycle of the LRF, and the robustness of the upper atmospheric sensitivity.\n"
   ]
  },
  {
   "cell_type": "code",
   "execution_count": null,
   "metadata": {},
   "outputs": [],
   "source": [
    "from jacobian import *\n",
    "from src.data import open_data\n",
    "import common"
   ]
  },
  {
   "cell_type": "code",
   "execution_count": null,
   "metadata": {},
   "outputs": [],
   "source": [
    "model = get_model(path=\"../../models/265/5.pkl\")\n",
    "training = open_data('training')\n",
    "training['region'] = common.get_regions(training.y)\n",
    "training['time_of_day'] = (training.time % 1) * 24\n",
    "tropics = training.isel(y=slice(30,34)).load()"
   ]
  },
  {
   "cell_type": "markdown",
   "metadata": {},
   "source": [
    "# Diurnal cycle of the LRF"
   ]
  },
  {
   "cell_type": "code",
   "execution_count": null,
   "metadata": {},
   "outputs": [],
   "source": [
    "diurnal_mean = {time: ds.mean(['x', 'y', 'time']).expand_dims(['x', 'y'], [-1, -2]) for time, ds in tropics.groupby('time_of_day')}\n",
    "jacobians = {time: get_jacobian(model, sample) for time, sample in diurnal_mean.items()}"
   ]
  },
  {
   "cell_type": "code",
   "execution_count": null,
   "metadata": {},
   "outputs": [],
   "source": [
    "p = tropics.p[0].values"
   ]
  },
  {
   "cell_type": "code",
   "execution_count": null,
   "metadata": {},
   "outputs": [],
   "source": [
    "for key, jac in jacobians.items():\n",
    "    plot((jac, p))\n",
    "    plt.suptitle(f'Time of day = {key}')"
   ]
  },
  {
   "cell_type": "markdown",
   "metadata": {},
   "source": [
    "The minimum value of each element of the LRFs is stable accross the diurnal cycle:"
   ]
  },
  {
   "cell_type": "code",
   "execution_count": null,
   "metadata": {},
   "outputs": [],
   "source": [
    "q025 = apply_list_jacobian(quantile(q=.025), list(jacobians.values()))\n",
    "plot((q025, p));"
   ]
  },
  {
   "cell_type": "markdown",
   "metadata": {},
   "source": [
    "The LRFs are actually quite consistent accross the diurnal cycle. It must be some other factor which explains the variance in the LRFs. My next guess is that PW explains the non-linearity of the LRF."
   ]
  }
 ],
 "metadata": {
  "kernelspec": {
   "display_name": "Python 3",
   "language": "python",
   "name": "python3"
  },
  "language_info": {
   "codemirror_mode": {
    "name": "ipython",
    "version": 3
   },
   "file_extension": ".py",
   "mimetype": "text/x-python",
   "name": "python",
   "nbconvert_exporter": "python",
   "pygments_lexer": "ipython3",
   "version": "3.7.3"
  }
 },
 "nbformat": 4,
 "nbformat_minor": 2
}
