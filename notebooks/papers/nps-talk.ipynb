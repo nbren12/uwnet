{
 "cells": [
  {
   "cell_type": "code",
   "execution_count": null,
   "metadata": {},
   "outputs": [],
   "source": [
    "import seaborn as sns"
   ]
  },
  {
   "cell_type": "code",
   "execution_count": null,
   "metadata": {},
   "outputs": [],
   "source": [
    "!mkdir nps-images"
   ]
  },
  {
   "cell_type": "code",
   "execution_count": null,
   "metadata": {},
   "outputs": [],
   "source": [
    "%%file presentation.mplstyle\n",
    "axes.titlesize : 20\n",
    "axes.labelsize : 14\n",
    "lines.linewidth : 2\n",
    "lines.markersize : 10\n",
    "xtick.labelsize : 13\n",
    "ytick.labelsize : 13"
   ]
  },
  {
   "cell_type": "code",
   "execution_count": null,
   "metadata": {},
   "outputs": [],
   "source": [
    "from rms_weather_plots import get_data\n",
    "from common import run_labels\n",
    "import matplotlib.pyplot as plt\n",
    "\n",
    "plt.style.use('presentation.mplstyle')\n",
    "\n",
    "\n",
    "\n",
    "def savefig(name):\n",
    "    plt.savefig(f\"nps-images/{name}\")"
   ]
  },
  {
   "cell_type": "code",
   "execution_count": null,
   "metadata": {},
   "outputs": [],
   "source": [
    "data = get_data()\n",
    "df = data.to_dataframe().rename(index=run_labels).reset_index()\n",
    "df = df[df.time < 109]\n",
    "df = df.rename(columns={'concat_dim': 'Run'})"
   ]
  },
  {
   "cell_type": "code",
   "execution_count": null,
   "metadata": {},
   "outputs": [],
   "source": [
    "df.head()"
   ]
  },
  {
   "cell_type": "code",
   "execution_count": null,
   "metadata": {},
   "outputs": [],
   "source": [
    "def plot_field(field, unit=\"\"):\n",
    "\n",
    "    sns.FacetGrid(df, hue=\"Run\", col=\"y\")\\\n",
    "    .map(plt.plot, \"time\", field)\\\n",
    "    .add_legend()\\\n",
    "    .set_ylabels(f\"{field} ({unit})\")\n",
    "    \n",
    "    savefig(f\"rms-{field}.pdf\")\n"
   ]
  },
  {
   "cell_type": "code",
   "execution_count": null,
   "metadata": {},
   "outputs": [],
   "source": [
    "plot_field(\"VORT\", \"1/s\")"
   ]
  },
  {
   "cell_type": "code",
   "execution_count": null,
   "metadata": {},
   "outputs": [],
   "source": [
    "plot_field(\"QT\", \"g/kg\")"
   ]
  },
  {
   "cell_type": "code",
   "execution_count": null,
   "metadata": {},
   "outputs": [],
   "source": [
    "plot_field(\"SLI\", \"K\")"
   ]
  },
  {
   "cell_type": "code",
   "execution_count": null,
   "metadata": {},
   "outputs": [],
   "source": [
    "from src.data import runs"
   ]
  },
  {
   "cell_type": "code",
   "execution_count": null,
   "metadata": {},
   "outputs": [],
   "source": [
    "PW = runs['debias'].data_2d.PW"
   ]
  },
  {
   "cell_type": "code",
   "execution_count": null,
   "metadata": {},
   "outputs": [],
   "source": [
    "PW.sel(time=slice(101, 140, 4*24)).plot(col='time', col_wrap=4)"
   ]
  }
 ],
 "metadata": {
  "kernelspec": {
   "display_name": "Python 3",
   "language": "python",
   "name": "python3"
  },
  "language_info": {
   "codemirror_mode": {
    "name": "ipython",
    "version": 3
   },
   "file_extension": ".py",
   "mimetype": "text/x-python",
   "name": "python",
   "nbconvert_exporter": "python",
   "pygments_lexer": "ipython3",
   "version": "3.6.6"
  }
 },
 "nbformat": 4,
 "nbformat_minor": 2
}
