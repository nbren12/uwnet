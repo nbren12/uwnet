{
 "cells": [
  {
   "cell_type": "markdown",
   "metadata": {},
   "source": [
    "How does the upper atmospheric sensitivity vary across the bootstrapped sample?"
   ]
  },
  {
   "cell_type": "code",
   "execution_count": null,
   "metadata": {},
   "outputs": [],
   "source": [
    "from jacobian import *\n",
    "from src.data import open_data\n",
    "import common"
   ]
  },
  {
   "cell_type": "code",
   "execution_count": null,
   "metadata": {},
   "outputs": [],
   "source": [
    "# bootstrap sample size\n",
    "n = 200\n",
    "\n",
    "training = open_data('training')\n",
    "training['region'] = common.get_regions(training.y)\n",
    "tropics = training.isel(y=slice(30,34)).load()\n",
    "tropics['time_of_day'] = tropics.time % 1\n",
    "p = tropics.p[0].values"
   ]
  },
  {
   "cell_type": "markdown",
   "metadata": {},
   "source": [
    "Generate the bootstrapped samples:"
   ]
  },
  {
   "cell_type": "code",
   "execution_count": null,
   "metadata": {},
   "outputs": [],
   "source": [
    "model = get_model(path=\"../../models/265/5.pkl\")\n",
    "samples = list(bootstrap_samples(tropics, n))\n",
    "jacobians = [get_jacobian(model, sample) for sample in samples]"
   ]
  },
  {
   "cell_type": "markdown",
   "metadata": {},
   "source": [
    "# Compute the heating sensitivity\n",
    "\n",
    "One metric of the sensitivity is given by\n",
    "\n",
    "$$\\sqrt{\\left\\langle \\left|\\frac{\\partial Q_1}{\\partial q_T(200 mb)}\\right|^2 \\right\\rangle} $$\n",
    "\n",
    "where $\\langle \\cdot \\rangle$ is a vertically mass-weighted average."
   ]
  },
  {
   "cell_type": "code",
   "execution_count": null,
   "metadata": {},
   "outputs": [],
   "source": [
    "def heating_sensitivity_to_upper_humidity(jacobian, p):\n",
    "    \"\"\"Heating sensitivity in W/m2/(g/kg)\n",
    "    \"\"\"\n",
    "    sensitivity = jacobian['SLI']['QT'].detach().numpy()\n",
    "    mass = tropics.layer_mass[0].values[:, None]\n",
    "    return np.sqrt((sensitivity[:, 20]**2 * mass).sum()/mass.sum())"
   ]
  },
  {
   "cell_type": "code",
   "execution_count": null,
   "metadata": {},
   "outputs": [],
   "source": [
    "vars_to_compare = ['PW', 'time_of_day', 'LHF']\n",
    "\n",
    "data = {'sensitivity': [heating_sensitivity_to_upper_humidity(jac, p) for jac in jacobians]}\n",
    "\n",
    "for variable in vars_to_compare:\n",
    "    data[variable] = [float(sample[variable]) for sample in samples]\n",
    "\n",
    "\n",
    "df = pd.DataFrame(data)"
   ]
  },
  {
   "cell_type": "markdown",
   "metadata": {},
   "source": [
    "We can see that sensitivity is large accross the bootstrap sample"
   ]
  },
  {
   "cell_type": "code",
   "execution_count": null,
   "metadata": {},
   "outputs": [],
   "source": [
    "df.sensitivity.describe()"
   ]
  },
  {
   "cell_type": "markdown",
   "metadata": {},
   "source": [
    "This can be seen from looking at the histogram"
   ]
  },
  {
   "cell_type": "code",
   "execution_count": null,
   "metadata": {},
   "outputs": [],
   "source": [
    "df.sensitivity.plot(kind='hist')\n",
    "plt.xlabel('Sensitivity (K/day/(g/kg))');"
   ]
  },
  {
   "cell_type": "code",
   "execution_count": null,
   "metadata": {},
   "outputs": [],
   "source": [
    "df.plot(kind='scatter', x='PW', y='sensitivity')"
   ]
  },
  {
   "cell_type": "markdown",
   "metadata": {},
   "source": [
    "The sensitivity clearly grows with PW, just as Prec does."
   ]
  }
 ],
 "metadata": {
  "kernelspec": {
   "display_name": "Python 3",
   "language": "python",
   "name": "python3"
  },
  "language_info": {
   "codemirror_mode": {
    "name": "ipython",
    "version": 3
   },
   "file_extension": ".py",
   "mimetype": "text/x-python",
   "name": "python",
   "nbconvert_exporter": "python",
   "pygments_lexer": "ipython3",
   "version": "3.7.3"
  }
 },
 "nbformat": 4,
 "nbformat_minor": 2
}
