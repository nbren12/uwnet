{
 "cells": [
  {
   "cell_type": "markdown",
   "metadata": {},
   "source": [
    "In this notebook, I show coupled simulations with a white noise stochastic parameterization. This noise has a covariance structure between QT and SLI given by the error made by the base neural network. This covariance depends on latitude, but the noise is completely white in space and time."
   ]
  },
  {
   "cell_type": "code",
   "execution_count": null,
   "metadata": {},
   "outputs": [],
   "source": [
    "%matplotlib inline\n",
    "\n",
    "import matplotlib.pyplot as plt\n",
    "plt.style.use('tableau-colorblind10')\n",
    "from src.data.sam import SAMRun\n",
    "\n",
    "\n",
    "\n",
    "def report_2d(data_2d):\n",
    "    \"\"\"Report of 2D data\"\"\"\n",
    "    \n",
    "    # make coordinates have units of 1000s of km \n",
    "    data_2d = data_2d.assign_coords(y=data_2d.y/1e6, x=data_2d.x/1e6)\n",
    "    \n",
    "    \n",
    "    fig, axs = plt.subplots(3, 2, constrained_layout=True, figsize=(10, 9))\n",
    "    axs = axs.ravel()\n",
    "    \n",
    "    i = 0\n",
    "    data_2d.PW.mean('x').T.plot(ax=axs[i])\n",
    "    axs[i].set_title('Zonal Mean PW')\n",
    "    \n",
    "    i +=1\n",
    "    data_2d.PW.std('x').T.plot(ax=axs[i])\n",
    "    axs[i].set_title('Zonal Std PW')\n",
    "    \n",
    "    i +=1\n",
    "    data_2d.NPNN.mean('x').T.plot(ax=axs[i])\n",
    "    axs[i].set_title('Net Precip Zonal Mean (from QT)')\n",
    "    \n",
    "    i +=1\n",
    "    data_2d.W500.mean('x').T.plot(ax=axs[i])\n",
    "    axs[i].set_title('W500 Zonal mean')\n",
    "    \n",
    "    i +=1\n",
    "    t = - 1\n",
    "    time = float(data_2d.time[t])\n",
    "    data_2d.PW[t].plot(ax=axs[i])\n",
    "    axs[i].set_title(f'PW Snapshot at {time}')\n",
    "    \n",
    "    i +=1\n",
    "    data_2d.NPNN[t].plot(ax=axs[i])\n",
    "    axs[i].set_title(f'Net Precip (QT) Snapshot at {time}')\n",
    "    \n",
    "    for ax in axs[i+1:]:\n",
    "        ax.axis('off')"
   ]
  },
  {
   "cell_type": "markdown",
   "metadata": {},
   "source": [
    "# Noisy run"
   ]
  },
  {
   "cell_type": "code",
   "execution_count": null,
   "metadata": {},
   "outputs": [],
   "source": [
    "run_noise = SAMRun('../data/runs/2019-03-14-model268-epoch5-debiased-noise/', case='control')\n",
    "\n",
    "report_2d(run_noise.data_2d)"
   ]
  },
  {
   "cell_type": "markdown",
   "metadata": {},
   "source": [
    "# Non-noisy run"
   ]
  },
  {
   "cell_type": "code",
   "execution_count": null,
   "metadata": {},
   "outputs": [],
   "source": [
    "run_orig = SAMRun('../data/runs/2019-03-14-model268-epoch5-debiased/', case='control')\n",
    "report_2d(run_orig.data_2d)"
   ]
  },
  {
   "cell_type": "markdown",
   "metadata": {},
   "source": [
    "# Comparisons"
   ]
  },
  {
   "cell_type": "code",
   "execution_count": null,
   "metadata": {},
   "outputs": [],
   "source": [
    "from src.utils import get_regions\n",
    "from src.data import open_data\n",
    "from uwnet.thermo import lhf_to_evap\n",
    "\n",
    "training = open_data('ngaqua_2d').sel(time=slice(100, 110))\n",
    "training['NPNN'] = training.Prec - lhf_to_evap(training.LHF)"
   ]
  },
  {
   "cell_type": "code",
   "execution_count": null,
   "metadata": {},
   "outputs": [],
   "source": [
    "def groupby_region(data_2d):\n",
    "    regions = get_regions(data_2d.y)\n",
    "    return data_2d.groupby(regions)\n",
    "\n",
    "def plot_tropical_avg(a, **kwargs):\n",
    "    groupby_region(a).mean(['y', 'x']).sel(y='Tropics').plot(**kwargs)\n",
    "\n",
    "def plot_tropical_std(a, **kwargs):\n",
    "    groupby_region(a).std(['y', 'x']).sel(y='Tropics').plot(**kwargs)\n",
    "    \n",
    "def compare_avg(field):\n",
    "    plot_tropical_avg(training[field], label='NG-Aqua')\n",
    "    plot_tropical_avg(run_orig.data_2d[field], label='Orig')\n",
    "    plot_tropical_avg(run_noise.data_2d[field], label='Noise')\n",
    "    unit = str(run_orig.data_2d[field].units)\n",
    "\n",
    "    \n",
    "    plt.title(f\"Average {field} in Tropics ({unit})\")\n",
    "    plt.legend()\n",
    "    \n",
    "def compare_std(field):\n",
    "    plot_tropical_std(training[field], label='NG-Aqua')\n",
    "    plot_tropical_std(run_orig.data_2d[field], label='Orig')\n",
    "    plot_tropical_std(run_noise.data_2d[field], label='Noise')\n",
    "    unit = str(run_orig.data_2d[field].units)\n",
    "    plt.title(f\"StdDev {field} in Tropics ({unit})\")\n",
    "    plt.legend()"
   ]
  },
  {
   "cell_type": "code",
   "execution_count": null,
   "metadata": {},
   "outputs": [],
   "source": [
    "compare_avg('PW')"
   ]
  },
  {
   "cell_type": "code",
   "execution_count": null,
   "metadata": {},
   "outputs": [],
   "source": [
    "compare_std('PW')"
   ]
  },
  {
   "cell_type": "code",
   "execution_count": null,
   "metadata": {},
   "outputs": [],
   "source": [
    "compare_avg('NPNN')"
   ]
  },
  {
   "cell_type": "code",
   "execution_count": null,
   "metadata": {},
   "outputs": [],
   "source": [
    "compare_avg('W500')"
   ]
  },
  {
   "cell_type": "markdown",
   "metadata": {},
   "source": [
    "Clearly none of the scheme does not produce enough vertical motion in the tropics, perhaps because the average precipitation is too low."
   ]
  }
 ],
 "metadata": {
  "kernelspec": {
   "display_name": "Python 3",
   "language": "python",
   "name": "python3"
  },
  "language_info": {
   "codemirror_mode": {
    "name": "ipython",
    "version": 3
   },
   "file_extension": ".py",
   "mimetype": "text/x-python",
   "name": "python",
   "nbconvert_exporter": "python",
   "pygments_lexer": "ipython3",
   "version": "3.6.6"
  }
 },
 "nbformat": 4,
 "nbformat_minor": 2
}
