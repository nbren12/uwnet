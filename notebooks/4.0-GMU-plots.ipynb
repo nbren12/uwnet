{
 "cells": [
  {
   "cell_type": "code",
   "execution_count": null,
   "metadata": {},
   "outputs": [],
   "source": [
    "%matplotlib inline\n",
    "import holoviews as hv\n",
    "hv.extension('bokeh', 'matplotlib',)\n",
    "%opts Image[width=500, height=300, colorbar=True](cmap='magma') \n",
    "%opts QuadMesh[width=400,  height=200, colorbar=True](cmap='viridis')\n",
    "%opts Curve[width=500, height=int(500/1.61)]\n",
    "\n",
    "import matplotlib.pyplot as plt\n",
    "plt.rcParams['savefig.dpi'] = 120\n",
    "plt.style.use('presentation.mplstyle')\n",
    "from gnl.colorblind import colorblind_matplotlib\n",
    "colorblind_matplotlib()\n",
    "\n",
    "\n",
    "\n",
    "\n",
    "\n",
    "import xarray as xr\n",
    "from os.path import join, abspath\n",
    "import os\n",
    "from scipy import quantile\n",
    "\n",
    "\n",
    "RUN = abspath(os.getenv('RUN', '../models/17/test'))\n",
    "TRAINING = \"../data/processed/training.nc\"\n",
    "\n",
    "\n",
    "data_2d_path = join(RUN, 'OUT_2D', '*.nc')\n",
    "data_3d_path = join(RUN, 'OUT_3D', '*.nc')\n",
    "data_stat_path = join(RUN, 'OUT_STAT', '*.nc')\n",
    "no_nn_path = '/Users/noah/workspace/research/uwnet/data/runs/2018-09-27/OUT_3D/*.nc'\n",
    "\n",
    "\n",
    "print(data_2d_path)\n",
    "data_2d = xr.open_mfdataset(data_2d_path)\n",
    "data_3d = xr.open_mfdataset(data_3d_path)\n",
    "stat = xr.open_mfdataset(data_stat_path)\n",
    "train_data = xr.open_dataset(TRAINING)\n",
    "no_nn = xr.open_mfdataset(no_nn_path)\n",
    "\n",
    "data_3d['FQTNN'] *= 86400\n",
    "data_3d['FQTNN'].attrs['units'] = 'g/kg/d'\n",
    "data_3d['FSLINN'] *= 86400\n",
    "data_3d['FSLINN'].attrs['units'] = 'K/d'"
   ]
  },
  {
   "cell_type": "code",
   "execution_count": null,
   "metadata": {},
   "outputs": [],
   "source": [
    "! [ -d gmu-figs ] || mkdir gmu-figs"
   ]
  },
  {
   "cell_type": "code",
   "execution_count": null,
   "metadata": {},
   "outputs": [],
   "source": [
    "data_2d.PW[::22].plot(col='time', col_wrap=3)"
   ]
  },
  {
   "cell_type": "code",
   "execution_count": null,
   "metadata": {},
   "outputs": [],
   "source": [
    "data_2d.W500[::22].plot(col='time', col_wrap=3)"
   ]
  },
  {
   "cell_type": "code",
   "execution_count": null,
   "metadata": {},
   "outputs": [],
   "source": [
    "data_3d.W[::7].mean('x').plot(col='time', col_wrap=3)"
   ]
  },
  {
   "cell_type": "markdown",
   "metadata": {},
   "source": [
    "# Forcing in a Single Location"
   ]
  },
  {
   "cell_type": "code",
   "execution_count": null,
   "metadata": {},
   "outputs": [],
   "source": [
    "loc = dict(x=0, y=32)\n",
    "\n",
    "data_3d['FQTNN'].isel(**loc).plot.contourf(x='time', levels=11, vmax=10)\n",
    "plt.figure()\n",
    "data_3d['FSLINN'].isel(**loc).plot.contourf(x='time', levels=11)"
   ]
  },
  {
   "cell_type": "markdown",
   "metadata": {},
   "source": [
    "The training data is sampled twice as frequently. Let's align the two"
   ]
  },
  {
   "cell_type": "code",
   "execution_count": null,
   "metadata": {},
   "outputs": [],
   "source": [
    "train_data_resampled = train_data.sel(time=data_3d.time, method='nearest')\\\n",
    ".assign_coords(x=data_3d.x, y=data_3d.y, time=data_3d.time)\n",
    "\n",
    "no_nn_resampled = no_nn.sel(time=data_3d.time, method='nearest')\\\n",
    ".assign_coords(x=data_3d.x, y=data_3d.y, time=data_3d.time)"
   ]
  },
  {
   "cell_type": "markdown",
   "metadata": {},
   "source": [
    "## Spatial structure of the error"
   ]
  },
  {
   "cell_type": "code",
   "execution_count": null,
   "metadata": {},
   "outputs": [],
   "source": [
    "forecast_error = data_3d - train_data_resampled\n",
    "\n",
    "qt_error = train_data_resampled.QT -data_3d.QT\n",
    "\n",
    "sli_error = train_data_resampled.SLI -data_3d.SLI\n",
    "u_error = train_data_resampled.U -data_3d.U\n",
    "\n",
    "u_error_persistence = train_data_resampled.U[0] - train_data_resampled.U"
   ]
  },
  {
   "cell_type": "markdown",
   "metadata": {},
   "source": [
    "## Comparison with persistence and null forecasts"
   ]
  },
  {
   "cell_type": "code",
   "execution_count": null,
   "metadata": {},
   "outputs": [],
   "source": [
    "def rms(x):\n",
    "    return np.sqrt((x**2).mean(['x', 'y']))\n",
    "\n",
    "def error_plot(forecast, no_nn, truth, unit=''):\n",
    "    error  = rms(forecast- truth)\n",
    "    persistence_error = rms(truth[0] - truth)\n",
    "    time = error.time\n",
    "    plt.plot(time,error, label='NN')\n",
    "    plt.plot(time,persistence_error, label='Persistence Forecast')\n",
    "    plt.plot(time,rms(no_nn-truth), label='No NN')\n",
    "    plt.xlabel('day')\n",
    "    plt.ylabel(unit)\n",
    "    plt.legend()\n",
    "    \n",
    "def plot_err_height_field(field, level, **kw):\n",
    "    error_plot(data_3d[field][:,level], no_nn_resampled[field][:,level], train_data_resampled[field][:,level], **kw)\n",
    "    plt.title(f\"{field} RMS Error at z={float(data_3d.z[level])}\")\n",
    "    plt.tight_layout()\n",
    "\n",
    "    \n",
    "def plot_err_field(field):\n",
    "    levs = [5,10,15,20]\n",
    "\n",
    "    for lev in levs:\n",
    "        plt.figure()\n",
    "        plot_err_height_field(field, lev)"
   ]
  },
  {
   "cell_type": "code",
   "execution_count": null,
   "metadata": {},
   "outputs": [],
   "source": [
    "plot_err_height_field('SLI', 15, unit='K')\n",
    "plt.savefig('gmu-figs/sli-err.pdf')\n",
    "plt.tight_layout()"
   ]
  },
  {
   "cell_type": "code",
   "execution_count": null,
   "metadata": {},
   "outputs": [],
   "source": [
    "plot_err_height_field('QT', 10, unit='g/kg')\n",
    "plt.savefig('gmu-figs/qt-err.pdf')"
   ]
  },
  {
   "cell_type": "code",
   "execution_count": null,
   "metadata": {},
   "outputs": [],
   "source": [
    "plot_err_height_field('U', 15, unit='m/s')\n",
    "plt.savefig('gmu-figs/u-err.pdf')"
   ]
  },
  {
   "cell_type": "code",
   "execution_count": null,
   "metadata": {},
   "outputs": [],
   "source": [
    "plot_err_height_field('W', 15, unit='m/s')\n",
    "plt.savefig('gmu-figs/w-err.pdf')"
   ]
  },
  {
   "cell_type": "markdown",
   "metadata": {},
   "source": [
    "# Error in P-E"
   ]
  },
  {
   "cell_type": "code",
   "execution_count": null,
   "metadata": {},
   "outputs": [],
   "source": [
    "net_precip_nn = -(data_3d.FQTNN/1000 * train_data.layer_mass).sum('z')\n",
    "t_2d_plot= net_precip_nn[::5].time\n",
    "\n",
    "net_precip_obs = train_data.Prec - train_data.LHF/2.51e6 * 86400\n"
   ]
  },
  {
   "cell_type": "code",
   "execution_count": null,
   "metadata": {},
   "outputs": [],
   "source": [
    "fig, (obs, nn) = plt.subplots(1, 2, constrained_layout=True, figsize=(10,4))\n",
    "\n",
    "t = 101.875\n",
    "\n",
    "im = net_precip_obs.sel(time=t).plot(vmax=50, ax=obs, add_labels=False, add_colorbar=False)\n",
    "net_precip_nn.sel(time=t).plot(vmax=50, ax=nn, add_labels=False, add_colorbar=False)\n",
    "\n",
    "plt.colorbar(im, ax=[obs,nn], label='mm/day')\n",
    "obs.set_title(\"NG-Aqua (obs)\")\n",
    "nn.set_title(\"NN+SAM\")\n",
    "\n",
    "plt.savefig('gmu-figs/net-precip-snapshot.png')"
   ]
  },
  {
   "cell_type": "code",
   "execution_count": null,
   "metadata": {},
   "outputs": [],
   "source": [
    "net_precip_nn[10].plot()"
   ]
  },
  {
   "cell_type": "code",
   "execution_count": null,
   "metadata": {},
   "outputs": [],
   "source": [
    "net_precip_nn.mean('x')[-1].plot(label='NN+SAM')\n",
    "net_precip_obs.mean(['x', 'time']).plot(label='OBS')\n",
    "plt.legend()\n",
    "plt.title(\"Zonal mean net precipitation (mm/day)\")\n",
    "plt.tight_layout()\n",
    "plt.savefig(\"gmu-figs/net-precip.pdf\")\n"
   ]
  },
  {
   "cell_type": "markdown",
   "metadata": {},
   "source": [
    "### Equatorial winds\n",
    "\n",
    "Let's look at the difference in the zonal mean zonal velocity at the equator in NGAqua and in the truth."
   ]
  },
  {
   "cell_type": "code",
   "execution_count": null,
   "metadata": {},
   "outputs": [],
   "source": [
    "nn = data_3d.U.mean('x').isel(y=32)\n",
    "obs = train_data_resampled.U.isel(y=32).mean('x')"
   ]
  },
  {
   "cell_type": "code",
   "execution_count": null,
   "metadata": {},
   "outputs": [],
   "source": [
    "%%opts Curve{+framewise}\n",
    "hv.Dataset(obs.load()).to.curve(\"time\", label=\"SAM\") \\\n",
    "   * hv.Dataset(nn.load()).to.curve(\"time\", label=\"NN\")"
   ]
  },
  {
   "cell_type": "markdown",
   "metadata": {},
   "source": [
    "The surface easterlies in SAM/NN are much smaller than in NGAqua, but are larger in magnitude above 1km. As Chris suggests, this could indicate there is not enough vertical momentum mixing in the tropics of this model. This mixing could be increased by a good parametrization of CMT."
   ]
  },
  {
   "cell_type": "markdown",
   "metadata": {},
   "source": [
    "# Tarball up the figures"
   ]
  },
  {
   "cell_type": "code",
   "execution_count": null,
   "metadata": {},
   "outputs": [],
   "source": [
    "!tar czf gmu-figs.tgz gmu-figs/"
   ]
  }
 ],
 "metadata": {
  "kernelspec": {
   "display_name": "Python 3",
   "language": "python",
   "name": "python3"
  },
  "language_info": {
   "codemirror_mode": {
    "name": "ipython",
    "version": 3
   },
   "file_extension": ".py",
   "mimetype": "text/x-python",
   "name": "python",
   "nbconvert_exporter": "python",
   "pygments_lexer": "ipython3",
   "version": "3.6.6"
  }
 },
 "nbformat": 4,
 "nbformat_minor": 2
}
