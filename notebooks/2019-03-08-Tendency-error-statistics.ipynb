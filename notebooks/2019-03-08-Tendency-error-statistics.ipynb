{
 "cells": [
  {
   "cell_type": "markdown",
   "metadata": {},
   "source": [
    "Let's look at the residual tendency resulting from simulation. In this cell, I load the data and compute the tendency errors."
   ]
  },
  {
   "cell_type": "code",
   "execution_count": null,
   "metadata": {},
   "outputs": [],
   "source": [
    "from src.data import open_data\n",
    "import torch\n",
    "from uwnet.thermo import compute_apparent_source\n",
    "\n",
    "model = torch.load(\"../data/runs/model268-epoch5.debiased/model.pkl\")\n",
    "\n",
    "data = open_data(\"training\")\n",
    "data = data.isel(time=slice(0,100)).compute()\n",
    "\n",
    "srcs = model.predict(data)\n",
    "\n",
    "q2 = compute_apparent_source(data.QT, data.FQT*86400)\n",
    "q1 = compute_apparent_source(data.SLI, data.FSLI*86400)\n",
    "\n",
    "error_qt = q2 - srcs.QT\n",
    "error_sli = q1 - srcs.SLI"
   ]
  },
  {
   "cell_type": "markdown",
   "metadata": {},
   "source": [
    "Here is a plot of the tendency error"
   ]
  },
  {
   "cell_type": "code",
   "execution_count": null,
   "metadata": {},
   "outputs": [],
   "source": [
    "error_qt[0,10].plot()"
   ]
  },
  {
   "cell_type": "code",
   "execution_count": null,
   "metadata": {},
   "outputs": [],
   "source": [
    "error_sli[0,10].plot()"
   ]
  },
  {
   "cell_type": "code",
   "execution_count": null,
   "metadata": {},
   "outputs": [],
   "source": [
    "error_qt.dropna('time').mean(['x', 'time']).plot()"
   ]
  },
  {
   "cell_type": "code",
   "execution_count": null,
   "metadata": {},
   "outputs": [],
   "source": [
    "error_qt.dropna('time').std(['x', 'time']).plot()"
   ]
  },
  {
   "cell_type": "markdown",
   "metadata": {},
   "source": [
    "The standard deviation of this residual is much larger than mean. In fact the mean should be zero over the whole dataset because this simulation is debiased."
   ]
  },
  {
   "cell_type": "code",
   "execution_count": null,
   "metadata": {},
   "outputs": [],
   "source": [
    "plt.hist(error_qt[:,10].values.ravel(), 100);"
   ]
  },
  {
   "cell_type": "code",
   "execution_count": null,
   "metadata": {},
   "outputs": [],
   "source": [
    "plt.hist(error_sli[:,10].values.ravel(), 100);"
   ]
  },
  {
   "cell_type": "markdown",
   "metadata": {},
   "source": [
    "# Vertical covariance of tendency error"
   ]
  },
  {
   "cell_type": "code",
   "execution_count": null,
   "metadata": {},
   "outputs": [],
   "source": [
    "cov = (error_qt *error_qt.rename({'z': 'zp'})).mean(['time', 'x'])"
   ]
  },
  {
   "cell_type": "code",
   "execution_count": null,
   "metadata": {},
   "outputs": [],
   "source": [
    "cov.isel(y=32).plot()"
   ]
  },
  {
   "cell_type": "code",
   "execution_count": null,
   "metadata": {},
   "outputs": [],
   "source": [
    "cov.isel(y=10).plot()"
   ]
  },
  {
   "cell_type": "code",
   "execution_count": null,
   "metadata": {},
   "outputs": [],
   "source": [
    "cov.isel(y=20).plot()"
   ]
  },
  {
   "cell_type": "markdown",
   "metadata": {},
   "source": [
    "the covariance is more broad-based in the tropics and extra-tropics than the sub-tropics. Maybe this occurs because there is less signal there."
   ]
  },
  {
   "cell_type": "markdown",
   "metadata": {},
   "source": [
    "In any case, we can generate noise with this covariance."
   ]
  },
  {
   "cell_type": "markdown",
   "metadata": {},
   "source": [
    "# Cross covariance of Q1 and Q2 error"
   ]
  },
  {
   "cell_type": "code",
   "execution_count": null,
   "metadata": {},
   "outputs": [],
   "source": [
    "cov = (error_qt *error_sli.rename({'z': 'zp'})).mean(['time', 'x'])"
   ]
  },
  {
   "cell_type": "code",
   "execution_count": null,
   "metadata": {},
   "outputs": [],
   "source": [
    "cov.isel(y=32).plot(y='zp')"
   ]
  },
  {
   "cell_type": "markdown",
   "metadata": {},
   "source": [
    "These errors are negative correlated in the troposhere (indicating they they might conserve MSE)."
   ]
  },
  {
   "cell_type": "code",
   "execution_count": null,
   "metadata": {},
   "outputs": [],
   "source": [
    "cov.isel(y=10).plot(y='zp')"
   ]
  },
  {
   "cell_type": "markdown",
   "metadata": {},
   "source": [
    "# Spatial Spectrum"
   ]
  },
  {
   "cell_type": "code",
   "execution_count": null,
   "metadata": {},
   "outputs": [],
   "source": [
    "from scipy.signal import periodogram\n",
    "\n",
    "error_qt_z10 = error_qt.isel(z=10).dropna('time')\n",
    "\n",
    "f, pxx = periodogram(error_qt_z10.values, axis=-1)\n",
    "pxx = pxx.mean(0)\n",
    "\n",
    "plt.plot(pxx[32], label='tropics')\n",
    "plt.plot(pxx[10], label='extra-tropics')\n",
    "plt.legend()"
   ]
  },
  {
   "cell_type": "markdown",
   "metadata": {},
   "source": [
    "This error is fairly weight in space, but does have a peak at large-scales."
   ]
  },
  {
   "cell_type": "markdown",
   "metadata": {},
   "source": [
    "# Temporal spectra"
   ]
  },
  {
   "cell_type": "code",
   "execution_count": null,
   "metadata": {},
   "outputs": [],
   "source": [
    "from scipy.signal import periodogram\n",
    "\n",
    "error_qt_z10 = error_qt.isel(z=10).dropna('time')\n",
    "\n",
    "f, pxx = periodogram(error_qt_z10.values, 1/.125, axis=error_qt_z10.get_axis_num('time'))\n",
    "pxx = pxx.mean(-1).T\n",
    "\n",
    "plt.plot(f, pxx[32], label='tropics')\n",
    "plt.plot(f, pxx[10], label='extra-tropics')\n",
    "plt.legend()"
   ]
  },
  {
   "cell_type": "markdown",
   "metadata": {},
   "source": [
    "The temporal spectra is significantly less weight. Especially in the tropics."
   ]
  },
  {
   "cell_type": "markdown",
   "metadata": {},
   "source": [
    "# Predicted vs Error"
   ]
  },
  {
   "cell_type": "code",
   "execution_count": null,
   "metadata": {},
   "outputs": [],
   "source": [
    "plt.hexbin(\n",
    "    srcs.QT[:,10, 32].values.ravel(), error_qt[:,10, 32].values.ravel())\n",
    "plt.xlim([-5,5])\n",
    "plt.ylim([-5,5])\n",
    "plt.xlabel('QT Pred')\n",
    "plt.ylabel('Q2 - QT Pred');"
   ]
  },
  {
   "cell_type": "markdown",
   "metadata": {},
   "source": [
    "If anything it seems like the NN over-estimates the amount of rainfall."
   ]
  }
 ],
 "metadata": {
  "kernelspec": {
   "display_name": "Python 3",
   "language": "python",
   "name": "python3"
  },
  "language_info": {
   "codemirror_mode": {
    "name": "ipython",
    "version": 3
   },
   "file_extension": ".py",
   "mimetype": "text/x-python",
   "name": "python",
   "nbconvert_exporter": "python",
   "pygments_lexer": "ipython3",
   "version": "3.6.6"
  }
 },
 "nbformat": 4,
 "nbformat_minor": 2
}
