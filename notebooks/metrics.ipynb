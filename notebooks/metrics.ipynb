{
 "cells": [
  {
   "cell_type": "code",
   "execution_count": 3,
   "metadata": {},
   "outputs": [
    {
     "name": "stdout",
     "output_type": "stream",
     "text": [
      "/opt/uwnet\n"
     ]
    }
   ],
   "source": [
    "%cd /opt/uwnet/"
   ]
  },
  {
   "cell_type": "code",
   "execution_count": 4,
   "metadata": {},
   "outputs": [],
   "source": [
    "from uwnet.metrics import read_metrics_files"
   ]
  },
  {
   "cell_type": "markdown",
   "metadata": {},
   "source": [
    "# Metrics for all runs"
   ]
  },
  {
   "cell_type": "code",
   "execution_count": 6,
   "metadata": {},
   "outputs": [
    {
     "data": {
      "text/html": [
       "<div>\n",
       "<style scoped>\n",
       "    .dataframe tbody tr th:only-of-type {\n",
       "        vertical-align: middle;\n",
       "    }\n",
       "\n",
       "    .dataframe tbody tr th {\n",
       "        vertical-align: top;\n",
       "    }\n",
       "\n",
       "    .dataframe thead th {\n",
       "        text-align: right;\n",
       "    }\n",
       "</style>\n",
       "<table border=\"1\" class=\"dataframe\">\n",
       "  <thead>\n",
       "    <tr style=\"text-align: right;\">\n",
       "      <th></th>\n",
       "      <th></th>\n",
       "      <th></th>\n",
       "      <th></th>\n",
       "      <th>mean_squared_net_precip_bias</th>\n",
       "    </tr>\n",
       "    <tr>\n",
       "      <th>type</th>\n",
       "      <th>model</th>\n",
       "      <th>epoch</th>\n",
       "      <th>path</th>\n",
       "      <th></th>\n",
       "    </tr>\n",
       "  </thead>\n",
       "  <tbody>\n",
       "    <tr>\n",
       "      <th rowspan=\"10\" valign=\"top\">nn</th>\n",
       "      <th rowspan=\"5\" valign=\"top\">NNAll</th>\n",
       "      <th>3</th>\n",
       "      <th>nn/NNAll/3.json</th>\n",
       "      <td>0.932007</td>\n",
       "    </tr>\n",
       "    <tr>\n",
       "      <th>5</th>\n",
       "      <th>nn/NNAll/5.json</th>\n",
       "      <td>0.299292</td>\n",
       "    </tr>\n",
       "    <tr>\n",
       "      <th>2</th>\n",
       "      <th>nn/NNAll/2.json</th>\n",
       "      <td>0.541850</td>\n",
       "    </tr>\n",
       "    <tr>\n",
       "      <th>4</th>\n",
       "      <th>nn/NNAll/4.json</th>\n",
       "      <td>0.468125</td>\n",
       "    </tr>\n",
       "    <tr>\n",
       "      <th>1</th>\n",
       "      <th>nn/NNAll/1.json</th>\n",
       "      <td>1.295854</td>\n",
       "    </tr>\n",
       "    <tr>\n",
       "      <th rowspan=\"5\" valign=\"top\">NNLower</th>\n",
       "      <th>3</th>\n",
       "      <th>nn/NNLower/3.json</th>\n",
       "      <td>0.985320</td>\n",
       "    </tr>\n",
       "    <tr>\n",
       "      <th>5</th>\n",
       "      <th>nn/NNLower/5.json</th>\n",
       "      <td>1.606975</td>\n",
       "    </tr>\n",
       "    <tr>\n",
       "      <th>2</th>\n",
       "      <th>nn/NNLower/2.json</th>\n",
       "      <td>0.848755</td>\n",
       "    </tr>\n",
       "    <tr>\n",
       "      <th>4</th>\n",
       "      <th>nn/NNLower/4.json</th>\n",
       "      <td>0.490737</td>\n",
       "    </tr>\n",
       "    <tr>\n",
       "      <th>1</th>\n",
       "      <th>nn/NNLower/1.json</th>\n",
       "      <td>0.548291</td>\n",
       "    </tr>\n",
       "  </tbody>\n",
       "</table>\n",
       "</div>"
      ],
      "text/plain": [
       "                                      mean_squared_net_precip_bias\n",
       "type model   epoch path                                           \n",
       "nn   NNAll   3     nn/NNAll/3.json                        0.932007\n",
       "             5     nn/NNAll/5.json                        0.299292\n",
       "             2     nn/NNAll/2.json                        0.541850\n",
       "             4     nn/NNAll/4.json                        0.468125\n",
       "             1     nn/NNAll/1.json                        1.295854\n",
       "     NNLower 3     nn/NNLower/3.json                      0.985320\n",
       "             5     nn/NNLower/5.json                      1.606975\n",
       "             2     nn/NNLower/2.json                      0.848755\n",
       "             4     nn/NNLower/4.json                      0.490737\n",
       "             1     nn/NNLower/1.json                      0.548291"
      ]
     },
     "execution_count": 6,
     "metadata": {},
     "output_type": "execute_result"
    }
   ],
   "source": [
    "df = read_metrics_files()\n",
    "df"
   ]
  },
  {
   "cell_type": "markdown",
   "metadata": {},
   "source": [
    "The best RMS bias for NNLower is epoch 4."
   ]
  }
 ],
 "metadata": {
  "kernelspec": {
   "display_name": "Python 3",
   "language": "python",
   "name": "python3"
  },
  "language_info": {
   "codemirror_mode": {
    "name": "ipython",
    "version": 3
   },
   "file_extension": ".py",
   "mimetype": "text/x-python",
   "name": "python",
   "nbconvert_exporter": "python",
   "pygments_lexer": "ipython3",
   "version": "3.7.3"
  }
 },
 "nbformat": 4,
 "nbformat_minor": 2
}
