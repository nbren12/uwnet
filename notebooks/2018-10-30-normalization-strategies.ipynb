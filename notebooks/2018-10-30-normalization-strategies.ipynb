{
 "cells": [
  {
   "cell_type": "markdown",
   "metadata": {},
   "source": [
    "The problems with the spin up might be solved by fixing the negative moisture points. One simple way to do this is to implement the time stepper in a transformed space. There are several ways to do this, includiong\n",
    "\n",
    "1. log transformation\n",
    "2. power transformation.\n",
    "\n",
    "In this notebook, I try log-transforming the inputs"
   ]
  },
  {
   "cell_type": "code",
   "execution_count": null,
   "metadata": {},
   "outputs": [],
   "source": [
    "%matplotlib inline\n",
    "import holoviews as hv\n",
    "hv.extension('bokeh')\n",
    "from IPython.display import Image"
   ]
  },
  {
   "cell_type": "code",
   "execution_count": null,
   "metadata": {},
   "outputs": [],
   "source": [
    "ds = xr.open_dataset(\"../data/processed/training.nc\")\n",
    "location = ds.isel(x=0, y=5)"
   ]
  },
  {
   "cell_type": "markdown",
   "metadata": {},
   "source": [
    "# Negative humidity from stepping with FQT"
   ]
  },
  {
   "cell_type": "code",
   "execution_count": null,
   "metadata": {},
   "outputs": [],
   "source": [
    "dt = .125*86400\n",
    "p = 2\n",
    "\n",
    "state0 = location.QT\n",
    "xform = np.power(np.abs(state0), 1/p)\n",
    "xform1 = xform + location.FQT / p / np.power(np.abs(location.QT), (p-1)/p)   * dt\n",
    "xform1 = xform1.where(location.QT > 1e-8, other=0.0)\n",
    "state1 = np.power(np.abs(xform1), p)"
   ]
  },
  {
   "cell_type": "code",
   "execution_count": null,
   "metadata": {},
   "outputs": [],
   "source": [
    "state1.T.plot()\n",
    "plt.xlim([100, 110])"
   ]
  },
  {
   "cell_type": "code",
   "execution_count": null,
   "metadata": {},
   "outputs": [],
   "source": [
    "state0.T.plot()\n",
    "plt.xlim([100, 110])"
   ]
  },
  {
   "cell_type": "markdown",
   "metadata": {},
   "source": [
    "Compared to time stepping with the other forcing"
   ]
  },
  {
   "cell_type": "code",
   "execution_count": null,
   "metadata": {},
   "outputs": [],
   "source": [
    "state1_q_space = (state0 + dt * location.FQT)"
   ]
  },
  {
   "cell_type": "markdown",
   "metadata": {},
   "source": [
    "Here are the points where the humidity after the large-forcings is negative."
   ]
  },
  {
   "cell_type": "code",
   "execution_count": null,
   "metadata": {},
   "outputs": [],
   "source": [
    "(state1_q_space < 0).plot(x='time')\n",
    "plt.xlim([100, 110])"
   ]
  },
  {
   "cell_type": "raw",
   "metadata": {},
   "source": [
    "Most of the negative humidity points are concentrated in the free troposphere"
   ]
  },
  {
   "cell_type": "markdown",
   "metadata": {},
   "source": [
    "# Log-normalization of humidity"
   ]
  },
  {
   "cell_type": "code",
   "execution_count": null,
   "metadata": {},
   "outputs": [],
   "source": [
    "q0 = ds.QT[0].quantile(.99,['x', 'y'])/1\n",
    "q0 = q0.where(q0 > 1e-7)"
   ]
  },
  {
   "cell_type": "code",
   "execution_count": null,
   "metadata": {},
   "outputs": [],
   "source": [
    "q0.plot(y='z')"
   ]
  },
  {
   "cell_type": "markdown",
   "metadata": {},
   "source": [
    "Here is the humidity in the upper atmosphere:"
   ]
  },
  {
   "cell_type": "code",
   "execution_count": null,
   "metadata": {},
   "outputs": [],
   "source": [
    "%opts Image[width=500, height=250, colorbar=True](cmap='viridis') {+framewise}\n",
    "hv.Dataset(ds.QT[0]).to.image([\"x\", \"y\"])"
   ]
  },
  {
   "cell_type": "markdown",
   "metadata": {},
   "source": [
    "The variance of points in the upper atmosphere is extreme. This suggest we could take a log transform:\n",
    "\n",
    "$$ y = log(q_T/ q_0) + 1 $$\n",
    "\n",
    "Where $q_0$ is the 99% quantile of the humidity at each level.\n",
    "\n",
    "This transformation can be converted into a humidity tendency using $\\dot{y} = \\dot{q_T} / (q_T / q_0) $, so that $\\dot{q_T} = y_t (q_T / q_0)$."
   ]
  },
  {
   "cell_type": "code",
   "execution_count": null,
   "metadata": {},
   "outputs": [],
   "source": [
    "qt_norm = np.log(ds.QT[0]/q0) + 1\n",
    "\n",
    "hv.Dataset(qt_norm).to.image([\"x\", \"y\"])"
   ]
  },
  {
   "cell_type": "code",
   "execution_count": null,
   "metadata": {},
   "outputs": [],
   "source": [
    "qt_norm[:,32].plot(x='x')"
   ]
  },
  {
   "cell_type": "markdown",
   "metadata": {},
   "source": [
    "Maybe relative humidity is a better normalizer."
   ]
  },
  {
   "cell_type": "markdown",
   "metadata": {},
   "source": [
    "# Training Neural networks with the normalized humidities"
   ]
  },
  {
   "cell_type": "markdown",
   "metadata": {},
   "source": [
    "## Predict log-normalized humidities (Run #134)\n"
   ]
  },
  {
   "cell_type": "code",
   "execution_count": null,
   "metadata": {},
   "outputs": [],
   "source": [
    "Image(\"../models/134/fqtnn-obs2-8.png\")"
   ]
  },
  {
   "cell_type": "code",
   "execution_count": null,
   "metadata": {},
   "outputs": [],
   "source": [
    "Image(\"../models/134/fqtnn2-8.png\")"
   ]
  },
  {
   "cell_type": "markdown",
   "metadata": {},
   "source": [
    "Again we see a significant spin-up problem even when predicting with the log humidity fields. FWIW...what does the answer look like with seq_length=1."
   ]
  },
  {
   "cell_type": "markdown",
   "metadata": {},
   "source": [
    "## Log-normalized humidities with seq_length=1 (#135)"
   ]
  },
  {
   "cell_type": "markdown",
   "metadata": {},
   "source": [
    "The FQTNN looks pretty similar to the time series above. Is there something wrong with the second plot in the previous section."
   ]
  },
  {
   "cell_type": "code",
   "execution_count": null,
   "metadata": {},
   "outputs": [],
   "source": [
    "Image(\"../models/135/fqtnn-obs3-8.png\")"
   ]
  },
  {
   "cell_type": "markdown",
   "metadata": {},
   "source": [
    "## Log normalized time series\n",
    "\n",
    "What does the single column model time series of the transformed humidity look like?"
   ]
  },
  {
   "cell_type": "code",
   "execution_count": null,
   "metadata": {},
   "outputs": [],
   "source": [
    "Image(\"../models/137/qt2-8.png\")"
   ]
  },
  {
   "cell_type": "markdown",
   "metadata": {},
   "source": [
    "Here is the actual time series:"
   ]
  },
  {
   "cell_type": "code",
   "execution_count": null,
   "metadata": {},
   "outputs": [],
   "source": [
    "qt_norm = np.log(ds.QT[:,:,32,0]/q0) + 1\n",
    "\n",
    "qt_norm.plot(x='time', vmax=6)\n",
    "plt.xlim([100, 124])"
   ]
  },
  {
   "cell_type": "markdown",
   "metadata": {},
   "source": [
    "There is some broad agreement between this simulation, but I do not think the log normalization trick works that well. What about just normalizing the data?"
   ]
  },
  {
   "cell_type": "markdown",
   "metadata": {},
   "source": [
    "## Scaling only, no log\n",
    "\n",
    "What if I normalize the data with $q \\leftarrow q/q_0$, where $q_0$ is defined in the same way as above."
   ]
  },
  {
   "cell_type": "code",
   "execution_count": null,
   "metadata": {},
   "outputs": [],
   "source": [
    "Image(\"../models/138/fqtnn-obs2-8.png\")"
   ]
  },
  {
   "cell_type": "code",
   "execution_count": null,
   "metadata": {},
   "outputs": [],
   "source": [
    "Image(\"../models/138/fqtnn2-8.png\")"
   ]
  },
  {
   "cell_type": "markdown",
   "metadata": {},
   "source": [
    "the time series is a mess though"
   ]
  },
  {
   "cell_type": "code",
   "execution_count": null,
   "metadata": {},
   "outputs": [],
   "source": [
    "Image(\"../models/138/qt2-8.png\")"
   ]
  }
 ],
 "metadata": {
  "kernelspec": {
   "display_name": "Python 3",
   "language": "python",
   "name": "python3"
  },
  "language_info": {
   "codemirror_mode": {
    "name": "ipython",
    "version": 3
   },
   "file_extension": ".py",
   "mimetype": "text/x-python",
   "name": "python",
   "nbconvert_exporter": "python",
   "pygments_lexer": "ipython3",
   "version": "3.6.6"
  }
 },
 "nbformat": 4,
 "nbformat_minor": 2
}
