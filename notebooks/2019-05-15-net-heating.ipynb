{
 "cells": [
  {
   "cell_type": "markdown",
   "metadata": {},
   "source": [
    "This [notebook](https://atmos.washington.edu/~nbren12/reports/uwnet/notebooks/2019-05-14-water-budget-first-2-days-MESSY.html) showed that the net precipitation predictions in days 0-2 are pretty good, but the vertical velocity is still too small. **Is this occuring because the net heating is too small?** Overall, we have focused a lot on the moisture budget, but the heating is what creates buoyancy and vertical motions. "
   ]
  },
  {
   "cell_type": "code",
   "execution_count": null,
   "metadata": {},
   "outputs": [],
   "source": [
    "%matplotlib inline\n",
    "%load_ext autoreload\n",
    "%autoreload 2\n",
    "\n",
    "import torch\n",
    "import matplotlib.pyplot as plt\n",
    "plt.style.use('tableau-colorblind10')\n",
    "import numpy as np\n",
    "import xarray as xr\n",
    "\n",
    "from src.data import SAMRun, NGAqua\n",
    "from uwnet import thermo\n",
    "\n",
    "def plot_tropics_mean_pw(case, key):\n",
    "    z= case.data_2d[key].sel(y=slice(4.5e6, 5.5e6), time=slice(None, 110)).mean(['x', 'y'])\n",
    "    z.plot()\n",
    "\n",
    "    \n",
    "def plot_tropics_avg_cases(runs, key='PW'):\n",
    "    labels = []\n",
    "    for case, label in runs:\n",
    "        plot_tropics_mean_pw(case, key)\n",
    "        labels.append(label)\n",
    "    plt.legend(labels)\n",
    "    plt.title(f\"Tropical average of {key}\")\n",
    "\n",
    "    "
   ]
  },
  {
   "cell_type": "code",
   "execution_count": null,
   "metadata": {},
   "outputs": [],
   "source": [
    "ng = NGAqua(\"../data/raw/2018-05-30-NG_5120x2560x34_4km_10s_QOBS_EQX/\")\n",
    "\n",
    "low_res = \"../data/runs/2019-05-14-model268-epoch5-debiased-res128x64x34/\"\n",
    "lo_run = SAMRun(low_res, case='control')\n",
    "\n",
    "# this is expensive. so preloads\n",
    "data_2d = ng.data_2d\n",
    "\n",
    "# compute water budgets\n",
    "ng_h20 = thermo.water_budget(data_2d.sel(time=slice(100, 110)))\n",
    "lo_h20 = thermo.water_budget(lo_run.data_2d.sel(time=slice(100, 110)))\n",
    "\n",
    "# runs\n",
    "runs = [(ng, 'NG-Aqua'), (lo_run, 'NN')]"
   ]
  },
  {
   "cell_type": "code",
   "execution_count": null,
   "metadata": {},
   "outputs": [],
   "source": [
    "plot_tropics_avg_cases(runs)"
   ]
  },
  {
   "cell_type": "code",
   "execution_count": null,
   "metadata": {},
   "outputs": [],
   "source": [
    "plot_tropics_avg_cases(runs, key='NPNN')"
   ]
  },
  {
   "cell_type": "code",
   "execution_count": null,
   "metadata": {},
   "outputs": [],
   "source": [
    "plot_tropics_avg_cases(runs, key='NHNN')"
   ]
  },
  {
   "cell_type": "code",
   "execution_count": null,
   "metadata": {},
   "outputs": [],
   "source": [
    "plot_tropics_avg_cases(runs, key='W500')"
   ]
  },
  {
   "cell_type": "markdown",
   "metadata": {},
   "source": [
    "These results show that the net heating (NHNN) is accuratei n the first day, although the peak is understimated during day time. Similarly, W500 does not have a strong diurnal cycle, even though net heating (NHNN) does."
   ]
  },
  {
   "cell_type": "code",
   "execution_count": null,
   "metadata": {},
   "outputs": [],
   "source": [
    "net_heating_nn = lo_run.data_2d.NHNN\n",
    "net_heating_ng = ng.data_2d.NHNN.interp_like(net_heating_nn)"
   ]
  },
  {
   "cell_type": "code",
   "execution_count": null,
   "metadata": {},
   "outputs": [],
   "source": [
    "net_heating_ng.mean('x').plot()"
   ]
  },
  {
   "cell_type": "code",
   "execution_count": null,
   "metadata": {},
   "outputs": [],
   "source": [
    "net_heating_nn.mean('x').plot()"
   ]
  }
 ],
 "metadata": {
  "kernelspec": {
   "display_name": "Python 3",
   "language": "python",
   "name": "python3"
  },
  "language_info": {
   "codemirror_mode": {
    "name": "ipython",
    "version": 3
   },
   "file_extension": ".py",
   "mimetype": "text/x-python",
   "name": "python",
   "nbconvert_exporter": "python",
   "pygments_lexer": "ipython3",
   "version": "3.6.6"
  }
 },
 "nbformat": 4,
 "nbformat_minor": 2
}
