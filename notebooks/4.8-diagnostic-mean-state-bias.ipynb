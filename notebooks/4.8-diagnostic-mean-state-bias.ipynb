{
 "cells": [
  {
   "cell_type": "code",
   "execution_count": null,
   "metadata": {},
   "outputs": [],
   "source": [
    "%matplotlib inline\n",
    "import xarray as xr\n",
    "import torch\n",
    "from uwnet.model import MLP\n",
    "\n",
    "ds = xr.open_dataset(\"../data/processed/training.nc\").isel(time=slice(0,120), z=slice(0,28))\n",
    "\n",
    "mod = MLP.from_path(\"../models/29/1.pkl\")\n",
    "\n",
    "input = ds.isel(time=slice(0,120))\n",
    "\n",
    "# this call computes FQTNN and FSLINN for each input snapshot\n",
    "output = mod.call_with_xr(input)\n",
    "\n",
    "# compute water budget diagnostics\n",
    "PW_dot = ((output.FQTNN*input.layer_mass).sum('z') + (input.FQT*input.layer_mass).sum('z'))/1000*86400\n",
    "pw = (output.QT*ds.layer_mass).sum('z')\n",
    "pw_change = pw[-1]-pw[0]\n",
    "dt = (pw.time[-1] -pw.time[0])\n",
    "pw_change_mean = pw_change.mean('x')/1000/dt"
   ]
  },
  {
   "cell_type": "code",
   "execution_count": null,
   "metadata": {},
   "outputs": [],
   "source": [
    "pw_change_mean.plot()\n",
    "plt.title(\"PW Storage (mm/day)\")"
   ]
  },
  {
   "cell_type": "markdown",
   "metadata": {},
   "source": [
    "The observed simulation has little change in the zonal mean precipitable"
   ]
  },
  {
   "cell_type": "code",
   "execution_count": null,
   "metadata": {},
   "outputs": [],
   "source": [
    "PW_dot.mean(['x', 'time']).plot()\n",
    "plt.title(\"zonal+time mean FQTNN + FQT (mm/day)\")"
   ]
  },
  {
   "cell_type": "markdown",
   "metadata": {},
   "source": [
    "However, the sum of FQTNN and FQT has a substantial bias in the time and zonal mean. This probably explain the mean state bias in our simulations."
   ]
  }
 ],
 "metadata": {
  "kernelspec": {
   "display_name": "Python 3",
   "language": "python",
   "name": "python3"
  },
  "language_info": {
   "codemirror_mode": {
    "name": "ipython",
    "version": 3
   },
   "file_extension": ".py",
   "mimetype": "text/x-python",
   "name": "python",
   "nbconvert_exporter": "python",
   "pygments_lexer": "ipython3",
   "version": "3.6.6"
  }
 },
 "nbformat": 4,
 "nbformat_minor": 2
}
