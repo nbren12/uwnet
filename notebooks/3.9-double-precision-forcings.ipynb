{
 "cells": [
  {
   "cell_type": "code",
   "execution_count": null,
   "metadata": {},
   "outputs": [],
   "source": [
    "import xarray as xr\n",
    "import numpy as np\n",
    "\n",
    "import holoviews as hv\n",
    "hv.extension('bokeh', 'matplotlib',)\n",
    "%opts Image[width=500, height=300, colorbar=True](cmap='magma') \n",
    "%opts QuadMesh[width=400,  height=200, colorbar=True](cmap='viridis')\n",
    "%opts Curve[width=500, height=int(500/1.61)]\n",
    "\n",
    "%matplotlib inline\n",
    "import matplotlib.pyplot as plt"
   ]
  },
  {
   "cell_type": "code",
   "execution_count": null,
   "metadata": {},
   "outputs": [],
   "source": [
    "path = \"../data/processed/training.nc\"\n",
    "\n",
    "ds = xr.open_dataset(path)"
   ]
  },
  {
   "cell_type": "code",
   "execution_count": null,
   "metadata": {},
   "outputs": [],
   "source": [
    "hv.Dataset(ds.FQT).to.image([\"x\", \"y\"], dynamic=True)"
   ]
  },
  {
   "cell_type": "code",
   "execution_count": null,
   "metadata": {},
   "outputs": [],
   "source": [
    "from holoviews.operation import contours"
   ]
  },
  {
   "cell_type": "code",
   "execution_count": null,
   "metadata": {},
   "outputs": [],
   "source": [
    "%%output backend='matplotlib' size=200\n",
    "%%opts QuadMesh[aspect=2, colorbar=True](line_alpha=0, linewidth=0)\n",
    "\n",
    "hv.QuadMesh(ds.FSLI[:,:,32,0]*86400)"
   ]
  },
  {
   "cell_type": "markdown",
   "metadata": {},
   "source": [
    "# Single Column Run"
   ]
  },
  {
   "cell_type": "code",
   "execution_count": null,
   "metadata": {},
   "outputs": [],
   "source": [
    "%run -m uwnet.columns ../models/17/1.pkl ../data/processed/tropics.nc cols.nc"
   ]
  },
  {
   "cell_type": "code",
   "execution_count": null,
   "metadata": {},
   "outputs": [],
   "source": [
    "cols = xr.open_dataset(\"cols.nc\")"
   ]
  },
  {
   "cell_type": "code",
   "execution_count": null,
   "metadata": {},
   "outputs": [],
   "source": [
    "cols.isel(x=0,y=8).sel(z=slice(0,2000)).FSLINN.T.plot()\n",
    "\n",
    "plt.xlim([100,108])"
   ]
  }
 ],
 "metadata": {
  "kernelspec": {
   "display_name": "Python 3",
   "language": "python",
   "name": "python3"
  },
  "language_info": {
   "codemirror_mode": {
    "name": "ipython",
    "version": 3
   },
   "file_extension": ".py",
   "mimetype": "text/x-python",
   "name": "python",
   "nbconvert_exporter": "python",
   "pygments_lexer": "ipython3",
   "version": "3.6.6"
  }
 },
 "nbformat": 4,
 "nbformat_minor": 2
}
