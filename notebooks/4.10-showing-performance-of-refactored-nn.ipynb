{
 "cells": [
  {
   "cell_type": "code",
   "execution_count": null,
   "metadata": {},
   "outputs": [],
   "source": [
    "import xarray as xr\n",
    "from uwnet.model import model_factory, call_with_xr\n",
    "from src.sacred import get_run, get_last_model\n",
    "import torch\n",
    "import pprint\n",
    "from ipywidgets import interact"
   ]
  },
  {
   "cell_type": "code",
   "execution_count": null,
   "metadata": {},
   "outputs": [],
   "source": [
    "run_id = 85\n",
    "run = get_run(run_id)\n",
    "print(f\"Run configuration for id {run_id}:\")\n",
    "print(\"------------------\")\n",
    "pprint.pprint(run['config'])\n",
    "print(\"Loading model from PyMongo GridFS\")\n",
    "model_dict = torch.load(get_last_model(run_id))['dict']\n",
    "model = model_factory().from_dict(model_dict)"
   ]
  },
  {
   "cell_type": "code",
   "execution_count": null,
   "metadata": {},
   "outputs": [],
   "source": [
    "ds = xr.open_dataset(\"../data/processed/training.nc\").isel(z=model.heights)"
   ]
  },
  {
   "cell_type": "code",
   "execution_count": null,
   "metadata": {},
   "outputs": [],
   "source": [
    "@interact\n",
    "def plot_column_plot(y=[4,32]):\n",
    "\n",
    "    subset = ds.isel(y=slice(y,y+1), x=slice(0,1), time=slice(0,200))\n",
    "    output = call_with_xr(model, subset, n_prog=1)\n",
    "\n",
    "    plt.figure()\n",
    "    output['FQTNN'].plot(x='time')\n",
    "\n",
    "    plt.figure()\n",
    "    subset.FQT.plot(x='time')\n",
    "\n",
    "    plt.figure()\n",
    "    (output.QT * subset.layer_mass).sum('z').plot(label='NN')\n",
    "    (subset.QT * subset.layer_mass).sum('z').plot(label='OBS')"
   ]
  },
  {
   "cell_type": "code",
   "execution_count": null,
   "metadata": {},
   "outputs": [],
   "source": [
    "plot_column_plot(32)"
   ]
  },
  {
   "cell_type": "code",
   "execution_count": null,
   "metadata": {},
   "outputs": [],
   "source": [
    "plot_column_plot(4)"
   ]
  }
 ],
 "metadata": {
  "kernelspec": {
   "display_name": "Python 3",
   "language": "python",
   "name": "python3"
  },
  "language_info": {
   "codemirror_mode": {
    "name": "ipython",
    "version": 3
   },
   "file_extension": ".py",
   "mimetype": "text/x-python",
   "name": "python",
   "nbconvert_exporter": "python",
   "pygments_lexer": "ipython3",
   "version": "3.6.6"
  }
 },
 "nbformat": 4,
 "nbformat_minor": 2
}
