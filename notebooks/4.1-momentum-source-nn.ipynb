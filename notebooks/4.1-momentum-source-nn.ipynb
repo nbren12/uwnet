{
 "cells": [
  {
   "cell_type": "markdown",
   "metadata": {},
   "source": [
    "The lack of an explicit momentum source could cause the biases we are seeing in the SAM simulation. In this notebook, I train a neural network for the momentum source in the same manners as I did for QT and SLI. I also want to see the parametrized source that this gives."
   ]
  },
  {
   "cell_type": "markdown",
   "metadata": {},
   "source": [
    "# Imports, Functions and Data Loading"
   ]
  },
  {
   "cell_type": "code",
   "execution_count": null,
   "metadata": {},
   "outputs": [],
   "source": [
    "from toolz import pipe\n",
    "import uwnet.interface\n",
    "from uwnet.model import MLP\n",
    "import xarray as xr\n",
    "\n",
    "from uwnet.interface import call_with_xr as forward_xr\n",
    "\n",
    "# define paths for data and nn model\n",
    "train_data_path = \"../data/processed/2018-10-02-ngaqua-subset.nc\"\n",
    "model_path = \"../models/4/9.pkl\"\n",
    "\n",
    "# load the model and training data\n",
    "data = xr.open_dataset(train_data_path)\n",
    "# mlp = MLP.from_path(model_path)"
   ]
  },
  {
   "cell_type": "markdown",
   "metadata": {},
   "source": [
    "# Analysis"
   ]
  },
  {
   "cell_type": "code",
   "execution_count": null,
   "metadata": {},
   "outputs": [],
   "source": [
    "# Visualization imports\n",
    "\n",
    "from ipywidgets import interact, FloatSlider\n",
    "from gnl.colorblind import colorblind_matplotlib\n",
    "colorblind_matplotlib()"
   ]
  },
  {
   "cell_type": "code",
   "execution_count": null,
   "metadata": {},
   "outputs": [],
   "source": [
    "\n",
    "\n",
    "def load_and_predict(model_path, data, **kw):\n",
    "    mlp = MLP.from_path(model_path)\n",
    "    return forward_xr(mlp, data, **kw)"
   ]
  },
  {
   "cell_type": "code",
   "execution_count": null,
   "metadata": {},
   "outputs": [],
   "source": [
    "diagnosis = load_and_predict(model_path, data)\n",
    "prediction = load_and_predict(model_path, data, n=1)"
   ]
  },
  {
   "cell_type": "code",
   "execution_count": null,
   "metadata": {},
   "outputs": [],
   "source": [
    "prediction.U.isel(x=0).plot(x='time')"
   ]
  },
  {
   "cell_type": "code",
   "execution_count": null,
   "metadata": {},
   "outputs": [],
   "source": [
    "prediction.UOBS.isel(x=0).plot(x='time')"
   ]
  },
  {
   "cell_type": "markdown",
   "metadata": {},
   "source": [
    "## Dissipation"
   ]
  },
  {
   "cell_type": "code",
   "execution_count": null,
   "metadata": {},
   "outputs": [],
   "source": [
    "dims = ['x', 'time']\n",
    "dissip_x = (prediction.FUNN * prediction.U).mean(dims)/(prediction.U**2).mean(dims)\n",
    "\n",
    "\n",
    "plt.plot(dissip_x.values*86400)\n",
    "plt.grid()\n",
    "plt.xlabel('Vertical grid number')"
   ]
  },
  {
   "cell_type": "markdown",
   "metadata": {},
   "source": [
    "The model is mostly damping in the in the free troposphere, but it is amplifying in the lowest few grid points."
   ]
  },
  {
   "cell_type": "code",
   "execution_count": null,
   "metadata": {},
   "outputs": [],
   "source": [
    "\n",
    "plt.plot(1/np.abs(dissip_x)/86400)\n",
    "plt.grid()\n",
    "ax = plt.gca()\n",
    "\n",
    "ticks = np.arange(0, dissip_x.shape[0], 5)\n",
    "ax.set_xticks(ticks)\n",
    "ax.set_xticklabels(dissip_x.z[ticks].values)\n",
    "plt.xlabel('Height')\n",
    "plt.ylabel('Damping/growth time-scale')"
   ]
  },
  {
   "cell_type": "markdown",
   "metadata": {},
   "source": [
    "The time scales vary from around 1 day in the boundary layer to around 20 in the free troposphere."
   ]
  },
  {
   "cell_type": "markdown",
   "metadata": {},
   "source": [
    "## Drift in Mean state"
   ]
  },
  {
   "cell_type": "code",
   "execution_count": null,
   "metadata": {},
   "outputs": [],
   "source": [
    "def plot_mean_drift(prediction):\n",
    "\n",
    "    fu_mean = prediction.FU.mean(['x', 'time','y'])\n",
    "    funn_mean = prediction.FUNN.mean(['x', 'time','y'])\n",
    "    du_obs = (prediction.UOBS[-1]  - prediction.UOBS[0])/(prediction.time[-1]-prediction.time[0])/86400\n",
    "    du_obs = du_obs.mean(['x', 'y'])\n",
    "\n",
    "    plt.figure(figsize=(3,6))\n",
    "\n",
    "    fu_mean.plot(y='z', label='FU')\n",
    "    funn_mean.plot(y='z', label='FUNN')\n",
    "    (funn_mean+fu_mean).plot(label='FU-FUNN', y='z')\n",
    "    (du_obs).plot(label=r'$\\Delta U / \\Delta t$', y='z')\n",
    "\n",
    "    a = 2e-5\n",
    "    plt.xlim([-a, a])\n",
    "    plt.legend()\n"
   ]
  },
  {
   "cell_type": "code",
   "execution_count": null,
   "metadata": {},
   "outputs": [],
   "source": [
    "plot_mean_drift(prediction)"
   ]
  },
  {
   "cell_type": "markdown",
   "metadata": {},
   "source": [
    "Is this problem also in the diagnosis?"
   ]
  },
  {
   "cell_type": "code",
   "execution_count": null,
   "metadata": {},
   "outputs": [],
   "source": [
    "plot_mean_drift(diagnosis)"
   ]
  },
  {
   "cell_type": "markdown",
   "metadata": {},
   "source": [
    "It is. Perhaps we should penalize the difference in the mean drifts? Would this work batchwise? Perhaps we should also make sure the output of the neural network is reasonably smooth."
   ]
  },
  {
   "cell_type": "markdown",
   "metadata": {},
   "source": [
    "# Fixing this"
   ]
  },
  {
   "cell_type": "code",
   "execution_count": null,
   "metadata": {},
   "outputs": [],
   "source": [
    "def plot_mean_drift_file(model_path):\n",
    "    model = MLP.from_path(model_path)\n",
    "    diagnosis = forward_xr(model, data)\n",
    "    plot_mean_drift(diagnosis)\n",
    "    \n",
    "    \n"
   ]
  },
  {
   "cell_type": "markdown",
   "metadata": {},
   "source": [
    "## Increase seq_length to 40"
   ]
  },
  {
   "cell_type": "code",
   "execution_count": null,
   "metadata": {},
   "outputs": [],
   "source": [
    "plot_mean_drift_file(\"../models/6/9.pkl\")"
   ]
  },
  {
   "cell_type": "markdown",
   "metadata": {},
   "source": [
    "This helps a little."
   ]
  },
  {
   "cell_type": "markdown",
   "metadata": {},
   "source": [
    "## Increase the batch size and number of training steps"
   ]
  },
  {
   "cell_type": "code",
   "execution_count": null,
   "metadata": {},
   "outputs": [],
   "source": [
    "plot_mean_drift_file(\"../models/7/17.pkl\")"
   ]
  },
  {
   "cell_type": "markdown",
   "metadata": {},
   "source": [
    "## Train for even more epochs"
   ]
  },
  {
   "cell_type": "code",
   "execution_count": null,
   "metadata": {},
   "outputs": [],
   "source": [
    "plot_mean_drift_file(\"../models/8/0.pkl\")"
   ]
  },
  {
   "cell_type": "code",
   "execution_count": null,
   "metadata": {},
   "outputs": [],
   "source": [
    "plot_mean_drift_file(\"../models/8/15.pkl\")"
   ]
  },
  {
   "cell_type": "markdown",
   "metadata": {},
   "source": [
    "Using too long of sequence length seems to hurt!"
   ]
  },
  {
   "cell_type": "markdown",
   "metadata": {},
   "source": [
    "## One step prediction\n",
    "\n",
    "```\n",
    "python -m uwnet.train with data=data/processed/2018-10-02-ngaqua-subset.nc examples/momentum.yaml batch_size=32 n_epochs=40 seq_length=2 skip=1 lr=.005\n",
    "```"
   ]
  },
  {
   "cell_type": "code",
   "execution_count": null,
   "metadata": {},
   "outputs": [],
   "source": [
    "plot_mean_drift_file(\"../models/10/1.pkl\")"
   ]
  },
  {
   "cell_type": "code",
   "execution_count": null,
   "metadata": {},
   "outputs": [],
   "source": [
    "plot_mean_drift_file(\"../models/10/17.pkl\")"
   ]
  },
  {
   "cell_type": "markdown",
   "metadata": {},
   "source": [
    "This leads to even bigger bias."
   ]
  },
  {
   "cell_type": "markdown",
   "metadata": {},
   "source": [
    "## Do not add FU\n",
    "\n",
    "Because FU could be so large"
   ]
  },
  {
   "cell_type": "code",
   "execution_count": null,
   "metadata": {},
   "outputs": [],
   "source": [
    "plot_mean_drift_file(\"../models/11/35.pkl\")"
   ]
  },
  {
   "cell_type": "markdown",
   "metadata": {},
   "source": [
    "# Analysis\n",
    "\n",
    "Why are these biases happening? Could it be something with the loss function?"
   ]
  },
  {
   "cell_type": "code",
   "execution_count": null,
   "metadata": {},
   "outputs": [],
   "source": [
    "def get_mom_budget(data):\n",
    "    dt = 3*3600\n",
    "    STOR= data.U.diff('time')/dt\n",
    "    return  xr.Dataset(dict(\n",
    "        FU=data.FU,\n",
    "        FUNN=data.FUNN\n",
    "    )).assign(STOR=STOR, Q3=STOR-data.FU)\n",
    "\n",
    "    \n",
    "    \n",
    "#     data.FUNN.plot()\n",
    "# path = \"../models/11/13.pkl\"\n",
    "\n",
    "diagnosis = forward_xr(MLP.from_path(model_path), data)\n",
    "mom = get_mom_budget(diagnosis)"
   ]
  },
  {
   "cell_type": "code",
   "execution_count": null,
   "metadata": {},
   "outputs": [],
   "source": [
    "mom.to_array(name='SRC').isel(x=0).plot(col='variable', col_wrap=1, aspect=4, size=2, x='time')"
   ]
  },
  {
   "cell_type": "markdown",
   "metadata": {},
   "source": [
    "What is going on with the large diagonal disturbances. This does not seem physically realistic. If I recall correctly, these structures are also present in the Q1, and in the raw temperature time series, but they have a smaller amplitude."
   ]
  },
  {
   "cell_type": "markdown",
   "metadata": {},
   "source": [
    "In the boundary layer the output of the momentum damping scheme seems reasonable."
   ]
  },
  {
   "cell_type": "code",
   "execution_count": null,
   "metadata": {},
   "outputs": [],
   "source": [
    "mom.to_array(name='SRC').isel(x=0, z=slice(0,10)).plot(col='variable', col_wrap=1, aspect=4, size=2, x='time')"
   ]
  },
  {
   "cell_type": "markdown",
   "metadata": {},
   "source": [
    "Here is a zoom-inned picture on this disturbance:"
   ]
  },
  {
   "cell_type": "code",
   "execution_count": null,
   "metadata": {},
   "outputs": [],
   "source": [
    "def get_roi(x):\n",
    "    return x.isel(x=0).sel(time=slice(106, 108.0))\n",
    "\n",
    "get_roi(mom).to_array(name='SRC').plot(col='variable', col_wrap=4, aspect=1, size=3, x='time')"
   ]
  },
  {
   "cell_type": "markdown",
   "metadata": {},
   "source": [
    " It has a very narrow vertical extent, which is only a couple of vertical levels in size. I don't think the neural network can learn such fine graind vertical structures.\n",
    " \n",
    " This signal is also shows up in the time series of $\\partial_y SLI$, which makes me think this a pressure gradient:"
   ]
  },
  {
   "cell_type": "code",
   "execution_count": null,
   "metadata": {},
   "outputs": [],
   "source": [
    "data.SLI.diff('x').pipe(get_roi).plot(x='time')"
   ]
  },
  {
   "cell_type": "markdown",
   "metadata": {},
   "source": [
    "If we look in the horizontal direction at day 107, it is clear that the pattern we are seeing is due to the propagation of a large-scale disturbance (near x=0,2e7). "
   ]
  },
  {
   "cell_type": "code",
   "execution_count": null,
   "metadata": {},
   "outputs": [],
   "source": [
    "data.U.sel(time=107).plot(x='x')"
   ]
  },
  {
   "cell_type": "markdown",
   "metadata": {},
   "source": [
    "The edge of this wave has incredibly large wind shears. The mixing in these shear zones should have a dipole structure, which we can see in the FUNN time series."
   ]
  },
  {
   "cell_type": "code",
   "execution_count": null,
   "metadata": {},
   "outputs": [],
   "source": [
    "mom.FUNN.sel(time=107).plot(x='x')"
   ]
  },
  {
   "cell_type": "code",
   "execution_count": null,
   "metadata": {},
   "outputs": [],
   "source": [
    "mom.FUNN.sel(time=107, z=slice(0,2000)).plot(x='x')"
   ]
  },
  {
   "cell_type": "markdown",
   "metadata": {},
   "source": [
    "This feature is also in the approximate $Q3$, but that data is much noisier."
   ]
  },
  {
   "cell_type": "code",
   "execution_count": null,
   "metadata": {},
   "outputs": [],
   "source": [
    "mom.Q3.sel(time=107).plot(x='x')"
   ]
  },
  {
   "cell_type": "markdown",
   "metadata": {},
   "source": [
    "# Questions\n",
    "\n",
    "**Should this forcing due to the shock-like disturbance be part of the momentum residual budget?** This does not seem like a very physically plausible source of momentum. Apart from this disturbance, the learned momentum forcing seems to be doing good things:\n",
    "\n",
    "1. In regions with strong convergence and heating, presumably, there is a $cos(3z)-cos(z)$ structure as predicited by Andy's work. this is a dipole structure within the free troposphere.\n",
    "2. the sign of FUNN in the first 2 levels has an opposite sign as above."
   ]
  }
 ],
 "metadata": {
  "kernelspec": {
   "display_name": "Python 3",
   "language": "python",
   "name": "python3"
  },
  "language_info": {
   "codemirror_mode": {
    "name": "ipython",
    "version": 3
   },
   "file_extension": ".py",
   "mimetype": "text/x-python",
   "name": "python",
   "nbconvert_exporter": "python",
   "pygments_lexer": "ipython3",
   "version": "3.6.6"
  }
 },
 "nbformat": 4,
 "nbformat_minor": 2
}
