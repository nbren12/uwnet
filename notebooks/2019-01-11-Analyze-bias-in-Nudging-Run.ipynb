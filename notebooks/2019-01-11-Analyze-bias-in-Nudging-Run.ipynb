{
 "cells": [
  {
   "cell_type": "code",
   "execution_count": null,
   "metadata": {},
   "outputs": [],
   "source": [
    "from tqdm import tqdm_notebook as tqdm"
   ]
  },
  {
   "cell_type": "code",
   "execution_count": null,
   "metadata": {},
   "outputs": [],
   "source": [
    "import glob\n",
    "import zarr\n",
    "import dask.bag as db\n",
    "import dask.array as da\n",
    "plt.style.use('tableau-colorblind10')\n",
    "\n",
    "paths = glob.glob('../data/runs/model268-epoch5.nudge/OUT_3D/*.pt')\n",
    "\n",
    "# drop the initial path since it doens't have the data\n",
    "paths = paths[1:]"
   ]
  },
  {
   "cell_type": "code",
   "execution_count": null,
   "metadata": {},
   "outputs": [],
   "source": [
    "state = torch.load(paths[0])\n",
    "\n",
    "group = zarr.open_group('nudging.zarr', mode='w')\n",
    "variables = {}\n",
    "n = len(paths)\n",
    "\n",
    "for key in state:\n",
    "    try:\n",
    "        ds = group.create_dataset(key, data=[state[key]])\n",
    "        size = (n,) + ds.shape[1:]\n",
    "        ds.resize(size)\n",
    "        variables[key] = ds\n",
    "    except ValueError:\n",
    "        print(f\"Skipping {key}\")"
   ]
  },
  {
   "cell_type": "code",
   "execution_count": null,
   "metadata": {},
   "outputs": [],
   "source": [
    "import dask.bag as db\n",
    "from dask.diagnostics import ProgressBar\n",
    "\n",
    "paths_db = db.from_sequence(enumerate(paths))\n",
    "\n",
    "def add_file_to_zarr(args):\n",
    "    k, path = args\n",
    "    state = torch.load(path)\n",
    "    for key, val in variables.items():\n",
    "        val[k] = state[key]\n",
    "\n",
    "with ProgressBar():\n",
    "    paths_db.map(add_file_to_zarr).compute()"
   ]
  },
  {
   "cell_type": "code",
   "execution_count": null,
   "metadata": {},
   "outputs": [],
   "source": [
    "plt.pcolormesh(group.total_water_mixing_ratio[:, :, 32, 0].T)"
   ]
  },
  {
   "cell_type": "code",
   "execution_count": null,
   "metadata": {},
   "outputs": [],
   "source": [
    "qt_n = da.from_zarr(group.tendency_of_liquid_ice_static_energy_due_to_nudging)\n",
    "qt_nn = da.from_zarr(group.tendency_of_liquid_ice_static_energy_due_to_neural_network)"
   ]
  },
  {
   "cell_type": "code",
   "execution_count": null,
   "metadata": {},
   "outputs": [],
   "source": [
    "mean_qt = qt_n.mean(axis=(0, -1)).compute()"
   ]
  },
  {
   "cell_type": "code",
   "execution_count": null,
   "metadata": {},
   "outputs": [],
   "source": [
    "plt.pcolormesh(mean_qt)\n",
    "plt.colorbar()"
   ]
  },
  {
   "cell_type": "code",
   "execution_count": null,
   "metadata": {},
   "outputs": [],
   "source": [
    "plt.pcolormesh(qt_n[:,:,32,0].T)\n",
    "plt.colorbar()"
   ]
  },
  {
   "cell_type": "code",
   "execution_count": null,
   "metadata": {},
   "outputs": [],
   "source": [
    "plt.pcolormesh(qt_nn[:,:,32,0].T)\n",
    "plt.colorbar()"
   ]
  },
  {
   "cell_type": "markdown",
   "metadata": {},
   "source": [
    "# Momentum"
   ]
  },
  {
   "cell_type": "code",
   "execution_count": null,
   "metadata": {},
   "outputs": [],
   "source": [
    "qt_n = da.from_zarr(group.tendency_of_y_wind_due_to_nudging)"
   ]
  },
  {
   "cell_type": "code",
   "execution_count": null,
   "metadata": {},
   "outputs": [],
   "source": [
    "mean_qt = qt_n.mean(axis=(0, -1)).compute()"
   ]
  },
  {
   "cell_type": "code",
   "execution_count": null,
   "metadata": {},
   "outputs": [],
   "source": [
    "p = group.air_pressure[0]\n",
    "y = group.latitude[0, 0,:,0]\n",
    "\n",
    "def plot_y_p(mean_qt, ax=None):\n",
    "    if ax is None:\n",
    "        fig, ax = plt.subplots()\n",
    "\n",
    "    im = ax.pcolormesh(y, p, mean_qt)\n",
    "    ax.invert_yaxis()\n",
    "    plt.colorbar(im, ax=[ax])\n",
    "    \n",
    "plot_y_p(mean_qt)"
   ]
  },
  {
   "cell_type": "markdown",
   "metadata": {},
   "source": [
    "This shows that the nudging terms are maintaining the Hadley circulation."
   ]
  },
  {
   "cell_type": "markdown",
   "metadata": {},
   "source": [
    "# Vertical Velocity"
   ]
  },
  {
   "cell_type": "code",
   "execution_count": null,
   "metadata": {},
   "outputs": [],
   "source": [
    "z_wind_mean = group.upward_air_velocity[:].mean(axis=(0, -1))"
   ]
  },
  {
   "cell_type": "code",
   "execution_count": null,
   "metadata": {},
   "outputs": [],
   "source": [
    "plot_y_p(z_wind_mean)"
   ]
  },
  {
   "cell_type": "markdown",
   "metadata": {},
   "source": [
    "Let's compare this to NG-Aqua"
   ]
  },
  {
   "cell_type": "code",
   "execution_count": null,
   "metadata": {},
   "outputs": [],
   "source": [
    "from src.data import open_data\n",
    "\n",
    "ds = open_data('training')\n",
    "\n",
    "ng_z_wind_mean = ds['W'].mean(['x', 'time'])\n",
    "plot_y_p(ng_z_wind_mean.values)"
   ]
  },
  {
   "cell_type": "markdown",
   "metadata": {},
   "source": [
    "These magnitudes look stronger in NG-Aqua than the nudged run. A line plot makes the point more clear:"
   ]
  },
  {
   "cell_type": "code",
   "execution_count": null,
   "metadata": {},
   "outputs": [],
   "source": [
    "ng_z_wind_mean[20].plot(label='NGAqua')\n",
    "plt.plot(ng_z_wind_mean.y, z_wind_mean[20], label='Nudged')\n",
    "plt.legend()"
   ]
  },
  {
   "cell_type": "markdown",
   "metadata": {},
   "source": [
    "The nudged run has too little vertical motion in the tropics. Why? Is Q1 off?"
   ]
  },
  {
   "cell_type": "markdown",
   "metadata": {},
   "source": [
    "# Q1 \n",
    "\n",
    "Let's compare the heating generated by\n",
    "\n",
    "1. NG-=Aqua\n",
    "2. cSAM + NN + Nudging\n",
    "\n"
   ]
  },
  {
   "cell_type": "code",
   "execution_count": null,
   "metadata": {},
   "outputs": [],
   "source": [
    "import torch\n",
    "from uwnet.xarray_interface import call_with_xr\n",
    "\n",
    "ds = open_data('training_with_src').isel(time=slice(0, 160))\n",
    "\n",
    "\n",
    "model = torch.load(\"../models/268/5.pkl\")\n",
    "semi_prognostic = call_with_xr(model, ds)\n",
    "ds = ds.assign({'Q1NN': semi_prognostic.SLI, 'Q2NN': semi_prognostic.QT})"
   ]
  },
  {
   "cell_type": "code",
   "execution_count": null,
   "metadata": {},
   "outputs": [],
   "source": [
    "ng_q1_mean = ds.Q1.mean(['x', 'time'])\n",
    "nudged_q1_mean = group.tendency_of_liquid_ice_static_energy[:].mean(axis=(0, -1))\n",
    "nn_q1_mean = ds.Q1NN.mean(['x', 'time'])\n",
    "\n",
    "plotme = xr.concat([xr.DataArray(nudged_q1_mean, dims=['z', 'y']), ng_q1_mean, nn_q1_mean],\n",
    "                   dim=['Nudge', 'NG', 'Semi-prognostic'])"
   ]
  },
  {
   "cell_type": "code",
   "execution_count": null,
   "metadata": {},
   "outputs": [],
   "source": [
    "plotme.plot(col='concat_dim')"
   ]
  },
  {
   "cell_type": "code",
   "execution_count": null,
   "metadata": {},
   "outputs": [],
   "source": [
    "plotme.interp(z=8000).plot(hue='concat_dim')"
   ]
  },
  {
   "cell_type": "markdown",
   "metadata": {},
   "source": [
    "This run **needs more heating**. The semi-prognostic Q1 is also biased, but not by as much."
   ]
  },
  {
   "cell_type": "markdown",
   "metadata": {},
   "source": [
    "# Conclusions\n",
    "\n",
    "The nudged run does not produce enough heating in the tropics, and therefore does not create enough vertical velocity in the tropics. To make up for this, the nudging terms force the v-winds to be quite strong."
   ]
  }
 ],
 "metadata": {
  "kernelspec": {
   "display_name": "Python 3",
   "language": "python",
   "name": "python3"
  },
  "language_info": {
   "codemirror_mode": {
    "name": "ipython",
    "version": 3
   },
   "file_extension": ".py",
   "mimetype": "text/x-python",
   "name": "python",
   "nbconvert_exporter": "python",
   "pygments_lexer": "ipython3",
   "version": "3.6.6"
  }
 },
 "nbformat": 4,
 "nbformat_minor": 2
}
