{
 "cells": [
  {
   "cell_type": "code",
   "execution_count": null,
   "metadata": {},
   "outputs": [],
   "source": [
    "%matplotlib inline\n",
    "import holoviews as hv\n",
    "hv.extension('bokeh', 'matplotlib',)\n",
    "%opts Image[width=500, height=300, colorbar=True](cmap='magma') \n",
    "%opts QuadMesh[width=400,  height=200, colorbar=True](cmap='viridis')\n",
    "%opts Curve[width=500, height=int(500/1.61)]\n",
    "\n",
    "\n",
    "\n",
    "import xarray as xr\n",
    "from os.path import join, abspath\n",
    "import os\n",
    "from scipy import quantile\n",
    "\n",
    "\n",
    "RUN = abspath(os.getenv('RUN', '../models/17/test'))\n",
    "TRAINING = \"../data/processed/training.nc\"\n",
    "\n",
    "\n",
    "data_2d_path = join(RUN, 'OUT_2D', '*.nc')\n",
    "data_3d_path = join(RUN, 'OUT_3D', '*.nc')\n",
    "data_stat_path = join(RUN, 'OUT_STAT', '*.nc')\n",
    "no_nn_path = '/Users/noah/workspace/research/uwnet/data/runs/2018-09-27/OUT_3D/*.nc'\n",
    "\n",
    "\n",
    "print(data_2d_path)\n",
    "data_2d = xr.open_mfdataset(data_2d_path)\n",
    "data_3d = xr.open_mfdataset(data_3d_path)\n",
    "stat = xr.open_mfdataset(data_stat_path)\n",
    "train_data = xr.open_dataset(TRAINING)\n",
    "no_nn = xr.open_mfdataset(no_nn_path)\n",
    "\n",
    "data_3d['FQTNN'] *= 86400\n",
    "data_3d['FQTNN'].attrs['units'] = 'g/kg/d'\n",
    "data_3d['FSLINN'] *= 86400\n",
    "data_3d['FSLINN'].attrs['units'] = 'K/d'"
   ]
  },
  {
   "cell_type": "code",
   "execution_count": null,
   "metadata": {},
   "outputs": [],
   "source": [
    "data_2d.PW[::12].plot(col='time', col_wrap=3)"
   ]
  },
  {
   "cell_type": "code",
   "execution_count": null,
   "metadata": {},
   "outputs": [],
   "source": [
    "data_2d.W500[::12].plot(col='time', col_wrap=3)"
   ]
  },
  {
   "cell_type": "code",
   "execution_count": null,
   "metadata": {},
   "outputs": [],
   "source": [
    "data_3d.TABS"
   ]
  },
  {
   "cell_type": "code",
   "execution_count": null,
   "metadata": {},
   "outputs": [],
   "source": [
    "data_3d.W[::12].mean('x').plot(col='time', col_wrap=3)"
   ]
  },
  {
   "cell_type": "markdown",
   "metadata": {},
   "source": [
    "## Numerical Instability\n",
    "\n",
    "The simulation diverged on day 9 (1 day before it could be completed). Why did this happen? Let's look at W in the last snapshot avaialable"
   ]
  },
  {
   "cell_type": "code",
   "execution_count": null,
   "metadata": {},
   "outputs": [],
   "source": [
    "w = data_3d.W[-1]"
   ]
  },
  {
   "cell_type": "code",
   "execution_count": null,
   "metadata": {},
   "outputs": [],
   "source": [
    "w[1].plot()"
   ]
  },
  {
   "cell_type": "markdown",
   "metadata": {},
   "source": [
    "Here is the data at the previous time step:"
   ]
  },
  {
   "cell_type": "code",
   "execution_count": null,
   "metadata": {},
   "outputs": [],
   "source": [
    "data_3d.W[-2, 1].plot()"
   ]
  },
  {
   "cell_type": "markdown",
   "metadata": {},
   "source": [
    "There is a diverging vertical velocity in the second vertical level of the model."
   ]
  },
  {
   "cell_type": "code",
   "execution_count": null,
   "metadata": {},
   "outputs": [],
   "source": [
    "w[5].plot()"
   ]
  },
  {
   "cell_type": "code",
   "execution_count": null,
   "metadata": {},
   "outputs": [],
   "source": [
    "w[15].plot()"
   ]
  },
  {
   "cell_type": "markdown",
   "metadata": {},
   "source": [
    "This problem is not present at higher vertical levels"
   ]
  },
  {
   "cell_type": "markdown",
   "metadata": {},
   "source": [
    "The temperature tendency predicted by the Neural network is not too large in this spot:"
   ]
  },
  {
   "cell_type": "code",
   "execution_count": null,
   "metadata": {},
   "outputs": [],
   "source": [
    "data_3d.FSLINN[-1,1].plot()"
   ]
  },
  {
   "cell_type": "markdown",
   "metadata": {},
   "source": [
    "# Forcing in a Single Location"
   ]
  },
  {
   "cell_type": "code",
   "execution_count": null,
   "metadata": {},
   "outputs": [],
   "source": [
    "for loc in [dict(x=0, y=32), dict(x=0, y=10)]:\n",
    "    for key in ['FQTNN', 'FSLINN', 'SLI', 'QT']:\n",
    "        plt.figure()\n",
    "        data_3d[key].isel(**loc).plot.contourf(x='time', levels=11)"
   ]
  },
  {
   "cell_type": "markdown",
   "metadata": {},
   "source": [
    "# Zonal-Means"
   ]
  },
  {
   "cell_type": "code",
   "execution_count": null,
   "metadata": {},
   "outputs": [],
   "source": [
    "data_3d['FQTNN']"
   ]
  },
  {
   "cell_type": "code",
   "execution_count": null,
   "metadata": {},
   "outputs": [],
   "source": [
    "def get_plot_kwargs(x):\n",
    "    kwargs = {}\n",
    "    a,b = quantile(x, [0.02, .98])\n",
    "    if a * b < 0:\n",
    "        cmap = 'RdBu_r'\n",
    "        m = max(abs(a), abs(b))\n",
    "        a = -m \n",
    "        b = m\n",
    "    else:\n",
    "        cmap = 'viridis'\n",
    "    return dict(levels=np.linspace(a, b, 11), cmap=cmap)\n",
    "\n",
    "for key in ['FQTNN', 'FSLINN', 'SLI', 'QT']:\n",
    "    plt.figure()\n",
    "    x = data_3d[key][::12].mean('x')\n",
    "    x.plot.contourf(col='time', **get_plot_kwargs(x))"
   ]
  },
  {
   "cell_type": "markdown",
   "metadata": {},
   "source": [
    "# Error statistics\n",
    "\n",
    "How do the two datasets compare in time."
   ]
  },
  {
   "cell_type": "code",
   "execution_count": null,
   "metadata": {},
   "outputs": [],
   "source": [
    "train_data.time"
   ]
  },
  {
   "cell_type": "code",
   "execution_count": null,
   "metadata": {},
   "outputs": [],
   "source": [
    "data_3d.time"
   ]
  },
  {
   "cell_type": "markdown",
   "metadata": {},
   "source": [
    "The training data is sampled twice as frequently. Let's align the two"
   ]
  },
  {
   "cell_type": "code",
   "execution_count": null,
   "metadata": {},
   "outputs": [],
   "source": [
    "train_data_resampled = train_data.sel(time=data_3d.time, method='nearest')\\\n",
    ".assign_coords(x=data_3d.x, y=data_3d.y, time=data_3d.time)\n",
    "\n",
    "no_nn_resampled = no_nn.sel(time=data_3d.time, method='nearest')\\\n",
    ".assign_coords(x=data_3d.x, y=data_3d.y, time=data_3d.time)"
   ]
  },
  {
   "cell_type": "markdown",
   "metadata": {},
   "source": [
    "## Spatial structure of the error"
   ]
  },
  {
   "cell_type": "code",
   "execution_count": null,
   "metadata": {},
   "outputs": [],
   "source": [
    "forecast_error = data_3d - train_data_resampled\n",
    "\n",
    "forecast_error.QT[::12,1 ].plot(col='time', col_wrap=4)"
   ]
  },
  {
   "cell_type": "code",
   "execution_count": null,
   "metadata": {},
   "outputs": [],
   "source": [
    "qt_error = train_data_resampled.QT -data_3d.QT\n",
    "\n",
    "sli_error = train_data_resampled.SLI -data_3d.SLI\n",
    "u_error = train_data_resampled.U -data_3d.U\n",
    "\n",
    "u_error_persistence = train_data_resampled.U[0] - train_data_resampled.U"
   ]
  },
  {
   "cell_type": "code",
   "execution_count": null,
   "metadata": {},
   "outputs": [],
   "source": [
    "sli_error[:,15].std('x').plot()"
   ]
  },
  {
   "cell_type": "code",
   "execution_count": null,
   "metadata": {},
   "outputs": [],
   "source": [
    "qt_error[:,1].std('x').plot()"
   ]
  },
  {
   "cell_type": "code",
   "execution_count": null,
   "metadata": {},
   "outputs": [],
   "source": [
    "u_error[:,15].std('x').plot()"
   ]
  },
  {
   "cell_type": "markdown",
   "metadata": {},
   "source": [
    "## Comparison with persistence and null forecasts"
   ]
  },
  {
   "cell_type": "code",
   "execution_count": null,
   "metadata": {},
   "outputs": [],
   "source": [
    "def rms(x):\n",
    "    return np.sqrt((x**2).mean(['x', 'y']))\n",
    "\n",
    "def error_plot(forecast, no_nn, truth):\n",
    "    error  = rms(forecast- truth)\n",
    "    persistence_error = rms(truth[0] - truth)\n",
    "    time = error.time\n",
    "    plt.plot(time,error, label='NN')\n",
    "    plt.plot(time,persistence_error, label='Persistence Forecast')\n",
    "    plt.plot(time,rms(no_nn-truth), label='No NN')\n",
    "    plt.legend()\n",
    "    \n",
    "def plot_err_height_field(field, level):\n",
    "    error_plot(data_3d[field][:,level], no_nn_resampled[field][:,level], train_data_resampled[field][:,level])\n",
    "    plt.title(f\"{field} RMS Error at z={float(data_3d.z[level])}\")\n",
    "    \n",
    "def plot_err_field(field):\n",
    "    levs = [5,10,15,20]\n",
    "\n",
    "    for lev in levs:\n",
    "        plt.figure()\n",
    "        plot_err_height_field(field, lev)"
   ]
  },
  {
   "cell_type": "code",
   "execution_count": null,
   "metadata": {},
   "outputs": [],
   "source": [
    "plot_err_field('SLI')"
   ]
  },
  {
   "cell_type": "code",
   "execution_count": null,
   "metadata": {},
   "outputs": [],
   "source": [
    "plot_err_field('U')"
   ]
  },
  {
   "cell_type": "code",
   "execution_count": null,
   "metadata": {},
   "outputs": [],
   "source": [
    "plot_err_field('V')"
   ]
  },
  {
   "cell_type": "code",
   "execution_count": null,
   "metadata": {},
   "outputs": [],
   "source": [
    "plot_err_field('W')"
   ]
  },
  {
   "cell_type": "code",
   "execution_count": null,
   "metadata": {},
   "outputs": [],
   "source": [
    "plot_err_field('QT')"
   ]
  },
  {
   "cell_type": "code",
   "execution_count": null,
   "metadata": {},
   "outputs": [],
   "source": [
    "# !rm -rf /Users/noah/workspace/research/uwnet/data/runs/2018-09-27\n",
    "# !python ../src/criticism/run_sam_ic.py -t 0 -o ../data/runs/ > out"
   ]
  },
  {
   "cell_type": "markdown",
   "metadata": {},
   "source": [
    "# Error in P-E"
   ]
  },
  {
   "cell_type": "code",
   "execution_count": null,
   "metadata": {},
   "outputs": [],
   "source": [
    "net_precip_nn = -(data_3d.FQTNN/1000 * train_data.layer_mass).sum('z')\n",
    "net_precip_nn[::5].plot(col='time', col_wrap=5, vmax=50)\n",
    "\n",
    "t_2d_plot= net_precip_nn[::5].time"
   ]
  },
  {
   "cell_type": "code",
   "execution_count": null,
   "metadata": {},
   "outputs": [],
   "source": [
    "net_precip_obs = train_data.Prec - train_data.LHF/2.51e6 * 86400\n",
    "net_precip_obs.sel(time=t_2d_plot, method='nearest').plot(col='time', col_wrap=5, vmax=50)"
   ]
  },
  {
   "cell_type": "code",
   "execution_count": null,
   "metadata": {},
   "outputs": [],
   "source": [
    "net_precip_nn.mean('x')[-1].plot(label='NN+SAM')\n",
    "net_precip_obs.mean(['x', 'time']).plot(label='OBS')\n",
    "plt.title(\"Zonal mean net precipitation (mm/day)\")"
   ]
  },
  {
   "cell_type": "markdown",
   "metadata": {},
   "source": [
    "# After Chris meeting\n",
    "\n",
    "Chris suggests:\n",
    "\n",
    "1. Check for systematic bias in winds"
   ]
  },
  {
   "cell_type": "code",
   "execution_count": null,
   "metadata": {},
   "outputs": [],
   "source": [
    "u_sfc_nn = data_3d.U.mean('x').isel(z=0)\n",
    "u_sfc_obs = train_data_resampled.U.mean('x').isel(z=0)"
   ]
  },
  {
   "cell_type": "code",
   "execution_count": null,
   "metadata": {},
   "outputs": [],
   "source": [
    "\n",
    "def zonal_mean_bias_plot(key, levels = (0, 5, 10 ,15, 20)):\n",
    "\n",
    "    fig, axs = plt.subplots(len(levels), 2, figsize=(10,10), tight_layout=True, sharex=True, sharey=True)\n",
    "\n",
    "    for k, lev in enumerate(levels):\n",
    "        u_sfc_nn = data_3d[key].mean('x').isel(z=lev)\n",
    "        u_sfc_obs = train_data_resampled[key].mean('x').isel(z=lev)\n",
    "\n",
    "        M = max(u_sfc_obs.max(), u_sfc_nn.max()).compute()\n",
    "        m = min(u_sfc_obs.min(), u_sfc_nn.min()).compute()\n",
    "        M = max(abs(m), abs(M))\n",
    "\n",
    "        u_sfc_obs.plot(ax=axs[k,0], vmax=M)\n",
    "        u_sfc_nn.plot(ax=axs[k,1], vmax=M)\n",
    "    axs[0,0].set_title('NGAqua')\n",
    "    axs[0,1].set_title('SAM+NN')"
   ]
  },
  {
   "cell_type": "code",
   "execution_count": null,
   "metadata": {},
   "outputs": [],
   "source": [
    "zonal_mean_bias_plot('U')"
   ]
  },
  {
   "cell_type": "code",
   "execution_count": null,
   "metadata": {},
   "outputs": [],
   "source": [
    "zonal_mean_bias_plot('QT')"
   ]
  },
  {
   "cell_type": "code",
   "execution_count": null,
   "metadata": {},
   "outputs": [],
   "source": [
    "zonal_mean_bias_plot('SLI')"
   ]
  },
  {
   "cell_type": "code",
   "execution_count": null,
   "metadata": {},
   "outputs": [],
   "source": [
    "zonal_mean_bias_plot('W',levels=(1,5,10,15,20))"
   ]
  },
  {
   "cell_type": "markdown",
   "metadata": {},
   "source": [
    "What is the behavior of the zonal mean net precipitation bias?"
   ]
  },
  {
   "cell_type": "code",
   "execution_count": null,
   "metadata": {},
   "outputs": [],
   "source": [
    "fig, axs = plt.subplots(1,2, figsize=(10,3))\n",
    "\n",
    "kw = dict(vmax=20, vmin=-20, cmap='RdBu_r')\n",
    "\n",
    "net_precip_nn.sel(time=net_precip_nn.time, method='nearest').mean('x').plot(label='NN+SAM', ax=axs[1], **kw)\n",
    "net_precip_obs.sel(time=net_precip_nn.time, method='nearest').mean(['x']).plot(label='OBS', ax=axs[0], **kw)\n",
    "\n",
    "\n",
    "plt.suptitle(\"Zonal Mean net precip (P-E) (mm/day)\")\n",
    "axs[0].set_title(\"NGAqua\")\n",
    "axs[1].set_title(\"SAM\")"
   ]
  },
  {
   "cell_type": "markdown",
   "metadata": {},
   "source": [
    "### Equatorial winds\n",
    "\n",
    "Let's look at the difference in the zonal mean zonal velocity at the equator in NGAqua and in the truth."
   ]
  },
  {
   "cell_type": "code",
   "execution_count": null,
   "metadata": {},
   "outputs": [],
   "source": [
    "nn = data_3d.U.mean('x').isel(y=32)\n",
    "obs = train_data_resampled.U.isel(y=32).mean('x')"
   ]
  },
  {
   "cell_type": "code",
   "execution_count": null,
   "metadata": {},
   "outputs": [],
   "source": [
    "%%opts Curve{+framewise}\n",
    "hv.Dataset(obs.load()).to.curve(\"time\", label=\"SAM\") \\\n",
    "   * hv.Dataset(nn.load()).to.curve(\"time\", label=\"NN\")"
   ]
  },
  {
   "cell_type": "markdown",
   "metadata": {},
   "source": [
    "The surface easterlies in SAM/NN are much smaller than in NGAqua, but are larger in magnitude above 1km. As Chris suggests, this could indicate there is not enough vertical momentum mixing in the tropics of this model. This mixing could be increased by a good parametrization of CMT."
   ]
  }
 ],
 "metadata": {
  "kernelspec": {
   "display_name": "Python 3",
   "language": "python",
   "name": "python3"
  },
  "language_info": {
   "codemirror_mode": {
    "name": "ipython",
    "version": 3
   },
   "file_extension": ".py",
   "mimetype": "text/x-python",
   "name": "python",
   "nbconvert_exporter": "python",
   "pygments_lexer": "ipython3",
   "version": "3.6.6"
  }
 },
 "nbformat": 4,
 "nbformat_minor": 2
}
