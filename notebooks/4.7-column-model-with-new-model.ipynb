{
 "cells": [
  {
   "cell_type": "code",
   "execution_count": null,
   "metadata": {},
   "outputs": [],
   "source": [
    "%matplotlib inline\n",
    "import xarray as xr\n",
    "import torch\n",
    "from uwnet.model import MLP\n",
    "\n",
    "from uwnet.interface import dataset_to_numpy_dict"
   ]
  },
  {
   "cell_type": "code",
   "execution_count": null,
   "metadata": {},
   "outputs": [],
   "source": [
    "ds = xr.open_dataset(\"../data/processed/training.nc\").isel(time=slice(0,120), z=slice(0,28))\n",
    "ds"
   ]
  },
  {
   "cell_type": "code",
   "execution_count": null,
   "metadata": {},
   "outputs": [],
   "source": [
    "mod = MLP.from_path(\"../models/29/1.pkl\")\n",
    "mod.add_forcing = True\n",
    "\n",
    "output = mod.call_with_xr(ds, n=1)"
   ]
  },
  {
   "cell_type": "code",
   "execution_count": null,
   "metadata": {},
   "outputs": [],
   "source": [
    "t0 = ds.isel(time=0)\n",
    "\n",
    "d = {key: t0[key].values[np.newaxis] for key in t0.data_vars if key in mod.inputs.names + ['FSLI', 'FQT']}\n",
    "mod.call_with_numpy_dict(d, dt=0)"
   ]
  },
  {
   "cell_type": "code",
   "execution_count": null,
   "metadata": {},
   "outputs": [],
   "source": [
    "plt.pcolormesh(output['QT'][:,:,32,0].T)\n",
    "plt.colorbar()\n",
    "plt.figure()\n",
    "plt.pcolormesh(output['SLI'][:,:,32,0].T)\n",
    "plt.colorbar()"
   ]
  },
  {
   "cell_type": "code",
   "execution_count": null,
   "metadata": {},
   "outputs": [],
   "source": [
    "output['FQTNN'][:,:,32,0].plot(x='time')\n",
    "plt.figure()\n",
    "output['FSLINN'][:,:,32,0].plot(x='time')"
   ]
  },
  {
   "cell_type": "code",
   "execution_count": null,
   "metadata": {},
   "outputs": [],
   "source": [
    "PW = (output.QT * ds.layer_mass).sum('z')/1000\n",
    "PW_obs = (ds.QT * ds.layer_mass).sum('z')/1000"
   ]
  },
  {
   "cell_type": "code",
   "execution_count": null,
   "metadata": {},
   "outputs": [],
   "source": [
    "PW.mean(['x', 'y']).plot()\n",
    "PW_obs.mean(['x', 'y']).plot()"
   ]
  },
  {
   "cell_type": "code",
   "execution_count": null,
   "metadata": {},
   "outputs": [],
   "source": [
    "pw_dot = (output.FQTNN * ds.layer_mass).sum('z').mean(['x', 'y'])/1000\n",
    "pw_dot.plot()"
   ]
  }
 ],
 "metadata": {
  "kernelspec": {
   "display_name": "Python 3",
   "language": "python",
   "name": "python3"
  },
  "language_info": {
   "codemirror_mode": {
    "name": "ipython",
    "version": 3
   },
   "file_extension": ".py",
   "mimetype": "text/x-python",
   "name": "python",
   "nbconvert_exporter": "python",
   "pygments_lexer": "ipython3",
   "version": "3.6.6"
  }
 },
 "nbformat": 4,
 "nbformat_minor": 2
}
