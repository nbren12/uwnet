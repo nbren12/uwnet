{
 "cells": [
  {
   "cell_type": "markdown",
   "metadata": {},
   "source": [
    "I was able to stabilize the simulation by ignoring the Neural networks parametrized outputs near the boundaries. **Did this improve the systematic biases in the simulation?**"
   ]
  },
  {
   "cell_type": "code",
   "execution_count": null,
   "metadata": {},
   "outputs": [],
   "source": [
    "%matplotlib inline\n",
    "import xarray as xr\n",
    "import holoviews as hv\n",
    "hv.extension('bokeh')\n",
    "\n",
    "from os.path import join\n",
    "\n",
    "\n",
    "def resample(src, onto):\n",
    "    return src.sel(time=onto.time, method='nearest')\\\n",
    "        .assign_coords(x=onto.x, y=onto.y, time=onto.time)\n",
    "\n",
    "\n",
    "TRAINING = \"../data/processed/training.nc\"\n",
    "no_q3_path = \"../models/17/test\"\n",
    "train_data = xr.open_dataset(TRAINING)\n",
    "\n",
    "\n",
    "data_3d = xr.open_mfdataset(\"../data/runs/2018-10-05-q1_q2_and_q3_masked_bndy//OUT_3D/*.nc\")\n",
    "data_2d = xr.open_mfdataset(\"../data/runs/2018-10-05-q1_q2_and_q3_masked_bndy//OUT_2D/*.nc\")\n",
    "\n",
    "\n",
    "train_data_resampled = resample(train_data, data_3d)\n",
    "\n",
    "data_no_q3_3d = resample(xr.open_mfdataset(join(no_q3_path, \"OUT_3D\", \"*.nc\")), data_3d)"
   ]
  },
  {
   "cell_type": "code",
   "execution_count": null,
   "metadata": {},
   "outputs": [],
   "source": [
    "data_3d.W[::12,:,32].plot(col='time')"
   ]
  },
  {
   "cell_type": "code",
   "execution_count": null,
   "metadata": {},
   "outputs": [],
   "source": [
    "data_2d.W500[::12].plot(col='time', col_wrap=4)"
   ]
  },
  {
   "cell_type": "code",
   "execution_count": null,
   "metadata": {},
   "outputs": [],
   "source": [
    "data_2d.PW[::12].plot(col='time', col_wrap=4)"
   ]
  },
  {
   "cell_type": "markdown",
   "metadata": {},
   "source": [
    "While the zonal velocit field seems improved in the first few days of simulation. There are still some big problems with the contraction of the ITCZ. Also there appear to be Gibbs Phenomena that where not in the original solution. \n",
    "\n",
    "**Are the Gibbs phenomena caused by the paramterization, or by the intrinsic model dynamics?** To suss this out, I can make a SAM run with no neural network but interactive microphysoics and radiation."
   ]
  },
  {
   "cell_type": "markdown",
   "metadata": {},
   "source": [
    "# Conclusions\n",
    "\n",
    "1. There are still large mean state biases even when Q3 is included. This indicates that the problem is with the parametrized sources of humidity and temperature. Perhaps, the biases are introduced by the size of the training data."
   ]
  }
 ],
 "metadata": {
  "kernelspec": {
   "display_name": "Python 3",
   "language": "python",
   "name": "python3"
  },
  "language_info": {
   "codemirror_mode": {
    "name": "ipython",
    "version": 3
   },
   "file_extension": ".py",
   "mimetype": "text/x-python",
   "name": "python",
   "nbconvert_exporter": "python",
   "pygments_lexer": "ipython3",
   "version": "3.6.6"
  }
 },
 "nbformat": 4,
 "nbformat_minor": 2
}
