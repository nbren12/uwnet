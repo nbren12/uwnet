{
 "cells": [
  {
   "cell_type": "code",
   "execution_count": null,
   "metadata": {},
   "outputs": [],
   "source": [
    "import attr\n",
    "from uwnet.timestepper import Batch, predict_multiple_steps\n",
    "\n",
    "def _convert_dataset_to_dict(dataset):\n",
    "    return {key: dataset[key] for key in dataset.data_vars\n",
    "            if 'time' in dataset[key].dims}\n",
    "\n",
    "\n",
    "class XarrayBatch(Batch):\n",
    "    \"\"\"An Xarray-aware version of batch\"\"\"\n",
    "    \n",
    "    def __init__(self, dataset, **kwargs):\n",
    "        data = _convert_dataset_to_dict(dataset)\n",
    "        super(XarrayBatch, self).__init__(data, **kwargs)\n",
    "\n",
    "    def get_model_inputs(self, t, state):\n",
    "        inputs = super(XarrayBatch, self).get_model_inputs(t, state)\n",
    "        for key in inputs:\n",
    "            try:\n",
    "                inputs[key] = inputs[key].drop('time')\n",
    "            except ValueError:\n",
    "                pass\n",
    "        return xr.Dataset(inputs)\n",
    "    \n",
    "    \n",
    "def get_time_step(ds):\n",
    "    return float(ds.time.diff('time')[0]*86400)\n",
    "\n",
    "\n",
    "def single_column_simulation(model, dataset, interval=(0,10)):\n",
    "    \"\"\"Run a single column model simulation with a model for the source terms\n",
    "    \n",
    "    Parameters\n",
    "    ----------\n",
    "    model\n",
    "        pytorch model for producing the apparent sources\n",
    "    dataset : xr.Dataset\n",
    "        input dataset in the same format as the training data\n",
    "    interval : tuple\n",
    "        (start_time, end_time) interval\n",
    "    \"\"\"\n",
    "    start, end = interval\n",
    "    time_step = get_time_step(dataset)\n",
    "    pred_generator = predict_multiple_steps(model.call_with_xr, batch, initial_time=start, prediction_length=end, time_step=time_step)\n",
    "    datasets = []\n",
    "    for k, state in pred_generator:\n",
    "        datasets.append(xr.Dataset(state).assign_coords(time=dataset.time[k]))\n",
    "    output_time_series = xr.concat(datasets, dim='time')\n",
    "    return output_time_series\n"
   ]
  },
  {
   "cell_type": "code",
   "execution_count": null,
   "metadata": {},
   "outputs": [],
   "source": [
    "import xarray as xr\n",
    "from uwnet.model import ApparentSource\n",
    "\n",
    "model = ApparentSource({},{})\n",
    "ds = xr.open_dataset(\"../data/processed/training.nc\")\n",
    "batch = XarrayBatch(ds, prognostics=['QT', 'SLI'])\n",
    "\n",
    "state = batch.get_prognostics_at_time(0)\n",
    "ins = batch.get_model_inputs(0, state)\n",
    "# ins = ins.expand_dims('time')\n",
    "outs = model.call_with_xr(ins)"
   ]
  },
  {
   "cell_type": "code",
   "execution_count": null,
   "metadata": {},
   "outputs": [],
   "source": [
    "output = single_column_simulation(model, ds, interval=(0, 10))"
   ]
  },
  {
   "cell_type": "code",
   "execution_count": null,
   "metadata": {},
   "outputs": [],
   "source": [
    "output"
   ]
  }
 ],
 "metadata": {
  "kernelspec": {
   "display_name": "Python 3",
   "language": "python",
   "name": "python3"
  },
  "language_info": {
   "codemirror_mode": {
    "name": "ipython",
    "version": 3
   },
   "file_extension": ".py",
   "mimetype": "text/x-python",
   "name": "python",
   "nbconvert_exporter": "python",
   "pygments_lexer": "ipython3",
   "version": "3.6.6"
  }
 },
 "nbformat": 4,
 "nbformat_minor": 2
}
