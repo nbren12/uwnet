{
 "cells": [
  {
   "cell_type": "markdown",
   "metadata": {},
   "source": [
    "In the last notebook, I wrote some code for running single column model simulations based on xarray data. Now, let's use it to dicuss the model spin-up error."
   ]
  },
  {
   "cell_type": "code",
   "execution_count": null,
   "metadata": {},
   "outputs": [],
   "source": [
    "%matplotlib inline"
   ]
  },
  {
   "cell_type": "code",
   "execution_count": null,
   "metadata": {},
   "outputs": [],
   "source": [
    "import attr\n",
    "from uwnet.columns import single_column_simulation\n",
    "import torch"
   ]
  },
  {
   "cell_type": "code",
   "execution_count": null,
   "metadata": {},
   "outputs": [],
   "source": [
    "ds = xr.open_dataset(\"../data/processed/training.nc\")\n",
    "model = torch.load(\"../models/113/3.pkl\")"
   ]
  },
  {
   "cell_type": "markdown",
   "metadata": {},
   "source": [
    "# The Spin Up problem"
   ]
  },
  {
   "cell_type": "markdown",
   "metadata": {},
   "source": [
    "Let's run a single column simulation for a given location:"
   ]
  },
  {
   "cell_type": "code",
   "execution_count": null,
   "metadata": {},
   "outputs": [],
   "source": [
    "location = ds.isel(x=slice(0,1), y=slice(32,33))\n",
    "scm_data = single_column_simulation(model, location, interval=(0, 190))"
   ]
  },
  {
   "cell_type": "code",
   "execution_count": null,
   "metadata": {},
   "outputs": [],
   "source": [
    "scm_data.QT.squeeze().T.plot.contourf(vmin=0)"
   ]
  },
  {
   "cell_type": "markdown",
   "metadata": {},
   "source": [
    "All the very dark points are neagative. Indicating a large error."
   ]
  },
  {
   "cell_type": "markdown",
   "metadata": {},
   "source": [
    "Let's merge back in the SST and SOLIN field"
   ]
  },
  {
   "cell_type": "code",
   "execution_count": null,
   "metadata": {},
   "outputs": [],
   "source": [
    "merged_pred_data = location.rename({'SLI': 'SLIOBS', 'QT': 'QTOBS'}).merge(scm_data, join='inner')"
   ]
  },
  {
   "cell_type": "markdown",
   "metadata": {},
   "source": [
    "And compute the apparent source:"
   ]
  },
  {
   "cell_type": "code",
   "execution_count": null,
   "metadata": {},
   "outputs": [],
   "source": [
    "apparent_source = model.call_with_xr(merged_pred_data).squeeze()\n",
    "apparent_source.QT.T.plot()\n",
    "plt.title(\"FQTNN during a single column simulation\")"
   ]
  },
  {
   "cell_type": "markdown",
   "metadata": {},
   "source": [
    "And the apparent source without allow the scheme to spin up looks like this:"
   ]
  },
  {
   "cell_type": "code",
   "execution_count": null,
   "metadata": {},
   "outputs": [],
   "source": [
    "apparent_source = model.call_with_xr(location.isel(time=slice(0, 190))).squeeze()\n",
    "apparent_source.QT.T.plot()\n",
    "plt.title(\"FQTNN no spinup\")"
   ]
  },
  {
   "cell_type": "markdown",
   "metadata": {},
   "source": [
    "We can see there are some big differenences between these indicating the model is not spun up correctly."
   ]
  },
  {
   "cell_type": "markdown",
   "metadata": {},
   "source": [
    "## The short time spin up process"
   ]
  },
  {
   "cell_type": "code",
   "execution_count": null,
   "metadata": {},
   "outputs": [],
   "source": [
    "merged_pred_data.QT[0].plot(y='z', label='Prediction after one step')\n",
    "merged_pred_data.QTOBS[0].plot(y='z', label='OBS')\n",
    "plt.legend()"
   ]
  },
  {
   "cell_type": "code",
   "execution_count": null,
   "metadata": {},
   "outputs": [],
   "source": [
    "abs_error = merged_pred_data.QT[0] - merged_pred_data.QTOBS[0]\n",
    "rel_error = np.abs(abs_error)/merged_pred_data.QTOBS[0]\n",
    "\n",
    "\n",
    "plt.semilogx(rel_error.squeeze(), rel_error.z)\n",
    "plt.xlabel(\"QT relative error\")"
   ]
  },
  {
   "cell_type": "markdown",
   "metadata": {},
   "source": [
    "The biggest percent errors in humidity are clearly in the upper troposphere. where the humidity is very small. Although the errors are not good lower down either."
   ]
  },
  {
   "cell_type": "markdown",
   "metadata": {},
   "source": [
    "## Is the model fully spun up after one time step?"
   ]
  },
  {
   "cell_type": "code",
   "execution_count": null,
   "metadata": {},
   "outputs": [],
   "source": [
    "dt = 3 * 3600.0\n",
    "\n",
    "def step(apparent_source, location, dt):\n",
    "    # compute the total source\n",
    "    total_source = apparent_source/86400 + location[['FSLI', 'FQT']].rename({'FQT': 'QT', 'FSLI': 'SLI'})\n",
    "    # make a time step\n",
    "    one_step = location + total_source * dt\n",
    "    return one_step.shift(time=1)\n",
    "    \n",
    "\n",
    "one_step = step(apparent_source, location, dt)\n",
    "# merge back in the SST and SOLIN\n",
    "merged_one_step_data = location.rename({'SLI': 'SLIOBS', 'QT': 'QTOBS'}).merge(one_step, join='inner')\n",
    "# compute the apparent source\n",
    "one_step_apparent_source = model.call_with_xr(merged_one_step_data)\n",
    "# plot\n",
    "one_step_apparent_source.QT.plot(y='z')"
   ]
  },
  {
   "cell_type": "markdown",
   "metadata": {},
   "source": [
    "this is not identical to the Q1 for the full single column run, but it is much closer. Thus it seems that the scheme is mostly spun up within one time step."
   ]
  },
  {
   "cell_type": "markdown",
   "metadata": {},
   "source": [
    "## Which variable is the spin up important for?"
   ]
  },
  {
   "cell_type": "markdown",
   "metadata": {},
   "source": [
    "### Use only SLI from one step prediction"
   ]
  },
  {
   "cell_type": "code",
   "execution_count": null,
   "metadata": {},
   "outputs": [],
   "source": [
    "merged_data_with_new_sli = location.rename({'SLI': 'SLIOBS'}).merge(one_step.drop('QT'), join='inner')\n",
    "# compute the apparent source\n",
    "one_step_apparent_source = model.call_with_xr(merged_data_with_new_sli)\n",
    "# plot\n",
    "one_step_apparent_source.QT.plot(y='z')"
   ]
  },
  {
   "cell_type": "markdown",
   "metadata": {},
   "source": [
    "### Use only QT from one step prediction"
   ]
  },
  {
   "cell_type": "code",
   "execution_count": null,
   "metadata": {},
   "outputs": [],
   "source": [
    "# merge back in the SST and SOLIN\n",
    "merged_data_with_new_qt = location.rename({'QT': 'QTOBS'}).merge(one_step.drop('SLI'), join='inner')\n",
    "# compute the apparent source\n",
    "one_step_apparent_source = model.call_with_xr(merged_data_with_new_qt)\n",
    "# plot\n",
    "one_step_apparent_source.QT.plot(y='z')"
   ]
  },
  {
   "cell_type": "markdown",
   "metadata": {},
   "source": [
    "### Conclusion\n",
    "\n",
    "Clearly using the spun-up QT has a much more positive impact than using the spun-up SLI."
   ]
  },
  {
   "cell_type": "markdown",
   "metadata": {},
   "source": [
    "## Which levels of QT are most important?"
   ]
  },
  {
   "cell_type": "code",
   "execution_count": null,
   "metadata": {},
   "outputs": [],
   "source": [
    "def merge_qt_levels_from_one_step(location, one_step, levels):\n",
    "    out = xr.merge([location.QT, one_step.QT.rename('QTP')], join='inner')\n",
    "    out.QT.values[:, levels] = out.QTP.values[:, levels]\n",
    "    qt = out.QT\n",
    "    return location.assign(QT=qt, SLI=one_step.SLI).dropna('time')\n",
    "\n",
    "\n",
    "def get_apparent_source_from_mixed(location, one_step, levels):\n",
    "    \"\"\"Get apparent source merging by mixing the humidity field from location and one_step\n",
    "    \n",
    "    the specified levels of humidity are taken from the one step prediction, the rest are from the observed dataset (location).\n",
    "    \n",
    "    This should tell us which levels matter the most\n",
    "    \"\"\"\n",
    "    mixed_qt_input = merge_qt_levels_from_one_step(location, one_step, levels)\n",
    "    return model.call_with_xr(mixed_qt_input)"
   ]
  },
  {
   "cell_type": "markdown",
   "metadata": {},
   "source": [
    "Using the spun-up variables for only the first 10 vertical levels does little"
   ]
  },
  {
   "cell_type": "code",
   "execution_count": null,
   "metadata": {},
   "outputs": [],
   "source": [
    "lower_atmos = np.r_[:10]\n",
    "get_apparent_source_from_mixed(location, one_step, lower_atmos).QT.T.plot()"
   ]
  },
  {
   "cell_type": "markdown",
   "metadata": {},
   "source": [
    "Here we use the spun up variables for every point below the gray line."
   ]
  },
  {
   "cell_type": "code",
   "execution_count": null,
   "metadata": {},
   "outputs": [],
   "source": [
    "n = 30\n",
    "m= 0\n",
    "upper_atmos = np.r_[m:n]\n",
    "get_apparent_source_from_mixed(location, one_step, upper_atmos).QT.T.plot(vmax=40)\n",
    "plt.axhline(location.z[n], c='k', alpha=.4)\n",
    "plt.axhline(location.z[m], c='k', alpha=.4)"
   ]
  },
  {
   "cell_type": "markdown",
   "metadata": {},
   "source": [
    "We see that using the \"spun up\" moisutre has the moist drastic impact where humidity is sometimes negative. On the other hand, it is also somewhat important to spin up the boundary layer properly. Here, we use the spun up moisture only between the lines:"
   ]
  },
  {
   "cell_type": "code",
   "execution_count": null,
   "metadata": {},
   "outputs": [],
   "source": [
    "n = 30\n",
    "m= 10\n",
    "upper_atmos = np.r_[m:n]\n",
    "get_apparent_source_from_mixed(location, one_step, upper_atmos).QT.T.plot(vmax=40)\n",
    "plt.axhline(location.z[n], c='k', alpha=.4)\n",
    "plt.axhline(location.z[m], c='k', alpha=.4)"
   ]
  },
  {
   "cell_type": "markdown",
   "metadata": {},
   "source": [
    "There are some small differences between these plots. indicating that the lower atmospheric points matter. They probably matter because of the extremely large SGS forcing in that layer."
   ]
  }
 ],
 "metadata": {
  "kernelspec": {
   "display_name": "Python 3",
   "language": "python",
   "name": "python3"
  },
  "language_info": {
   "codemirror_mode": {
    "name": "ipython",
    "version": 3
   },
   "file_extension": ".py",
   "mimetype": "text/x-python",
   "name": "python",
   "nbconvert_exporter": "python",
   "pygments_lexer": "ipython3",
   "version": "3.6.6"
  }
 },
 "nbformat": 4,
 "nbformat_minor": 2
}
