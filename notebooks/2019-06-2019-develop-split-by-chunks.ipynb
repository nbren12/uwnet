{
 "cells": [
  {
   "cell_type": "code",
   "execution_count": 2,
   "metadata": {},
   "outputs": [
    {
     "data": {
      "text/plain": [
       "<xarray.DataArray 'QT' (z: 34, y: 64)>\n",
       "array([[1.745824e+04, 2.078087e+04, 2.488016e+04, ..., 2.504804e+04,\n",
       "        2.047631e+04, 1.634874e+04],\n",
       "       [1.565435e+04, 1.996467e+04, 2.344362e+04, ..., 2.313261e+04,\n",
       "        1.892441e+04, 1.430626e+04],\n",
       "       [1.421323e+04, 1.899468e+04, 2.231608e+04, ..., 2.239286e+04,\n",
       "        1.810465e+04, 1.295157e+04],\n",
       "       ...,\n",
       "       [3.029632e-27, 6.815655e-27, 9.192258e-27, ..., 1.264835e-26,\n",
       "        4.883866e-27, 1.614462e-26],\n",
       "       [0.000000e+00, 0.000000e+00, 0.000000e+00, ..., 0.000000e+00,\n",
       "        0.000000e+00, 0.000000e+00],\n",
       "       [0.000000e+00, 0.000000e+00, 0.000000e+00, ..., 0.000000e+00,\n",
       "        0.000000e+00, 0.000000e+00]], dtype=float32)\n",
       "Coordinates:\n",
       "  * y        (y) float32 0.0 160000.0 320000.0 ... 9920000.0 10080000.0\n",
       "  * z        (z) float32 37.0 112.0 194.0 288.0 ... 24000.0 25500.0 27000.0"
      ]
     },
     "execution_count": 2,
     "metadata": {},
     "output_type": "execute_result"
    }
   ],
   "source": [
    "%matplotlib inline\n",
    "\n",
    "import xarray as xr\n",
    "import numpy as np\n",
    "import torch\n",
    "from uwnet.utils import map_dataset\n",
    "from src.data import open_data\n",
    "\n",
    "ds = open_data('training')\n",
    "ds = ds.isel(time=slice(0, 10)).load()\n",
    "\n",
    "model = torch.load(\"../nn/NNLower/5.pkl\")\n",
    "model.eval();\n",
    "\n",
    "Q1 = map_dataset(ds, model.call_with_xr, 'time')\n",
    "((Q1.QT-ds.QT)**2).sum(['time', 'x']).compute()"
   ]
  }
 ],
 "metadata": {
  "kernelspec": {
   "display_name": "Python 3",
   "language": "python",
   "name": "python3"
  },
  "language_info": {
   "codemirror_mode": {
    "name": "ipython",
    "version": 3
   },
   "file_extension": ".py",
   "mimetype": "text/x-python",
   "name": "python",
   "nbconvert_exporter": "python",
   "pygments_lexer": "ipython3",
   "version": "3.7.3"
  }
 },
 "nbformat": 4,
 "nbformat_minor": 2
}
