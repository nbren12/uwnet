{
 "cells": [
  {
   "cell_type": "markdown",
   "metadata": {},
   "source": [
    "I want to develop the linearized 2D wave model described by Kuang (2018).\n",
    "\n",
    "Assuming that the mean winds are zero, the linearized anelastic equations are given by\n",
    "\n",
    "\\begin{align}\n",
    "q_t +\\bar{q}_z w = Q_2'\\\\\n",
    "s_t +\\bar{s}_z w = Q_1'\\\\\n",
    "w_t  = -\\partial x^2 L M B  -d w\\\\\n",
    "\\end{align}\n",
    "\n",
    "$L$ and $M$ are operators, $Lf = -\\frac{1}{\\rho_0(z)}\\int_0^z \\rho_0 f dz$, and $Mf = + \\int_0^z f dz $. The buoyancy $B$ is a function of $\\bar{q} +q$ and $\\bar{s} + s$. To constrain the constants, Kuang (2018) says that \n",
    "\n",
    ">For simplicity, I neglect the virtual effect in the large- scale wave dynamics, which was found to have only a minor contribution, and assume a rigid lid (w =0) at 175 hPa, as a radiating upper boundary condition is not essential for the instabilities that I shall consider.\n",
    "\n",
    "\n",
    "Kuang, Z. (2018). Linear stability of moist convecting atmospheres Part I: from linear response functions to a simple model and applications to convectively coupled waves. Journal of the Atmospheric Sciences. https://doi.org/10.1175/JAS-D-18-0092.1"
   ]
  },
  {
   "cell_type": "markdown",
   "metadata": {},
   "source": [
    "## Derivation"
   ]
  },
  {
   "cell_type": "markdown",
   "metadata": {},
   "source": [
    "\\begin{align}\n",
    "q_t +\\bar{q}_z w = Q_2'\\\\\n",
    "s_t +\\bar{s}_z w = Q_1'\\\\\n",
    "u_t + \\phi_x =  - d u\\\\\n",
    "L \\phi = B \\\\\n",
    "u_x + H w = 0\\\\\n",
    "\\end{align}\n",
    "\n",
    "$Lf = f_z$ and $H w =\\frac{1}{\\rho_0} (\\rho_0 w)_z$.\n",
    "\n",
    "$H w_t + [-d u - \\phi_x]_x = 0$\n",
    "\n",
    "$H w_t + d H w - \\phi_{xx} = 0$\n",
    "\n",
    "$L H w_t + d L H w -  B_{xx} = 0$\n",
    "\n",
    "$ LH (\\partial_t + d ) W = B_{xx}$\n",
    "\n",
    "\n",
    "$LH =  \\partial_z \\frac{1}{\\rho_0} \\partial_z \\rho_0 = A \\rho$\n",
    "\n",
    "This can be discretized. We should have W collocated with S and Q to make the transport equations simpler. Then a suitable discretization of $A$ is given by\n",
    "\n",
    "$(A)_k v =\\partial_z \\frac{1}{\\rho_0} \\frac{v_k-v_{k-1}}{z^k-z^{k-1}}$\n",
    "\n",
    "$(A)_k v =\\partial_z  \\frac{v_k-v_{k-1}}{(z^k-z^{k-1})\\rho^{k-1/2}}$\n",
    "\n",
    "$(A)_k v = \\frac{1}{z_{k+1/2}-z_{k-1/2}} \\left[ \\frac{v_{k+1}-v_k}{(z_{k+1}-z_k)\\rho^{k+1/2}} - \\frac{v_k-v_{k-1}}{(z^k-z^{k-1})\\rho^{k-1/2}} \\right]$"
   ]
  },
  {
   "cell_type": "markdown",
   "metadata": {},
   "source": [
    "$(A v)_k = a_k v_{k-1} + b_k v_k + c_k v_{k+1}$\n",
    "\n",
    "$a_k = \\frac{1}{(z_k - z_{k-1})(z_{k+1/2}-z_{k-1/2})\\rho_{k-1/2}}$\n",
    "\n",
    "$b_k =- \\frac{1}{(z_{k+1/2}-z_{k-1/2})}\\left[  \\frac{1}{(z_{k+1} - z_k)\\rho_{k+1/2}} + \\frac{1}{(z_k - z_{k-1})\\rho_{k-1/2}} \\right]$\n",
    "\n",
    "$c_k = \\frac{1}{(z_{k+1} - z_k)(z_{k+1/2}-z_{k-1/2})\\rho_{k+1/2}}$\n",
    "\n",
    "then\n",
    "\n",
    "$(LH w)_k =a_k \\rho_{k-1} w_{k-1} + b_k \\rho_k w_k + c_k \\rho_{k+1} w_{k+1}$\n",
    "\n",
    "the dirichlet boundary conditions are satisfied by: $w_0 = - w_1 $ and $w_{n+1} = -w_n$. It is not simply $w_0$ because the vertical velocity should be located at the cell center. This shows up as\n",
    "\n",
    "$(LH w)_1 = - a_1 \\rho_{0} w_{1} + b_1 \\rho_1 w_1 + c_1 \\rho_{2} w_{2} $\n",
    "and\n",
    "\n",
    "$(LH w)_n =a_n \\rho_{n-1} w_{n-1} + b_n \\rho_n w_n - c_n \\rho_{n+1} w_{n}.$"
   ]
  },
  {
   "cell_type": "code",
   "execution_count": 1,
   "metadata": {},
   "outputs": [],
   "source": [
    "from scipy import sparse\n",
    "import numpy as np\n",
    "import matplotlib.pyplot as plt\n",
    "%matplotlib inline\n",
    "\n",
    "def pad_linear(z):\n",
    "    return np.r_[2*z[0] - z[1], z, 2*z[-1] - z[-2]]\n",
    "\n",
    "def centered_to_interface(z):\n",
    "    z = pad_linear(z)\n",
    "    return (z[1:] + z[:-1])/2\n",
    "\n",
    "def get_elliptic_diagonals(rhoi, zi, rho, z):\n",
    "    rho = pad_linear(rho)\n",
    "    z = pad_linear(z)\n",
    "    dz = np.diff(z)\n",
    "    dzi = np.diff(zi)\n",
    "    \n",
    "    a = rho[:-2] / dz[:-1] / dzi / rhoi[:-1]\n",
    "    b = -rho[1:-1] / dzi  * (1/dz[1:]/rhoi[1:] + 1 / dz[:-1]/rhoi[:-1])\n",
    "    c = rho[2:] / dz[1:] / dzi / rhoi[1:]\n",
    "    \n",
    "    at = a[1:]\n",
    "    bt = b.copy()\n",
    "    bt[0] = b[0] - a[0] *  (zi[0] - z[0]) / (z[1]-zi[0])\n",
    "    bt[-1] = b[-1] - c[-1] * (z[-1] - zi[-1]) / (zi[-1]-z[-2])\n",
    "    ct = c[:-1]\n",
    "        \n",
    "    return at, bt, ct\n",
    "    \n",
    "    \n",
    "def get_elliptic_matrix(*args):\n",
    "    diags = get_elliptic_diagonals(*args)\n",
    "    A = np.asarray(sparse.diags(diags, [-1, 0, 1]).todense())\n",
    "    return A\n",
    "\n",
    "\n",
    "def get_elliptic_matrix_easy(rho, z):\n",
    "    \"\"\"Get elliptic matrix from cell centered rho and z\"\"\"\n",
    "    rho = np.asarray(rho)\n",
    "    z = np.asarray(z)\n",
    "    \n",
    "    rhoi = centered_to_interface(rho)\n",
    "    zi = centered_to_interface(z)\n",
    "\n",
    "    return get_elliptic_matrix(rhoi, zi, rho, z)\n",
    "\n",
    "\n",
    "\n",
    "# I test the elliptic matrix using the method of manufactured solutions:\n",
    "\n",
    "# test solution\n",
    "def ans(m, H, c=2, n=32):\n",
    "    \n",
    "    # setup grid\n",
    "    d = H / n\n",
    "    z = np.arange(n) * d + d/2\n",
    "    zi = np.arange(n+1) * d\n",
    "    \n",
    "    # setup solution\n",
    "    rho = np.exp(-c * z / H)\n",
    "    rhoi = np.exp(-c * zi / H)\n",
    "#     rhoi = centered_to_interface(rho)\n",
    "    w = np.sin(m*np.pi * z / H)\n",
    "    \n",
    "    # setup rhs\n",
    "    rhs = -c * np.pi * m / H**2 * np.cos(np.pi*m*z/H) - np.pi**2 * m**2/H**2 * np.sin(np.pi * m*z/H)\n",
    "    \n",
    "    # get matrix\n",
    "    A = get_elliptic_matrix(rhoi, zi, rho, z)\n",
    "    \n",
    "    return A @ w, rhs\n",
    "\n",
    "import pytest\n",
    "\n",
    "def mad(x,y):\n",
    "    return np.abs(x-y).mean()\n",
    "\n",
    "def order_of_convergence(n, err):\n",
    "    return -np.polyfit(np.log(n), np.log(err), 2)[1]\n",
    "\n",
    "def test_elliptic_order_of_convergence():\n",
    "    \n",
    "    err = []\n",
    "    ns = [5, 10, 40, 100, 1000]\n",
    "    for n in ns:\n",
    "        pred, truth = ans(3, 1.0, c=5, n=n)\n",
    "        err.append(mad(pred, truth))\n",
    "    assert order_of_convergence(ns, err) == pytest.approx(2.0, rel=.1)\n"
   ]
  },
  {
   "cell_type": "code",
   "execution_count": 2,
   "metadata": {},
   "outputs": [],
   "source": [
    "# this test will fail of the order of convergence is less than 2\n",
    "test_elliptic_order_of_convergence()"
   ]
  },
  {
   "cell_type": "code",
   "execution_count": 3,
   "metadata": {},
   "outputs": [
    {
     "data": {
      "image/png": "[encoded data removed]",
      "text/plain": [
       "<Figure size 432x288 with 1 Axes>"
      ]
     },
     "metadata": {
      "needs_background": "light"
     },
     "output_type": "display_data"
    }
   ],
   "source": [
    "pred, truth = ans(3, 1.0, c=4, n=64)\n",
    "\n",
    "plt.plot(truth, '-', label='truth')\n",
    "plt.plot(pred, '.', label='numerical')\n",
    "plt.legend()\n",
    "plt.title(\"Lw, w = sin(pi m z / H), rho=exp(-zc/H)\");"
   ]
  },
  {
   "cell_type": "markdown",
   "metadata": {},
   "source": [
    "# Implementation"
   ]
  },
  {
   "cell_type": "markdown",
   "metadata": {},
   "source": [
    "Let's use automatic differentiation to do this work, and implement a function using the nonlinear Q1 and Q2."
   ]
  },
  {
   "cell_type": "code",
   "execution_count": 4,
   "metadata": {},
   "outputs": [],
   "source": [
    "import torch\n",
    "from uwnet.utils import centered_difference"
   ]
  },
  {
   "cell_type": "code",
   "execution_count": 5,
   "metadata": {},
   "outputs": [
    {
     "name": "stderr",
     "output_type": "stream",
     "text": [
      "/Users/noah/anaconda/envs/uwnet/lib/python3.7/site-packages/dask/config.py:168: YAMLLoadWarning: calling yaml.load() without Loader=... is deprecated, as the default Loader is unsafe. Please read https://msg.pyyaml.org/load for full details.\n",
      "  data = yaml.load(f.read()) or {}\n",
      "/Users/noah/anaconda/envs/uwnet/lib/python3.7/site-packages/distributed/config.py:20: YAMLLoadWarning: calling yaml.load() without Loader=... is deprecated, as the default Loader is unsafe. Please read https://msg.pyyaml.org/load for full details.\n",
      "  defaults = yaml.load(f)\n"
     ]
    }
   ],
   "source": [
    "def vertically_integrate(f, z_interface):\n",
    "    dz = z_interface[1:] - z_interface[:-1]\n",
    "    return torch.cumsum(f*dz, 0)\n",
    "\n",
    "def deriv(f, z_center):\n",
    "    return centered_difference(f, 0)/centered_difference(z_center, 0)\n",
    "\n",
    "\n",
    "class WaveEq:\n",
    "    def __init__(self, source_fn, base_state, density, interface_heights, center_heights):\n",
    "        self.base_state = base_state\n",
    "        self.source_fn = source_fn\n",
    "        self.density = density\n",
    "        self.interface_heights = interface_heights\n",
    "        self.center_heights = center_heights\n",
    "        \n",
    "    def buoyancy(self, s, q):\n",
    "        s0 = self.base_state['SLI']\n",
    "        return (s-s0)/s0\n",
    "    \n",
    "    @property\n",
    "    def elliptic_operator(self):\n",
    "        rho = self.density.detach().numpy()\n",
    "        z = self.center_heights.detach().numpy()\n",
    "        return get_elliptic_matrix_easy(rho, z)\n",
    "    \n",
    "    @property\n",
    "    def inverse_elliptic_operator(self):\n",
    "        return torch.tensor(np.linalg.inv(self.elliptic_operator)).float()\n",
    "    \n",
    "    def invert_buoyancy(self, s, q):\n",
    "        b = self.buoyancy(s, q)\n",
    "        return -torch.matmul(self.inverse_elliptic_operator, b)\n",
    "    \n",
    "    @property\n",
    "    def sz(self):\n",
    "        return  deriv(self.base_state['SLI'], self.center_heights)\n",
    "    \n",
    "    @property\n",
    "    def qz(self):\n",
    "        return  deriv(self.base_state['QT'], self.center_heights)\n",
    "    \n",
    "    def advection_s(self, w):\n",
    "        return -self.sz * w\n",
    "    \n",
    "    def advection_q(self, w):\n",
    "        return -self.qz * w\n",
    "    \n",
    "    \n",
    "    def system_matrix(self, k):\n",
    "        \n",
    "        s, q = self.base_state['SLI'].detach(), self.base_state['QT'].detach()\n",
    "        s.requires_grad = True\n",
    "        q.requires_grad = True\n",
    "        w = torch.zeros(s.size(0), requires_grad=True)\n",
    "        \n",
    "        \n",
    "        a = wave.invert_buoyancy(s, q)\n",
    "        adv = wave.advection_s(w)\n",
    "        \n",
    "        ins  = {'s': s, 'w': w}\n",
    "        jac = dict_jacobian({'w': a, 's': adv}, ins)\n",
    "        \n",
    "        row1 = torch.cat([jac['s']['s'], jac['s']['w']], dim=-1)\n",
    "        row2 = torch.cat([k**2 * jac['w']['s'], jac['w']['w']], dim=-1)\n",
    "\n",
    "        return torch.cat([row1,row2], dim=0).detach().numpy()\n",
    "    \n",
    "    def plot_eigs_spectrum(wave):\n",
    "        k = np.r_[:64] / 160e3\n",
    "        As = [wave.system_matrix(kk) for kk in k]\n",
    "        eigs = np.linalg.eigvals(As)/k[:, np.newaxis]\n",
    "\n",
    "        plt.plot(k, eigs.imag, '.');\n",
    "        \n",
    "        \n",
    "    def get_eigen_pair(self, k):\n",
    "        return np.linalg.eig(self.system_matrix(k))\n",
    "        \n",
    "    def matrices(self):\n",
    "        k = np.r_[:64] / 160e3\n",
    "        As = [self.system_matrix(kk) for kk in k]\n",
    "        return k, As\n",
    "\n",
    "from src.data import open_data\n",
    "from uwnet.thermo import interface_heights\n",
    "from uwnet.jacobian import jacobian, dict_jacobian\n",
    "import numpy as np\n",
    "\n",
    "# get base state\n",
    "\n",
    "def xarray2torch(x):\n",
    "    return torch.tensor(np.asarray(x), requires_grad=True).float()\n",
    "ds = open_data('training')\n",
    "mean = ds.isel(y=32, time=slice(0, 10)).mean(['x', 'time'])\n",
    "\n",
    "\n",
    "def wave_from_xarray(mean):\n",
    "    \"\"\"Wave problem from xarray dataset\"\"\"\n",
    "\n",
    "    base_state = {\n",
    "        'SLI': xarray2torch(mean.SLI),\n",
    "        'QT': xarray2torch(mean.QT)\n",
    "    }\n",
    "\n",
    "    density = xarray2torch(ds.rho).float()\n",
    "    zint = torch.tensor(interface_heights(ds.z), requires_grad=True).float()\n",
    "    zc = xarray2torch(ds.z)\n",
    "\n",
    "    return WaveEq(None, base_state=base_state, density=density, interface_heights=zint,\n",
    "                  center_heights=zc)"
   ]
  },
  {
   "cell_type": "code",
   "execution_count": 6,
   "metadata": {},
   "outputs": [
    {
     "name": "stderr",
     "output_type": "stream",
     "text": [
      "/Users/noah/anaconda/envs/uwnet/lib/python3.7/site-packages/ipykernel_launcher.py:72: RuntimeWarning: invalid value encountered in true_divide\n"
     ]
    },
    {
     "data": {
      "image/png": "[encoded data removed]",
      "text/plain": [
       "<Figure size 432x288 with 1 Axes>"
      ]
     },
     "metadata": {
      "needs_background": "light"
     },
     "output_type": "display_data"
    }
   ],
   "source": [
    "wave = wave_from_xarray(mean)\n",
    "wave.plot_eigs_spectrum()"
   ]
  },
  {
   "cell_type": "code",
   "execution_count": 7,
   "metadata": {},
   "outputs": [],
   "source": [
    "def plot_no_scale(x):\n",
    "    plt.plot(x/np.max(np.abs(x)))"
   ]
  },
  {
   "cell_type": "code",
   "execution_count": 8,
   "metadata": {},
   "outputs": [
    {
     "data": {
      "image/png": "[encoded data removed]",
      "text/plain": [
       "<Figure size 432x288 with 1 Axes>"
      ]
     },
     "metadata": {
      "needs_background": "light"
     },
     "output_type": "display_data"
    }
   ],
   "source": [
    "lam, r = wave.get_eigen_pair(1/160e3)\n",
    "k = 4\n",
    "plot_no_scale(r[:,k].real)\n",
    "plot_no_scale(r[:,k].imag)"
   ]
  },
  {
   "cell_type": "markdown",
   "metadata": {},
   "source": [
    "# Test solution\n",
    "\n",
    "Let's test the results of this code on a simpler example with constant density, and $s= s_0 + c z$.\n",
    "\n",
    "$$s_t + c w = 0$$\n",
    "$$u_t + p_x = 0 $$\n",
    "\n",
    "\n",
    "$S exp(ikx)_t + c W exp(ikx) $\n",
    "\n",
    "$U  exp(ikx)_t + ik P =0 $\n",
    "\n",
    "$ ik U + W_z = 0 $ and $ P_z = s/s_0$\n",
    "\n",
    "$ -ik W_zzt - k^2 P_z = 0 $ \n",
    "\n",
    "$  W_zzt + k^2  s/s0 = 0 $\n",
    "\n",
    "$ w_{zztt} -  k^2  c /s_0  w = 0$ \n",
    "\n",
    "$(\\partial z^2 \\partial t^2 - k^2 \\frac{c}{s_0}) w = 0$\n",
    "\n",
    "$ w= Z(z) A(t)$\n",
    "\n",
    "$ Z'' A'' = k^2 \\frac{c}{s_0} Z A $\n",
    "\n",
    "$w = sin(\\pi z /H)$\n",
    "\n",
    "for this mode:\n",
    "\n",
    "$(-\\pi^2 / H^2 \\partial_t^2 -  k^2 \\frac{c}{s_0}) w = 0$\n",
    "\n",
    "So that (not sure where the sign error came from)\n",
    "\n",
    "$(\\partial_t^2 +  k^2 \\frac{H^2}{\\pi^2} \\frac{c}{s_0}) w = 0$\n",
    "\n",
    "this is a wave equaiton with speed $\\frac{H}{\\pi} \\sqrt{\\frac{c}{s_0}}$"
   ]
  },
  {
   "cell_type": "code",
   "execution_count": 9,
   "metadata": {},
   "outputs": [
    {
     "name": "stderr",
     "output_type": "stream",
     "text": [
      "/Users/noah/anaconda/envs/uwnet/lib/python3.7/site-packages/ipykernel_launcher.py:72: RuntimeWarning: invalid value encountered in true_divide\n"
     ]
    },
    {
     "data": {
      "text/plain": [
       "<matplotlib.lines.Line2D at 0x104de3e10>"
      ]
     },
     "execution_count": 9,
     "metadata": {},
     "output_type": "execute_result"
    },
    {
     "data": {
      "image/png": "[encoded data removed]",
      "text/plain": [
       "<Figure size 432x288 with 1 Axes>"
      ]
     },
     "metadata": {
      "needs_background": "light"
     },
     "output_type": "display_data"
    }
   ],
   "source": [
    "def ones(n):\n",
    "    return torch.ones(n, requires_grad=True)\n",
    "\n",
    "def init_test_wave():\n",
    "    \"\"\"A test wave problem with s = s0 + cz and rho0 = 1.0\"\"\"\n",
    "    n = 10\n",
    "    d= 1000\n",
    "    zc = torch.arange(n).float() * d + d/2\n",
    "    zint = torch.arange(n+1).float() * d\n",
    "\n",
    "    c = .005\n",
    "    s0 = 300\n",
    "    H = zint[-1]\n",
    "\n",
    "    density = ones(n)\n",
    "\n",
    "    base_state = {\n",
    "        'SLI': zc * c +s0,\n",
    "        'QT': ones(n)\n",
    "    }\n",
    "\n",
    "    speed = H / np.pi * np.sqrt(c/s0)\n",
    "\n",
    "    return WaveEq(None, base_state=base_state, density=density, interface_heights=zint,\n",
    "                  center_heights=zc), speed\n",
    "\n",
    "wave, true_speed = init_test_wave()\n",
    "wave.plot_eigs_spectrum()\n",
    "\n",
    "plt.axhline(true_speed)"
   ]
  },
  {
   "cell_type": "markdown",
   "metadata": {},
   "source": [
    "We can see that the theoretical prediction of the wave speed is very close to the actual maximum wave speed, this could easily be accounted for by redefining s0 to be the midpoint in terms of height."
   ]
  }
 ],
 "metadata": {
  "kernelspec": {
   "display_name": "Python 3",
   "language": "python",
   "name": "python3"
  },
  "language_info": {
   "codemirror_mode": {
    "name": "ipython",
    "version": 3
   },
   "file_extension": ".py",
   "mimetype": "text/x-python",
   "name": "python",
   "nbconvert_exporter": "python",
   "pygments_lexer": "ipython3",
   "version": "3.7.3"
  }
 },
 "nbformat": 4,
 "nbformat_minor": 2
}
