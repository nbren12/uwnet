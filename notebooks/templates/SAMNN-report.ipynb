{
 "cells": [
  {
   "cell_type": "code",
   "execution_count": null,
   "metadata": {},
   "outputs": [],
   "source": [
    "# run_path = \"../../data/runs/2018-11-10-model188-khyp1e6-dt15/\"\n",
    "# training_data = \"../../data/processed/training.nc\""
   ]
  },
  {
   "cell_type": "code",
   "execution_count": null,
   "metadata": {},
   "outputs": [],
   "source": [
    "from src.data.sam import SAMRun\n",
    "from uwnet.thermo import vorcitity\n",
    "import holoviews as hv\n",
    "hv.extension('bokeh')\n",
    "plt.style.use('colorblind')\n",
    "\n",
    "%opts Image[width=600, height=400, colorbar=True](cmap='viridis')\n",
    "\n",
    "def plot_2d(da, dynamic=False):\n",
    "    time = da.time\n",
    "    da = da.assign_coords(time=time-time[0])\n",
    "    max = da.time.max('time')\n",
    "    da = da.load().interp(time=np.arange(max))\n",
    "    return hv.Dataset(da).to.image([\"x\", \"y\"], dynamic=dynamic).redim.unit(time=\"day\")\n"
   ]
  },
  {
   "cell_type": "code",
   "execution_count": null,
   "metadata": {},
   "outputs": [],
   "source": [
    "# Load the data\n",
    "run = SAMRun(run_path)\n",
    "ng = xr.open_dataset(training_data).isel(step=0)"
   ]
  },
  {
   "cell_type": "markdown",
   "metadata": {},
   "source": [
    "# Run Namelist"
   ]
  },
  {
   "cell_type": "code",
   "execution_count": null,
   "metadata": {},
   "outputs": [],
   "source": [
    "run.namelist"
   ]
  },
  {
   "cell_type": "markdown",
   "metadata": {},
   "source": [
    "# 2D Fields"
   ]
  },
  {
   "cell_type": "markdown",
   "metadata": {},
   "source": [
    "## Vorticity"
   ]
  },
  {
   "cell_type": "code",
   "execution_count": null,
   "metadata": {},
   "outputs": [],
   "source": [
    "%%opts Image(cmap='RdBu_r')\n",
    "\n",
    "d2d = run.data_2d\n",
    "vort = vorcitity(d2d.U850, d2d.V850)\n",
    "plot_2d(vort)\\\n",
    ".relabel(\"Relative Vort\")\\\n",
    ".redim.range(Vorticity=(-1e-4, 1e-4))"
   ]
  },
  {
   "cell_type": "markdown",
   "metadata": {},
   "source": [
    "## Precipitable Water"
   ]
  },
  {
   "cell_type": "code",
   "execution_count": null,
   "metadata": {},
   "outputs": [],
   "source": [
    "%%opts Image\n",
    "plot_2d(run.data_2d.PW)"
   ]
  },
  {
   "cell_type": "markdown",
   "metadata": {},
   "source": [
    "## Zonal-mean PW vs time"
   ]
  },
  {
   "cell_type": "code",
   "execution_count": null,
   "metadata": {},
   "outputs": [],
   "source": [
    "pw0 = run.data_2d.PW.mean('x')[0]\n",
    "pw_anom = run.data_2d.PW.mean('x') - pw0\n",
    "pw_anom[[10, 50, -1]].plot(hue='time')"
   ]
  },
  {
   "cell_type": "markdown",
   "metadata": {},
   "source": [
    "## PW Eddy (from zonal mean)"
   ]
  },
  {
   "cell_type": "code",
   "execution_count": null,
   "metadata": {},
   "outputs": [],
   "source": [
    "%%opts Image(cmap='RdBu_r')\n",
    "pw_eddy = run.data_2d.PW- run.data_2d.PW.mean(['x', 'time'])\n",
    "plot_2d(pw_eddy).redim.range(PW=(-20,20))\\\n",
    ".relabel(\"Zonal Anomaly of PW\")"
   ]
  },
  {
   "cell_type": "markdown",
   "metadata": {},
   "source": [
    "## P-E"
   ]
  },
  {
   "cell_type": "code",
   "execution_count": null,
   "metadata": {},
   "outputs": [],
   "source": [
    "evap = ng.LHF / 2.51e6 * 86400\n",
    "net_precip = ng.Prec - evap\n",
    "net_precip.name='Net Precipitation'"
   ]
  },
  {
   "cell_type": "code",
   "execution_count": null,
   "metadata": {},
   "outputs": [],
   "source": [
    "net_precip_nn = -(run.data_3d.FQTNN * ng.layer_mass).sum('z')/1000\n",
    "truth_interp = net_precip.interp_like(net_precip_nn)"
   ]
  },
  {
   "cell_type": "code",
   "execution_count": null,
   "metadata": {},
   "outputs": [],
   "source": [
    "plot_2d(net_precip_nn.rename(\"Net Precip\"))"
   ]
  },
  {
   "cell_type": "markdown",
   "metadata": {},
   "source": [
    "# Weather diagnostics"
   ]
  },
  {
   "cell_type": "code",
   "execution_count": null,
   "metadata": {},
   "outputs": [],
   "source": [
    "def rms(x, dim='x'):\n",
    "    return np.sqrt((x**2).mean(dim)) \n",
    "\n",
    "def corr(*args, dim='x'):\n",
    "    x, y = [a-a.mean(dim) for a in args]\n",
    "    sig2_x = (x**2).sum(dim)\n",
    "    sig2_y = (y**2).sum(dim)\n",
    "    return (x*y).sum(dim)/np.sqrt(sig2_x*sig2_y)"
   ]
  },
  {
   "cell_type": "markdown",
   "metadata": {},
   "source": [
    "## P-E Pattern Correlation"
   ]
  },
  {
   "cell_type": "markdown",
   "metadata": {},
   "source": [
    "### y vs time Hovmoller diagram"
   ]
  },
  {
   "cell_type": "code",
   "execution_count": null,
   "metadata": {},
   "outputs": [],
   "source": [
    "patcor = corr(net_precip_nn, truth_interp)\n",
    "\n",
    "patcor.plot(x='time')\n",
    "patcor.plot.contour(x='time', color='k', levels=[.25, .5])\n",
    "plt.title(\"Pattern Correlation of P-E\")"
   ]
  },
  {
   "cell_type": "markdown",
   "metadata": {},
   "source": [
    "## Meridional sector time series\n",
    "\n",
    "Here, we divide the domain into 5 meridional sectors and plot the pattern correlation of P-E in both."
   ]
  },
  {
   "cell_type": "code",
   "execution_count": null,
   "metadata": {},
   "outputs": [],
   "source": [
    "def mean_lat_group(x, bins=5):\n",
    "    dims =['x', 'y']\n",
    "    return x.groupby_bins('y', bins=bins).mean(dims)\n",
    "\n",
    "def corr_bins(*args, dim='x'):\n",
    "    x, y = [a-a.mean(dim) for a in args]\n",
    "    \n",
    "    sig2_x = mean_lat_group(x**2)\n",
    "    sig2_y = mean_lat_group(y**2)\n",
    "    xy = mean_lat_group(x*y)\n",
    "    return xy / np.sqrt(sig2_x * sig2_y)"
   ]
  },
  {
   "cell_type": "code",
   "execution_count": null,
   "metadata": {},
   "outputs": [],
   "source": [
    "corrs = corr_bins(net_precip_nn, truth_interp)"
   ]
  },
  {
   "cell_type": "code",
   "execution_count": null,
   "metadata": {},
   "outputs": [],
   "source": [
    "corrs['time'] = corrs.time - corrs.time[0]\n",
    "corrs.plot(hue='y_bins')"
   ]
  }
 ],
 "metadata": {
  "kernelspec": {
   "display_name": "Python 3",
   "language": "python",
   "name": "python3"
  },
  "language_info": {
   "codemirror_mode": {
    "name": "ipython",
    "version": 3
   },
   "file_extension": ".py",
   "mimetype": "text/x-python",
   "name": "python",
   "nbconvert_exporter": "python",
   "pygments_lexer": "ipython3",
   "version": "3.6.6"
  }
 },
 "nbformat": 4,
 "nbformat_minor": 2
}
