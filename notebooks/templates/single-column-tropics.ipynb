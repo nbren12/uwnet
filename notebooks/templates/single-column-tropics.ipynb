{
 "cells": [
  {
   "cell_type": "code",
   "execution_count": null,
   "metadata": {},
   "outputs": [],
   "source": [
    "%matplotlib inline\n",
    "\n",
    "import xarray as xr\n",
    "import matplotlib.pyplot as plt\n",
    "import os\n",
    "from os.path import abspath\n",
    "import tempfile\n",
    "import torch\n",
    "\n",
    "old_wd = os.getcwd()\n",
    "\n",
    "model_path = abspath(os.getenv(\"MODEL\", \"../../trained_models/5b/a1822be6060e5b83ede0f4/1.pkl\"))\n",
    "data = abspath(os.getenv(\"DATA\", \"../../data/processed/training.nc\"))\n",
    "\n",
    "column_path = \"cols.nc\"\n",
    "\n",
    "cwd = tempfile.mkdtemp()\n",
    "%cd {cwd}"
   ]
  },
  {
   "cell_type": "markdown",
   "metadata": {},
   "source": [
    "# Water budget"
   ]
  },
  {
   "cell_type": "markdown",
   "metadata": {},
   "source": [
    "# Single Column Model"
   ]
  },
  {
   "cell_type": "markdown",
   "metadata": {},
   "source": [
    "Run column model and plot some outputs"
   ]
  },
  {
   "cell_type": "code",
   "execution_count": null,
   "metadata": {},
   "outputs": [],
   "source": [
    "!ncks -O -d x,0,,32 -d y,32 -d time,100.0,120.0  {data} subset.nc\n",
    "%run -m uwnet.columns {model} subset.nc {column_path}\n",
    "cols = xr.open_dataset(column_path)"
   ]
  },
  {
   "cell_type": "code",
   "execution_count": null,
   "metadata": {},
   "outputs": [],
   "source": [
    "qt_levels = np.r_[:11] * 2\n",
    "sl_levels = np.r_[:11] * 10 + 270"
   ]
  },
  {
   "cell_type": "code",
   "execution_count": null,
   "metadata": {},
   "outputs": [],
   "source": [
    "cols.QT.squeeze().plot.contourf(y='z', levels=qt_levels, col='x', col_wrap=3)"
   ]
  },
  {
   "cell_type": "code",
   "execution_count": null,
   "metadata": {},
   "outputs": [],
   "source": [
    "cols.SLI.squeeze().plot.contourf(y='z', levels=sl_levels,  col='x', col_wrap=3)"
   ]
  },
  {
   "cell_type": "code",
   "execution_count": null,
   "metadata": {},
   "outputs": [],
   "source": [
    "cols.FSLINN.squeeze().plot(y='z',  col='x', col_wrap=3)"
   ]
  },
  {
   "cell_type": "code",
   "execution_count": null,
   "metadata": {},
   "outputs": [],
   "source": [
    "cols.FQTNN.squeeze().plot(y='z',  col='x', col_wrap=3)"
   ]
  },
  {
   "cell_type": "markdown",
   "metadata": {},
   "source": [
    "# Clean up"
   ]
  },
  {
   "cell_type": "code",
   "execution_count": null,
   "metadata": {},
   "outputs": [],
   "source": [
    "%cd {old_wd}\n",
    "!rm -rf {cwd}"
   ]
  }
 ],
 "metadata": {
  "kernelspec": {
   "display_name": "Python 3",
   "language": "python",
   "name": "python3"
  },
  "language_info": {
   "codemirror_mode": {
    "name": "ipython",
    "version": 3
   },
   "file_extension": ".py",
   "mimetype": "text/x-python",
   "name": "python",
   "nbconvert_exporter": "python",
   "pygments_lexer": "ipython3",
   "version": "3.6.6"
  }
 },
 "nbformat": 4,
 "nbformat_minor": 2
}
