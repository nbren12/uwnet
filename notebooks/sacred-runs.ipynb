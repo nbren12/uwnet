{
 "cells": [
  {
   "cell_type": "code",
   "execution_count": null,
   "metadata": {},
   "outputs": [],
   "source": [
    "import ipywidgets\n",
    "import pandas as pd"
   ]
  },
  {
   "cell_type": "code",
   "execution_count": null,
   "metadata": {},
   "outputs": [],
   "source": [
    "import pymongo\n",
    "from bson.objectid import ObjectId"
   ]
  },
  {
   "cell_type": "code",
   "execution_count": null,
   "metadata": {},
   "outputs": [],
   "source": [
    "client = pymongo.MongoClient()\n",
    "\n",
    "database = 'uwnet'\n",
    "run_collection_name = 'runs'\n",
    "metric_collection_name = 'metrics'"
   ]
  },
  {
   "cell_type": "code",
   "execution_count": null,
   "metadata": {},
   "outputs": [],
   "source": [
    "client[database].list_collection_names()"
   ]
  },
  {
   "cell_type": "code",
   "execution_count": null,
   "metadata": {},
   "outputs": [],
   "source": [
    "collection = client[database][run_collection_name]\n",
    "\n",
    "metrics = client[database][metric_collection_name]d"
   ]
  },
  {
   "cell_type": "markdown",
   "metadata": {},
   "source": [
    "this is what one record looks like"
   ]
  },
  {
   "cell_type": "code",
   "execution_count": null,
   "metadata": {},
   "outputs": [],
   "source": [
    "runs_with_artifacts = collection\\\n",
    ".find({\"$where\": \"this.artifacts.length > 0\"})\\\n",
    ".sort([(\"start_time\", pymongo.DESCENDING)])\n",
    "\n",
    "run = runs_with_artifacts.next()\n",
    "\n",
    "# Drop all entries without artifacts\n",
    "collection.find({\"$where\": \"this.artifacts.length == 0\", 'status': {\"$ne\": \"RUNNING\"}})\n",
    "collection.delete_many({\"$where\": \"this.artifacts.length == 0\", 'status': {\"$ne\": \"RUNNING\"}})\n",
    "\n",
    "metrics_dict = {m['name']: ObjectId(m['id']) for m in run['info']['metrics']}\n",
    "\n",
    "loss = metrics.find_one({'_id': metrics_dict['loss']})\n",
    "loss_series = pd.Series(loss['values'], index=loss['steps'])\n",
    "\n",
    "loss_series.plot()"
   ]
  }
 ],
 "metadata": {
  "kernelspec": {
   "display_name": "Python 3",
   "language": "python",
   "name": "python3"
  },
  "language_info": {
   "codemirror_mode": {
    "name": "ipython",
    "version": 3
   },
   "file_extension": ".py",
   "mimetype": "text/x-python",
   "name": "python",
   "nbconvert_exporter": "python",
   "pygments_lexer": "ipython3",
   "version": "3.6.6"
  }
 },
 "nbformat": 4,
 "nbformat_minor": 2
}
