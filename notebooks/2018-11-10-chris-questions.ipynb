{
 "cells": [
  {
   "cell_type": "code",
   "execution_count": null,
   "metadata": {},
   "outputs": [],
   "source": [
    "data_paths = {\n",
    "    'Micro': \"../data/runs/2018-11-10-micro-rad-khype1e6/\",\n",
    "    'NNOrig': \"../data/runs/2018-11-09-model188-equilibriation-penalty\",\n",
    "    'NN': \"../data/runs/2018-11-10-model188-khyp1e6-rerun/\"\n",
    "}\n",
    "\n",
    "ng_path = \"../data/processed/training.nc\""
   ]
  },
  {
   "cell_type": "code",
   "execution_count": null,
   "metadata": {},
   "outputs": [],
   "source": [
    "from toolz import valmap        \n",
    "from src.data.sam import SAMRun\n",
    "from uwnet.thermo import compute_q2\n",
    "import xarray as xr\n",
    "import holoviews as hv\n",
    "hv.extension('bokeh')\n",
    "%opts Image[width=600, height=400, colorbar=True](cmap='viridis')\n",
    "%opts Curve[width=400]\n",
    "\n",
    "def plot_xy(da, dynamic=True):\n",
    "    return hv.Dataset(da).to.image([\"x\", \"y\"], dynamic=dynamic)"
   ]
  },
  {
   "cell_type": "code",
   "execution_count": null,
   "metadata": {},
   "outputs": [],
   "source": [
    "data_paths = {\n",
    "    'Micro': \"../data/runs/2018-11-10-micro-rad-khype1e6/\",\n",
    "    'NNOrig': \"../data/runs/2018-11-09-model188-equilibriation-penalty\",\n",
    "    'NN': \"../data/runs/2018-11-10-model188-khyp1e6-rerun/\"\n",
    "}\n",
    "\n",
    "ng_path = \"../data/processed/training.nc\"\n",
    "ngaqua =  xr.open_dataset(ng_path).isel(step=0)"
   ]
  },
  {
   "cell_type": "code",
   "execution_count": null,
   "metadata": {},
   "outputs": [],
   "source": [
    "runs = valmap(SAMRun, data_paths)\n",
    "ngaqua =  xr.open_dataset(ng_path).isel(step=0)"
   ]
  },
  {
   "cell_type": "markdown",
   "metadata": {},
   "source": [
    "# Net Precip"
   ]
  },
  {
   "cell_type": "markdown",
   "metadata": {},
   "source": [
    "## Spinup"
   ]
  },
  {
   "cell_type": "code",
   "execution_count": null,
   "metadata": {},
   "outputs": [],
   "source": [
    "def get_first_steps(ds):\n",
    "    first_step = ds.isel(time=slice(1,4))\n",
    "    first_step['time'] = (first_step.time-first_step.time[0])*86400\n",
    "    first_step.time.attrs['units'] = 's'\n",
    "    return first_step\n",
    "\n",
    "ds = runs['NN'].data_3d\n",
    "first_step = get_first_steps(ds)\n",
    "first_step.FQTNN.mean(['x']).plot(col='time')"
   ]
  },
  {
   "cell_type": "markdown",
   "metadata": {},
   "source": [
    "Here is a comparision of P-E over these first few time steps:"
   ]
  },
  {
   "cell_type": "code",
   "execution_count": null,
   "metadata": {},
   "outputs": [],
   "source": [
    "net_precip_nn = -(ngaqua.layer_mass * ds.FQTNN).sum('z')/1000\n",
    "net_precip_nn['time'] = (net_precip_nn.time -net_precip_nn.time[0])*24\n",
    "net_precip_nn[[1, 5, 6, 7]].mean('x').plot(hue='time')\n",
    "plt.title(\"Zonal mean P-E (time in hours)\");"
   ]
  },
  {
   "cell_type": "markdown",
   "metadata": {},
   "source": [
    "## Comparison to NG-Aqua"
   ]
  },
  {
   "cell_type": "markdown",
   "metadata": {},
   "source": [
    "Let's open the NGAqua data and plot Q2"
   ]
  },
  {
   "cell_type": "code",
   "execution_count": null,
   "metadata": {},
   "outputs": [],
   "source": [
    "from uwnet.thermo import compute_q2\n",
    "\n",
    "q2 = compute_q2(ngaqua.isel(time=slice(0, 2))).dropna('time')"
   ]
  },
  {
   "cell_type": "markdown",
   "metadata": {},
   "source": [
    "Here is thea actual mean Q2 in the first tiem step"
   ]
  },
  {
   "cell_type": "code",
   "execution_count": null,
   "metadata": {},
   "outputs": [],
   "source": [
    "q2.mean('x').plot()"
   ]
  },
  {
   "cell_type": "markdown",
   "metadata": {},
   "source": [
    "Here is a comparision of the zonally averaged net precipitation."
   ]
  },
  {
   "cell_type": "code",
   "execution_count": null,
   "metadata": {},
   "outputs": [],
   "source": [
    "q2_int = -(ngaqua.layer_mass * q2).sum('z')/1000\n",
    "fqtnn_int = -(ngaqua.layer_mass * first_step.FQTNN).sum('z')/1000\n",
    "\n",
    "q2_int.mean(['x']).plot(label='NGaqua')\n",
    "fqtnn_int[0].mean('x').plot(label='NN-prediction')\n",
    "plt.title(\"Zonal mean of Net Precip\")\n",
    "plt.legend()"
   ]
  },
  {
   "cell_type": "markdown",
   "metadata": {},
   "source": [
    "There is some systematic difference, but overally it is too noisy to tell from the first time step"
   ]
  },
  {
   "cell_type": "markdown",
   "metadata": {},
   "source": [
    "# Spin up of vertical velocity"
   ]
  },
  {
   "cell_type": "code",
   "execution_count": null,
   "metadata": {},
   "outputs": [],
   "source": [
    "plot_data = runs['NN'].data_3d.W[4::3, 8]\n",
    "dmap = plot_xy(plot_data, dynamic=False)\\\n",
    "           .relabel(f\"W at z={float(plot_data.z)}\")\n",
    "dmap"
   ]
  }
 ],
 "metadata": {
  "kernelspec": {
   "display_name": "Python 3",
   "language": "python",
   "name": "python3"
  },
  "language_info": {
   "codemirror_mode": {
    "name": "ipython",
    "version": 3
   },
   "file_extension": ".py",
   "mimetype": "text/x-python",
   "name": "python",
   "nbconvert_exporter": "python",
   "pygments_lexer": "ipython3",
   "version": "3.6.6"
  }
 },
 "nbformat": 4,
 "nbformat_minor": 2
}
