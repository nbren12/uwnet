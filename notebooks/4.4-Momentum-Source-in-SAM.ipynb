{
 "cells": [
  {
   "cell_type": "markdown",
   "metadata": {},
   "source": [
    "I ran a simulation with parametrized sources of Q1 Q2 and Q3, but it died after less than 1 day of simulation. This notebook explores this model pathology."
   ]
  },
  {
   "cell_type": "code",
   "execution_count": null,
   "metadata": {},
   "outputs": [],
   "source": [
    "%matplotlib inline\n",
    "import xarray as xr\n",
    "import holoviews as hv\n",
    "hv.extension('bokeh')\n",
    "\n",
    "from os.path import join\n",
    "\n",
    "\n",
    "def resample(src, onto):\n",
    "    return src.sel(time=onto.time, method='nearest')\\\n",
    "        .assign_coords(x=onto.x, y=onto.y, time=onto.time)\n"
   ]
  },
  {
   "cell_type": "code",
   "execution_count": null,
   "metadata": {},
   "outputs": [],
   "source": [
    "TRAINING = \"../data/processed/training.nc\"\n",
    "no_q3_path = \"../models/17/test\"\n",
    "train_data = xr.open_dataset(TRAINING)\n",
    "\n",
    "\n",
    "data_3d = xr.open_mfdataset(\"../data/runs/2018-10-05-q1_q2_and_q3/OUT_3D/*.nc\")\n",
    "data_2d = xr.open_mfdataset(\"../data/runs/2018-10-05-q1_q2_and_q3/OUT_2D/*.nc\")\n",
    "\n",
    "\n",
    "train_data_resampled = resample(train_data, data_3d)\n",
    "\n",
    "data_no_q3_3d = resample(xr.open_mfdataset(join(no_q3_path, \"OUT_3D\", \"*.nc\")), data_3d)"
   ]
  },
  {
   "cell_type": "code",
   "execution_count": null,
   "metadata": {},
   "outputs": [],
   "source": [
    "data_3d.W[:,:,32].plot(col='time')"
   ]
  },
  {
   "cell_type": "code",
   "execution_count": null,
   "metadata": {},
   "outputs": [],
   "source": [
    "data_2d.W500.plot(col='time', col_wrap=4)"
   ]
  },
  {
   "cell_type": "markdown",
   "metadata": {},
   "source": [
    "There are clearly some problems with the vertical velocity near the N/S boundaries. Perhaps I should turn off the neural networks for momentum in those regions. How do the results look outside of these regions?"
   ]
  },
  {
   "cell_type": "code",
   "execution_count": null,
   "metadata": {},
   "outputs": [],
   "source": [
    "data_2d.W500.isel(y=slice(3,-3)).plot(col='time', col_wrap=5)"
   ]
  },
  {
   "cell_type": "markdown",
   "metadata": {},
   "source": [
    "Indeed, the results look reasonable in the center of the domain. Did the structure of zonal winds improve there? In this cell I plot the difference\n",
    "\n",
    "$$ \\bar{u} - \\bar{u}_{OBS} $$."
   ]
  },
  {
   "cell_type": "code",
   "execution_count": null,
   "metadata": {},
   "outputs": [],
   "source": [
    "%%opts Curve[invert_axes=True]\n",
    "\n",
    "u_equator = data_3d.U.isel(y=32).mean('x')\n",
    "u_eq_obs = train_data_resampled.U.isel(y=32).mean('x')\n",
    "\n",
    "plotme = xr.Dataset({'NN': u_equator, \n",
    "                     'NoQ3': data_no_q3_3d.U.isel(y=32).mean('x')}).to_array(dim='run', name='U')\n",
    "\n",
    "lay = hv.Dataset(plotme-u_eq_obs).to.curve(\"z\").overlay(\"run\").layout().cols(2)\n",
    "lay.redim.range(U=(-2,2))"
   ]
  },
  {
   "cell_type": "markdown",
   "metadata": {},
   "source": [
    "The zonal mean wind profiles seem OK, but not great."
   ]
  },
  {
   "cell_type": "code",
   "execution_count": null,
   "metadata": {},
   "outputs": [],
   "source": [
    "%%opts Curve[invert_axes=True]\n",
    "\n",
    "lay.redim.range(U=(-2, 2), z=(0,4000))"
   ]
  },
  {
   "cell_type": "markdown",
   "metadata": {},
   "source": [
    "When we zoom in on the lower troposphere, we see that the additional momentum source greatly reduces the difference in the zonal means compared to the NoQ3 scheme."
   ]
  },
  {
   "cell_type": "markdown",
   "metadata": {},
   "source": [
    "# Conclusions\n",
    "\n",
    "To stabilize the simulation, I will not apply the neural network within 3 grid points of the north south boundary."
   ]
  }
 ],
 "metadata": {
  "kernelspec": {
   "display_name": "Python 3",
   "language": "python",
   "name": "python3"
  },
  "language_info": {
   "codemirror_mode": {
    "name": "ipython",
    "version": 3
   },
   "file_extension": ".py",
   "mimetype": "text/x-python",
   "name": "python",
   "nbconvert_exporter": "python",
   "pygments_lexer": "ipython3",
   "version": "3.6.6"
  }
 },
 "nbformat": 4,
 "nbformat_minor": 2
}
