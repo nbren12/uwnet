{
 "cells": [
  {
   "cell_type": "markdown",
   "metadata": {},
   "source": [
    "# Connection betwen variablity in PW and expected precipitation\n",
    "\n",
    "Let $P$ be the precipitaiton and $Q$ be precipitable water. Then, the expected value of precip is\n",
    "$$ E[P] = E_Q E_{P|Q} P.$$\n",
    "\n",
    "Her, $E_{P|Q} P = f(Q)$ is a deterministic function of $Q$, which will assume remains unchanged with the distribution of $Q$. This would be the case for an ML parameterization trained on one dataset and applied to another. There is a large literature showing that mean precip depends exponentially on PW (or column relative humidity).\n",
    "\n"
   ]
  },
  {
   "cell_type": "markdown",
   "metadata": {},
   "source": [
    "## Load data"
   ]
  },
  {
   "cell_type": "code",
   "execution_count": null,
   "metadata": {},
   "outputs": [],
   "source": [
    "from src.data import open_data, runs\n",
    "from uwnet.xarray_interface import dataset_to_torch_dict\n",
    "from torch.autograd import grad\n",
    "import seaborn as sns\n",
    "\n",
    "def select_tropics(x):\n",
    "    return x.isel(y=slice(28,34))\n",
    "\n",
    "\n",
    "model  = torch.load(\"../models/268/5.pkl\")\n",
    "ds = open_data('training')\n",
    "pw_ng = (ds.layer_mass * ds.QT).sum('z')/1000"
   ]
  },
  {
   "cell_type": "markdown",
   "metadata": {},
   "source": [
    "## Compute relationship"
   ]
  },
  {
   "cell_type": "code",
   "execution_count": null,
   "metadata": {},
   "outputs": [],
   "source": [
    "ds_with_pw = select_tropics(ds.assign(PW=pw_ng))\n",
    "bins = pw_ng.quantile(np.linspace(0, 1, 200)).values"
   ]
  },
  {
   "cell_type": "code",
   "execution_count": null,
   "metadata": {},
   "outputs": [],
   "source": [
    "prec_df = ds_with_pw[['Prec', 'PW']].to_dataframe()\n",
    "cut = pd.cut(prec_df.PW, list(bins))\n",
    "bin_means = prec_df.groupby(by=cut).mean()"
   ]
  },
  {
   "cell_type": "code",
   "execution_count": null,
   "metadata": {},
   "outputs": [],
   "source": [
    "plt.plot(bin_means.PW, bin_means.Prec)"
   ]
  },
  {
   "cell_type": "markdown",
   "metadata": {},
   "source": [
    "Let's compute the expected precipitation using the conditional expectation formula above."
   ]
  },
  {
   "cell_type": "code",
   "execution_count": null,
   "metadata": {},
   "outputs": [],
   "source": [
    "def expected_precip(count):\n",
    "    return (count * bin_means.Prec).sum()/count.sum()\n",
    "\n",
    "\n",
    "def get_bin_counts(pw):\n",
    "    return pw.groupby(pd.cut(pw, bins)).count()\n",
    "\n",
    "print(\"Mean precipitation from bin calculation\", expected_precip(get_bin_counts(prec_df.PW)))\n",
    "print(\"Mean precipitation from average\", float(prec_df.Prec.mean()))"
   ]
  },
  {
   "cell_type": "markdown",
   "metadata": {},
   "source": [
    "We can see that the estimates of mean precip are nearly identical."
   ]
  },
  {
   "cell_type": "markdown",
   "metadata": {},
   "source": [
    "## Nudged Run"
   ]
  },
  {
   "cell_type": "markdown",
   "metadata": {},
   "source": [
    "Now let's load the nudged run"
   ]
  },
  {
   "cell_type": "code",
   "execution_count": null,
   "metadata": {},
   "outputs": [],
   "source": [
    "nudge_2d = runs['nudge'].data_2d[['PW', 'NPNN']].pipe(select_tropics).rename({'NPNN': 'Prec'}).to_dataframe()"
   ]
  },
  {
   "cell_type": "code",
   "execution_count": null,
   "metadata": {},
   "outputs": [],
   "source": [
    "nudge_2d.PW.plot(kind='kde')\n",
    "prec_df.PW.plot(kind='kde')\n",
    "\n",
    "plt.legend(['Nudge', 'NG-Aqua'])"
   ]
  },
  {
   "cell_type": "markdown",
   "metadata": {},
   "source": [
    "We can see the distribution of PW in the nudged run is shifted to the left has much less variance."
   ]
  },
  {
   "cell_type": "code",
   "execution_count": null,
   "metadata": {},
   "outputs": [],
   "source": [
    "print(\"Predicted Mean precipitation from nudged PW\", expected_precip(get_bin_counts(nudge_2d.PW)))\n",
    "print(\"Mean precipitation from average\", float(nudge_2d.Prec.mean()))"
   ]
  },
  {
   "cell_type": "markdown",
   "metadata": {},
   "source": [
    "We see that most of the change in precipitation between the two runs is due to the shift changes in the distribution of PW. Intriguingly, there is only a small difference in the mean PW of these two:"
   ]
  },
  {
   "cell_type": "code",
   "execution_count": null,
   "metadata": {},
   "outputs": [],
   "source": [
    "print(\"Mean PW in nudging\", nudge_2d.PW.mean())\n",
    "print(\"Mean PW in NG-Aqua\", prec_df.PW.mean())"
   ]
  },
  {
   "cell_type": "markdown",
   "metadata": {},
   "source": [
    "This is less than 2% difference"
   ]
  },
  {
   "cell_type": "code",
   "execution_count": null,
   "metadata": {},
   "outputs": [],
   "source": [
    "print(\"Mean PW in nudging\", nudge_2d.PW.var())\n",
    "print(\"Mean PW in NG-Aqua\", prec_df.PW.var())"
   ]
  },
  {
   "cell_type": "markdown",
   "metadata": {},
   "source": [
    "On the other hand, there is a much larger relative decrease in the variance."
   ]
  },
  {
   "cell_type": "markdown",
   "metadata": {},
   "source": [
    "Tropical variance as a function of time in the NG-Aqua simulation"
   ]
  },
  {
   "cell_type": "markdown",
   "metadata": {},
   "source": [
    "# Evolution of variance in nudged and debiased runs"
   ]
  },
  {
   "cell_type": "code",
   "execution_count": null,
   "metadata": {},
   "outputs": [],
   "source": [
    "pw_d = runs['debias'].data_2d.PW.sel(time=slice(100,110))\n",
    "pw_n = runs['nudge'].data_2d.PW.sel(time=slice(100,110))\n",
    "\n",
    "ds = xr.concat([pw_d, pw_n], ['debias', 'nudge'])\n",
    "\n",
    "\n",
    "df = select_tropics(ds).mean(['x', 'y']).to_dataframe().reset_index()\n",
    "df_var = select_tropics(ds).var(['x', 'y']).to_dataframe().reset_index()\n",
    "\n",
    "\n",
    "sns.FacetGrid(df, hue=\"concat_dim\").map(plt.plot, \"time\", \"PW\").add_legend()\n",
    "\n",
    "plt.figure()\n",
    "sns.FacetGrid(df_var, hue=\"concat_dim\").map(plt.plot, \"time\", \"PW\").add_legend()"
   ]
  },
  {
   "cell_type": "markdown",
   "metadata": {},
   "source": [
    "In the nudged run, the mean decreases quickly, probably owing to the biased neural network scheme. In both runs, the variance is drastically lower."
   ]
  },
  {
   "cell_type": "code",
   "execution_count": null,
   "metadata": {},
   "outputs": [],
   "source": [
    "from scipy import signal\n",
    "\n",
    "def periodogram_x(pw):\n",
    "\n",
    "    x = pw.values\n",
    "    f, x = signal.periodogram(x, axis=-1, fs=1/160)\n",
    "    Pxx_mean = x.mean(axis=(0,1))\n",
    "    plt.loglog(f, Pxx_mean)\n",
    "\n",
    "\n",
    "def select_tropics(x):\n",
    "    return x.isel(y=slice(28,34)).isel(time=slice(100, 110))\n",
    "\n",
    "\n",
    "\n",
    "\n",
    "\n",
    "periodogram_x(ds_with_pw.PW)\n",
    "periodogram_x(select_tropics(runs['nudge'].data_2d.PW))\n",
    "periodogram_x(select_tropics(runs['debias'].data_2d.PW))\n",
    "plt.gca().set_ylim(bottom=1e0, top=1e6)\n",
    "plt.xlabel('f (1/km)')\n",
    "plt.legend(['NG-Aqua', 'Nudge', 'Debias'])"
   ]
  },
  {
   "cell_type": "markdown",
   "metadata": {},
   "source": [
    "This shows that the variablity is higher at all scales in the NG-Aqua simulation,  but especially small scales."
   ]
  }
 ],
 "metadata": {
  "kernelspec": {
   "display_name": "Python 3",
   "language": "python",
   "name": "python3"
  },
  "language_info": {
   "codemirror_mode": {
    "name": "ipython",
    "version": 3
   },
   "file_extension": ".py",
   "mimetype": "text/x-python",
   "name": "python",
   "nbconvert_exporter": "python",
   "pygments_lexer": "ipython3",
   "version": "3.6.6"
  }
 },
 "nbformat": 4,
 "nbformat_minor": 2
}
