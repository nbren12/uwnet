{
 "cells": [
  {
   "cell_type": "markdown",
   "metadata": {},
   "source": [
    "It turns out that training Q3 on the full dataset significantly helps performance."
   ]
  },
  {
   "cell_type": "markdown",
   "metadata": {},
   "source": [
    "# Imports, Functions and Data Loading"
   ]
  },
  {
   "cell_type": "code",
   "execution_count": null,
   "metadata": {},
   "outputs": [],
   "source": [
    "from toolz import pipe\n",
    "import uwnet.interface\n",
    "from uwnet.model import MLP\n",
    "import xarray as xr\n",
    "\n",
    "from uwnet.interface import call_with_xr as forward_xr\n",
    "\n",
    "# define paths for data and nn model\n",
    "train_data_path = \"../data/processed/2018-10-02-ngaqua-subset.nc\"\n",
    "model_path = \"../models/4/9.pkl\"\n",
    "\n",
    "# load the model and training data\n",
    "data = xr.open_dataset(train_data_path)\n",
    "# mlp = MLP.from_path(model_path)"
   ]
  },
  {
   "cell_type": "markdown",
   "metadata": {},
   "source": [
    "# Analysis"
   ]
  },
  {
   "cell_type": "code",
   "execution_count": null,
   "metadata": {},
   "outputs": [],
   "source": [
    "# Visualization imports\n",
    "\n",
    "from ipywidgets import interact, FloatSlider\n",
    "from gnl.colorblind import colorblind_matplotlib\n",
    "colorblind_matplotlib()"
   ]
  },
  {
   "cell_type": "code",
   "execution_count": null,
   "metadata": {},
   "outputs": [],
   "source": [
    "def load_and_predict(model_path, data, **kw):\n",
    "    mlp = MLP.from_path(model_path)\n",
    "    return forward_xr(mlp, data, **kw)\n",
    "\n",
    "\n",
    "def plot_mean_drift(prediction):\n",
    "\n",
    "    fu_mean = prediction.FU.mean(['x', 'time','y'])\n",
    "    funn_mean = prediction.FUNN.mean(['x', 'time','y'])\n",
    "    du_obs = (prediction.UOBS[-1]  - prediction.UOBS[0])/(prediction.time[-1]-prediction.time[0])/86400\n",
    "    du_obs = du_obs.mean(['x', 'y'])\n",
    "\n",
    "    plt.figure(figsize=(3,6))\n",
    "\n",
    "    fu_mean.plot(y='z', label='FU')\n",
    "    funn_mean.plot(y='z', label='FUNN')\n",
    "    (funn_mean+fu_mean).plot(label='FU-FUNN', y='z')\n",
    "    (du_obs).plot(label=r'$\\Delta U / \\Delta t$', y='z')\n",
    "\n",
    "    a = 2e-5\n",
    "    plt.xlim([-a, a])\n",
    "    plt.legend()\n",
    "\n",
    "def plot_mean_drift_file(model_path):\n",
    "    model = MLP.from_path(model_path)\n",
    "    diagnosis = forward_xr(model, data)\n",
    "    plot_mean_drift(diagnosis)"
   ]
  },
  {
   "cell_type": "code",
   "execution_count": null,
   "metadata": {},
   "outputs": [],
   "source": [
    "model_path = \"../models/18/4.pkl\"\n",
    "diagnosis = load_and_predict(model_path, data)\n",
    "prediction = load_and_predict(model_path, data, n=1)"
   ]
  },
  {
   "cell_type": "code",
   "execution_count": null,
   "metadata": {},
   "outputs": [],
   "source": [
    "prediction.U.isel(x=0).plot(x='time')"
   ]
  },
  {
   "cell_type": "markdown",
   "metadata": {},
   "source": [
    "## Dissipation"
   ]
  },
  {
   "cell_type": "code",
   "execution_count": null,
   "metadata": {},
   "outputs": [],
   "source": [
    "dims = ['x', 'time']\n",
    "dissip_x = (prediction.FUNN * prediction.U).mean(dims)/(prediction.U**2).mean(dims)\n",
    "\n",
    "\n",
    "plt.plot(dissip_x.values*86400)\n",
    "plt.grid()\n",
    "plt.xlabel('Vertical grid number')"
   ]
  },
  {
   "cell_type": "markdown",
   "metadata": {},
   "source": [
    "The model is mostly damping in the in the free troposphere, but it is amplifying in the lowest few grid points."
   ]
  },
  {
   "cell_type": "code",
   "execution_count": null,
   "metadata": {},
   "outputs": [],
   "source": [
    "\n",
    "plt.plot(1/np.abs(dissip_x)/86400)\n",
    "plt.grid()\n",
    "ax = plt.gca()\n",
    "\n",
    "ticks = np.arange(0, dissip_x.shape[0], 5)\n",
    "ax.set_xticks(ticks)\n",
    "ax.set_xticklabels(dissip_x.z[ticks].values)\n",
    "plt.xlabel('Height')\n",
    "plt.ylabel('Damping/growth time-scale')"
   ]
  },
  {
   "cell_type": "markdown",
   "metadata": {},
   "source": [
    "The time scales vary from around 1 day in the boundary layer to around 20 in the free troposphere."
   ]
  },
  {
   "cell_type": "markdown",
   "metadata": {},
   "source": [
    "## Drift in Mean state"
   ]
  },
  {
   "cell_type": "code",
   "execution_count": null,
   "metadata": {},
   "outputs": [],
   "source": [
    "plot_mean_drift(prediction)"
   ]
  },
  {
   "cell_type": "markdown",
   "metadata": {},
   "source": [
    "Is this problem also in the diagnosis?"
   ]
  },
  {
   "cell_type": "markdown",
   "metadata": {},
   "source": [
    "# Analysis\n",
    "\n",
    "Why are these biases happening? Could it be something with the loss function?"
   ]
  },
  {
   "cell_type": "code",
   "execution_count": null,
   "metadata": {},
   "outputs": [],
   "source": [
    "def get_mom_budget(data):\n",
    "    dt = 3*3600\n",
    "    STOR= data.U.diff('time')/dt\n",
    "    return  xr.Dataset(dict(\n",
    "        FU=data.FU,\n",
    "        FUNN=data.FUNN\n",
    "    )).assign(STOR=STOR, Q3=STOR-data.FU)\n",
    "\n",
    "    \n",
    "    \n",
    "#     data.FUNN.plot()\n",
    "# path = \"../models/11/13.pkl\"\n",
    "\n",
    "diagnosis = forward_xr(MLP.from_path(model_path), data)\n",
    "mom = get_mom_budget(diagnosis)"
   ]
  },
  {
   "cell_type": "code",
   "execution_count": null,
   "metadata": {},
   "outputs": [],
   "source": [
    "mom.to_array(name='SRC').isel(x=0).plot(col='variable', col_wrap=1, aspect=4, size=2, x='time')"
   ]
  }
 ],
 "metadata": {
  "kernelspec": {
   "display_name": "Python 3",
   "language": "python",
   "name": "python3"
  },
  "language_info": {
   "codemirror_mode": {
    "name": "ipython",
    "version": 3
   },
   "file_extension": ".py",
   "mimetype": "text/x-python",
   "name": "python",
   "nbconvert_exporter": "python",
   "pygments_lexer": "ipython3",
   "version": "3.6.6"
  }
 },
 "nbformat": 4,
 "nbformat_minor": 2
}
