{
 "cells": [
  {
   "cell_type": "markdown",
   "metadata": {},
   "source": [
    "In this notebook, I show the results of using the equilibrium penalized network in SAM. Following some previous work, I am not applying the neural networks output within a few hundred kilometers of the poleward boundaries."
   ]
  },
  {
   "cell_type": "code",
   "execution_count": null,
   "metadata": {},
   "outputs": [],
   "source": [
    "import holoviews as hv\n",
    "hv.extension('bokeh')\n",
    "%opts Image[width=600, height=400, colorbar=True](cmap='viridis')\n",
    "%opts Curve[width=400]"
   ]
  },
  {
   "cell_type": "markdown",
   "metadata": {},
   "source": [
    "# Loading the data"
   ]
  },
  {
   "cell_type": "code",
   "execution_count": null,
   "metadata": {},
   "outputs": [],
   "source": [
    "run_path = \"../data/runs/2018-11-09-model188-equilibriation-penalty\"\n",
    "files_3d = f\"{run_path}/OUT_3D/*.nc\"\n",
    "files_2d = f\"{run_path}/OUT_2D/CASE__1.2Dbin_1.nc\"\n",
    "\n",
    "ds_2d =xr.open_dataset(files_2d)\n",
    "ds = xr.open_mfdataset(files_3d)"
   ]
  },
  {
   "cell_type": "markdown",
   "metadata": {},
   "source": [
    "# Some basic plots"
   ]
  },
  {
   "cell_type": "markdown",
   "metadata": {},
   "source": [
    "Here is the precipitable water:"
   ]
  },
  {
   "cell_type": "code",
   "execution_count": null,
   "metadata": {},
   "outputs": [],
   "source": [
    "%%opts Image{+framewise}\n",
    "hv.Dataset(ds_2d.PW[::20]).to.image([\"x\", \"y\"]).redim.range(PW=(0, 50))"
   ]
  },
  {
   "cell_type": "markdown",
   "metadata": {},
   "source": [
    "The PW time series is actually pretty promising, but it does diverge around day 112. for some reason."
   ]
  },
  {
   "cell_type": "markdown",
   "metadata": {},
   "source": [
    "We can see this in the preciptable water time series"
   ]
  },
  {
   "cell_type": "code",
   "execution_count": null,
   "metadata": {},
   "outputs": [],
   "source": [
    "%%opts Curve[logy=True]\n",
    "hv.Curve(ds_2d.PW[:,32,0])"
   ]
  },
  {
   "cell_type": "markdown",
   "metadata": {},
   "source": [
    "And the W500 time series diverges:"
   ]
  },
  {
   "cell_type": "code",
   "execution_count": null,
   "metadata": {},
   "outputs": [],
   "source": [
    "hv.Curve(ds_2d.W500[:,32,0])"
   ]
  },
  {
   "cell_type": "markdown",
   "metadata": {},
   "source": [
    "I don't think the neural network is causing this problem. Here is the $Q_2$ field at day 112.8, which is right before:"
   ]
  },
  {
   "cell_type": "code",
   "execution_count": null,
   "metadata": {},
   "outputs": [],
   "source": [
    "time_divergence = 112.88\n",
    "\n",
    "def plot_images_at_time(da, time):\n",
    "    opts = \"Image{+framewise}\"\n",
    "    return hv.Dataset(da.sel(time=time, method='nearest')).to.image([\"x\", \"y\"]).opts(opts)\n",
    "\n",
    "plot_images_at_time(ds.FQTNN[:,:20:2], time_divergence)"
   ]
  },
  {
   "cell_type": "markdown",
   "metadata": {},
   "source": [
    "There is a large cluster of very strong drying around 10000 km by 6000 km, but this is not that unusally in the data. Notice that $Q_2$ is zero near the meridional boundaries. On the other hand, the vertical velocity field shows some strong artifacts near the boundaries."
   ]
  },
  {
   "cell_type": "code",
   "execution_count": null,
   "metadata": {},
   "outputs": [],
   "source": [
    "%%opts Image[colorbar=True, width=600]\n",
    "\n",
    "w_around_blow_up = ds_2d.W500.sel(time=slice(time_divergence-1, time_divergence + .3))[::2]\n",
    "\n",
    "hv.Dataset(w_around_blow_up).to.image([\"x\", \"y\"], dynamic=True).redim.range(W500=(-.2 ,.2))"
   ]
  },
  {
   "cell_type": "markdown",
   "metadata": {},
   "source": [
    "A couple of things stand out:\n",
    "\n",
    "1. There is a very fast gibbs like wave propagating west along the southern boundary\n",
    "2. There is also a 2 Delta x type ringing near the northern boundary which is probably causing he blow.\n",
    "\n",
    "It is also kind of interesting to look at the absolute vorticity field."
   ]
  },
  {
   "cell_type": "code",
   "execution_count": null,
   "metadata": {},
   "outputs": [],
   "source": [
    "from uwnet.thermo import coriolis_ngaqua\n",
    "\n",
    "def vorcitity(u, v):\n",
    "    f = coriolis_ngaqua(u.y)\n",
    "    psi = u.differentiate('y') - v.differentiate('x')\n",
    "    psi.name = 'Vorticity'\n",
    "    return psi\n",
    "\n",
    "vort = vorcitity(ds_2d.U850, ds_2d.V850)"
   ]
  },
  {
   "cell_type": "code",
   "execution_count": null,
   "metadata": {},
   "outputs": [],
   "source": [
    "%%opts Image(cmap='RdBu_r')\n",
    "hv.Dataset(vort[::15]).to.image([\"x\", \"y\"], label=\"Relative Vort\")\\\n",
    ".redim.range(Vorticity=(-1e-4, 1e-4))"
   ]
  },
  {
   "cell_type": "markdown",
   "metadata": {},
   "source": [
    "One thing I note is that all of the cyclones are flung apart at the very start of the simulation, and they are blurred out very quickly by the hyperdiffusion. Then a ton of vorticity accumulates in the southern boundary. Here is the absolute vorticity. Indeed, there is a reversal in at the southern boundary."
   ]
  },
  {
   "cell_type": "code",
   "execution_count": null,
   "metadata": {},
   "outputs": [],
   "source": [
    "abs_vort = vort + coriolis_ngaqua(vort.y)\n",
    "abs_vort[140].mean('x').plot()\n",
    "plt.ylabel(\"Absolute Vorticity (1/s)\");"
   ]
  },
  {
   "cell_type": "markdown",
   "metadata": {},
   "source": [
    "# Imbalance of the model"
   ]
  },
  {
   "cell_type": "markdown",
   "metadata": {},
   "source": [
    "## Drift in PW Over the simulation"
   ]
  },
  {
   "cell_type": "markdown",
   "metadata": {},
   "source": [
    "There is also a substantial drift in the mean moisture. Here is the zonal mean change in PW from the initial condition for three time points."
   ]
  },
  {
   "cell_type": "code",
   "execution_count": null,
   "metadata": {},
   "outputs": [],
   "source": [
    "pw0 = ds_2d.PW.mean('x')[0]\n",
    "pw_anom = ds_2d.PW.mean('x') - pw0\n",
    "pw_anom[[10, 50, 140]].plot(hue='time')"
   ]
  },
  {
   "cell_type": "markdown",
   "metadata": {},
   "source": [
    "This shows that the tropics are drying out and the subtropics getting much moister."
   ]
  },
  {
   "cell_type": "markdown",
   "metadata": {},
   "source": [
    "## Semi-prognostic imbalance"
   ]
  },
  {
   "cell_type": "markdown",
   "metadata": {},
   "source": [
    "By the way, the model is somewhat imbalanced even when evaluated in semi-prognostic mode:"
   ]
  },
  {
   "cell_type": "code",
   "execution_count": null,
   "metadata": {},
   "outputs": [],
   "source": [
    "import torch\n",
    "\n",
    "model = torch.load(\"../models/188/5.pkl\")\n",
    "ds = xr.open_dataset(\"../data/processed/training.nc\")"
   ]
  },
  {
   "cell_type": "code",
   "execution_count": null,
   "metadata": {},
   "outputs": [],
   "source": [
    "output = model.call_with_xr(ds.isel(time=slice(0,None,20), step=0))"
   ]
  },
  {
   "cell_type": "code",
   "execution_count": null,
   "metadata": {},
   "outputs": [],
   "source": [
    "qt_mu = output.QT.mean(['x', 'time'])\n",
    "fqt_mu = ds.FQT.mean(['x', 'time'])*86400\n",
    "\n",
    "(fqt_mu+qt_mu).plot()\n",
    "\n",
    "imbalance = ((fqt_mu+qt_mu)*ds.layer_mass).sum('z')/1000"
   ]
  },
  {
   "cell_type": "markdown",
   "metadata": {},
   "source": [
    "I really should figure out how to make the scheme predict the right thing in the upper atmosphere."
   ]
  },
  {
   "cell_type": "code",
   "execution_count": null,
   "metadata": {},
   "outputs": [],
   "source": [
    "imbalance.plot()"
   ]
  },
  {
   "cell_type": "markdown",
   "metadata": {},
   "source": [
    "This net imbalance field lines up pretty well with the moistening/drying pattern we saw [above](#Drift-in-PW-Over-the-simulation)."
   ]
  }
 ],
 "metadata": {
  "kernelspec": {
   "display_name": "Python 3",
   "language": "python",
   "name": "python3"
  },
  "language_info": {
   "codemirror_mode": {
    "name": "ipython",
    "version": 3
   },
   "file_extension": ".py",
   "mimetype": "text/x-python",
   "name": "python",
   "nbconvert_exporter": "python",
   "pygments_lexer": "ipython3",
   "version": "3.6.6"
  }
 },
 "nbformat": 4,
 "nbformat_minor": 2
}
