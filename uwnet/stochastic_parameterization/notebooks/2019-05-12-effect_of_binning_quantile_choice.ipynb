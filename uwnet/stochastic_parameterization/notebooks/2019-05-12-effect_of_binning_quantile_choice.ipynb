{
 "cells": [
  {
   "cell_type": "code",
   "execution_count": 1,
   "metadata": {},
   "outputs": [
    {
     "ename": "ModuleNotFoundError",
     "evalue": "No module named 'uwnet.stochastic_parameterization.residual_stochastic_state_model'",
     "output_type": "error",
     "traceback": [
      "\u001b[0;31m---------------------------------------------------------------------------\u001b[0m",
      "\u001b[0;31mModuleNotFoundError\u001b[0m                       Traceback (most recent call last)",
      "\u001b[0;32m<ipython-input-1-6c1710ee3ec3>\u001b[0m in \u001b[0;36m<module>\u001b[0;34m\u001b[0m\n\u001b[0;32m----> 1\u001b[0;31m \u001b[0;32mfrom\u001b[0m \u001b[0muwnet\u001b[0m\u001b[0;34m.\u001b[0m\u001b[0mstochastic_parameterization\u001b[0m\u001b[0;34m.\u001b[0m\u001b[0mresidual_stochastic_state_model\u001b[0m \u001b[0;32mimport\u001b[0m \u001b[0mStochasticStateModel\u001b[0m\u001b[0;34m\u001b[0m\u001b[0;34m\u001b[0m\u001b[0m\n\u001b[0m\u001b[1;32m      2\u001b[0m from uwnet.stochastic_parameterization.examine_stochastic_state_model import (\n\u001b[1;32m      3\u001b[0m     \u001b[0mcompare_true_to_simulated_q1_q2_distributions\u001b[0m\u001b[0;34m,\u001b[0m\u001b[0;34m\u001b[0m\u001b[0;34m\u001b[0m\u001b[0m\n\u001b[1;32m      4\u001b[0m )\n\u001b[1;32m      5\u001b[0m \u001b[0mdir_\u001b[0m \u001b[0;34m=\u001b[0m \u001b[0;34m'/Users/stewart/projects/uwnet/uwnet/stochastic_parameterization/'\u001b[0m\u001b[0;34m\u001b[0m\u001b[0;34m\u001b[0m\u001b[0m\n",
      "\u001b[0;31mModuleNotFoundError\u001b[0m: No module named 'uwnet.stochastic_parameterization.residual_stochastic_state_model'"
     ]
    }
   ],
   "source": [
    "from uwnet.stochastic_parameterization.residual_stochastic_state_model import StochasticStateModel\n",
    "from uwnet.stochastic_parameterization.examine_stochastic_state_model import (\n",
    "    compare_true_to_simulated_q1_q2_distributions,\n",
    ")\n",
    "dir_ = '/Users/stewart/projects/uwnet/uwnet/stochastic_parameterization/'\n",
    "base_model_location = dir_ + 'full_model/1.pkl'\n",
    "ds_location = dir_ + 'training.nc'\n",
    "kwargs_ = {\n",
    "    'base_model_location': base_model_location,\n",
    "    'ds_location': ds_location,\n",
    "    'verbose': False}\n",
    "%matplotlib inline"
   ]
  },
  {
   "cell_type": "code",
   "execution_count": null,
   "metadata": {},
   "outputs": [],
   "source": [
    "model_1 = StochasticStateModel(\n",
    "    markov_process=True,\n",
    "    include_output_in_transition_model=False,\n",
    "    eta_predictors=default_eta_transitioner_predictors,\n",
    "    binning_quantiles=(0.06, 0.15, 0.30, 0.70, 0.85, 0.94, 1),\n",
    "    **kwargs_\n",
    ")\n",
    "model_1.train()\n",
    "compare_true_to_simulated_q1_q2_distributions(model_1, true_etas=False, title_prefix=True)\n",
    "print(model_1.binning_quantiles)"
   ]
  },
  {
   "cell_type": "code",
   "execution_count": null,
   "metadata": {},
   "outputs": [],
   "source": [
    "model_2 = StochasticStateModel(\n",
    "    markov_process=True,\n",
    "    include_output_in_transition_model=False,\n",
    "    eta_predictors=default_eta_transitioner_predictors,\n",
    "    binning_quantiles=(.01, .05, .15, .35, .5, .65, .85, .95, .99, 1),\n",
    "    **kwargs_\n",
    ")\n",
    "model_2.train()\n",
    "compare_true_to_simulated_q1_q2_distributions(model_2, true_etas=False, title_prefix=True)\n",
    "print(model_1.binning_quantiles)"
   ]
  },
  {
   "cell_type": "code",
   "execution_count": null,
   "metadata": {},
   "outputs": [],
   "source": []
  }
 ],
 "metadata": {
  "kernelspec": {
   "display_name": "Python 3",
   "language": "python",
   "name": "python3"
  },
  "language_info": {
   "codemirror_mode": {
    "name": "ipython",
    "version": 3
   },
   "file_extension": ".py",
   "mimetype": "text/x-python",
   "name": "python",
   "nbconvert_exporter": "python",
   "pygments_lexer": "ipython3",
   "version": "3.6.7"
  }
 },
 "nbformat": 4,
 "nbformat_minor": 2
}
