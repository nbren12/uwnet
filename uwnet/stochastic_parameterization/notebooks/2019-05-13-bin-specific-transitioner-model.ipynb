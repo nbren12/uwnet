{
 "cells": [
  {
   "cell_type": "code",
   "execution_count": 1,
   "metadata": {},
   "outputs": [
    {
     "name": "stderr",
     "output_type": "stream",
     "text": [
      "/anaconda3/envs/uwnet/lib/python3.6/site-packages/sklearn/linear_model/ridge.py:125: LinAlgWarning: Ill-conditioned matrix (rcond=1.91023e-10): result may not be accurate.\n",
      "  overwrite_a=True).T\n",
      "/anaconda3/envs/uwnet/lib/python3.6/site-packages/sklearn/linear_model/ridge.py:125: LinAlgWarning: Ill-conditioned matrix (rcond=1.58545e-10): result may not be accurate.\n",
      "  overwrite_a=True).T\n"
     ]
    }
   ],
   "source": [
    "from uwnet.stochastic_parameterization.stochastic_state_model import StochasticStateModel\n",
    "from uwnet.stochastic_parameterization.examine_stochastic_state_model import (\n",
    "    compare_true_to_simulated_q1_q2_distributions,\n",
    ")\n",
    "dir_ = '/Users/stewart/projects/uwnet/uwnet/stochastic_parameterization/'\n",
    "base_model_location = dir_ + 'full_model/1.pkl'\n",
    "ds_location = dir_ + 'training.nc'\n",
    "kwargs_ = {\n",
    "    'base_model_location': base_model_location,\n",
    "    'ds_location': ds_location,\n",
    "    'verbose': False}\n",
    "base_model = StochasticStateModel(\n",
    "    ds_location,\n",
    "    t_start=0,\n",
    "    t_stop=50,\n",
    "    base_model_location=base_model_location,\n",
    "    ds_location=ds_location,\n",
    "    verbose=False,\n",
    "    binning_quantiles=(1,),\n",
    ")\n",
    "base_model.train()\n",
    "%matplotlib inline"
   ]
  },
  {
   "cell_type": "code",
   "execution_count": null,
   "metadata": {},
   "outputs": [],
   "source": [
    "model_1 = StochasticStateModel(\n",
    "    multi_model_transitioner=True,\n",
    "    t_start=0, t_stop=100,\n",
    "    **kwargs_\n",
    ")\n",
    "model_1.train()\n",
    "compare_true_to_simulated_q1_q2_distributions(model_1, base_model, true_etas=False, only_tropics=True)"
   ]
  },
  {
   "cell_type": "code",
   "execution_count": null,
   "metadata": {},
   "outputs": [],
   "source": [
    "model_2 = StochasticStateModel(\n",
    "    multi_model_transitioner=False,\n",
    "    t_start=0, t_stop=100,\n",
    "    **kwargs_\n",
    ")\n",
    "model_2.train()\n",
    "compare_true_to_simulated_q1_q2_distributions(model_2, base_model, true_etas=False, only_tropics=True)"
   ]
  }
 ],
 "metadata": {
  "kernelspec": {
   "display_name": "Python 3",
   "language": "python",
   "name": "python3"
  },
  "language_info": {
   "codemirror_mode": {
    "name": "ipython",
    "version": 3
   },
   "file_extension": ".py",
   "mimetype": "text/x-python",
   "name": "python",
   "nbconvert_exporter": "python",
   "pygments_lexer": "ipython3",
   "version": "3.6.7"
  }
 },
 "nbformat": 4,
 "nbformat_minor": 2
}
